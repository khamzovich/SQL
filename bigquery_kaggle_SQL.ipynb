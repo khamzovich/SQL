{
  "nbformat": 4,
  "nbformat_minor": 0,
  "metadata": {
    "colab": {
      "name": "bigquery_kaggle_SQL.ipynb",
      "provenance": [],
      "collapsed_sections": [],
      "toc_visible": true,
      "authorship_tag": "ABX9TyP7s7cr+K+03tpLF+3jMY4p",
      "include_colab_link": true
    },
    "kernelspec": {
      "name": "python3",
      "display_name": "Python 3"
    },
    "language_info": {
      "name": "python"
    }
  },
  "cells": [
    {
      "cell_type": "markdown",
      "metadata": {
        "id": "view-in-github",
        "colab_type": "text"
      },
      "source": [
        "<a href=\"https://colab.research.google.com/github/khamzovich/SQL/blob/main/bigquery_kaggle_SQL.ipynb\" target=\"_parent\"><img src=\"https://colab.research.google.com/assets/colab-badge.svg\" alt=\"Open In Colab\"/></a>"
      ]
    },
    {
      "cell_type": "code",
      "metadata": {
        "colab": {
          "base_uri": "https://localhost:8080/"
        },
        "id": "531UjsX8tuSb",
        "outputId": "d1cbe81c-5152-4dd7-b5d9-4b8f30b8be61"
      },
      "source": [
        "from google.colab import auth\n",
        "auth.authenticate_user()\n",
        "print('Authenticated')"
      ],
      "execution_count": null,
      "outputs": [
        {
          "output_type": "stream",
          "name": "stdout",
          "text": [
            "Authenticated\n"
          ]
        }
      ]
    },
    {
      "cell_type": "code",
      "metadata": {
        "id": "rpv8Zr-0t0IV"
      },
      "source": [
        "from google.cloud import bigquery"
      ],
      "execution_count": null,
      "outputs": []
    },
    {
      "cell_type": "markdown",
      "metadata": {
        "id": "gVkuc4SwvROk"
      },
      "source": [
        "# [Getting Started With SQL and BigQuery](https://www.kaggle.com/dansbecker/getting-started-with-sql-and-bigquery/tutorial)"
      ]
    },
    {
      "cell_type": "markdown",
      "metadata": {
        "id": "A9iuuVftw9bT"
      },
      "source": [
        "## Introduction"
      ]
    },
    {
      "cell_type": "markdown",
      "metadata": {
        "id": "oqzKrrreyfx_"
      },
      "source": [
        "Create your own project on [Google Cloud Platform console](https://console.cloud.google.com/)"
      ]
    },
    {
      "cell_type": "code",
      "metadata": {
        "id": "uehc4u0ut-3e"
      },
      "source": [
        "# Create a \"Client\" object\n",
        "project_id = 'eg-project-333210'  # add your project id from Google Cloud Platform console\n",
        "client = bigquery.Client(project=project_id)"
      ],
      "execution_count": null,
      "outputs": []
    },
    {
      "cell_type": "code",
      "metadata": {
        "id": "7OXGB-mvt-K1"
      },
      "source": [
        "# Construct a reference to the \"hacker_news\" dataset\n",
        "dataset_ref = client.dataset(\"hacker_news\", project=\"bigquery-public-data\")\n",
        "\n",
        "# API request - fetch the dataset\n",
        "dataset = client.get_dataset(dataset_ref)"
      ],
      "execution_count": null,
      "outputs": []
    },
    {
      "cell_type": "code",
      "metadata": {
        "colab": {
          "base_uri": "https://localhost:8080/"
        },
        "id": "-f1B57aouICL",
        "outputId": "fd0ae8b8-2589-4dd1-aa11-bb5a8c85e8b9"
      },
      "source": [
        "# List all the tables in the \"hacker_news\" dataset\n",
        "tables = list(client.list_tables(dataset))\n",
        "\n",
        "# Print names of all tables in the dataset (there are four!)\n",
        "for table in tables:  \n",
        "    print(table.table_id)"
      ],
      "execution_count": null,
      "outputs": [
        {
          "output_type": "stream",
          "name": "stdout",
          "text": [
            "comments\n",
            "full\n",
            "full_201510\n",
            "stories\n"
          ]
        }
      ]
    },
    {
      "cell_type": "code",
      "metadata": {
        "id": "n1RZSirkufcE"
      },
      "source": [
        "# Construct a reference to the \"full\" table\n",
        "table_ref = dataset_ref.table(\"full\")\n",
        "\n",
        "# API request - fetch the table\n",
        "table = client.get_table(table_ref)"
      ],
      "execution_count": null,
      "outputs": []
    },
    {
      "cell_type": "code",
      "metadata": {
        "colab": {
          "base_uri": "https://localhost:8080/"
        },
        "id": "4eJTHE8muiYp",
        "outputId": "72f06eb2-edd8-41fb-971b-8288ed01bacd"
      },
      "source": [
        "# Print information on all the columns in the \"full\" table in the \"hacker_news\" dataset\n",
        "table.schema"
      ],
      "execution_count": null,
      "outputs": [
        {
          "output_type": "execute_result",
          "data": {
            "text/plain": [
              "[SchemaField('title', 'STRING', 'NULLABLE', 'Story title', ()),\n",
              " SchemaField('url', 'STRING', 'NULLABLE', 'Story url', ()),\n",
              " SchemaField('text', 'STRING', 'NULLABLE', 'Story or comment text', ()),\n",
              " SchemaField('dead', 'BOOLEAN', 'NULLABLE', 'Is dead?', ()),\n",
              " SchemaField('by', 'STRING', 'NULLABLE', \"The username of the item's author.\", ()),\n",
              " SchemaField('score', 'INTEGER', 'NULLABLE', 'Story score', ()),\n",
              " SchemaField('time', 'INTEGER', 'NULLABLE', 'Unix time', ()),\n",
              " SchemaField('timestamp', 'TIMESTAMP', 'NULLABLE', 'Timestamp for the unix time', ()),\n",
              " SchemaField('type', 'STRING', 'NULLABLE', 'Type of details (comment, comment_ranking, poll, story, job, pollopt)', ()),\n",
              " SchemaField('id', 'INTEGER', 'NULLABLE', \"The item's unique id.\", ()),\n",
              " SchemaField('parent', 'INTEGER', 'NULLABLE', 'Parent comment ID', ()),\n",
              " SchemaField('descendants', 'INTEGER', 'NULLABLE', 'Number of story or poll descendants', ()),\n",
              " SchemaField('ranking', 'INTEGER', 'NULLABLE', 'Comment ranking', ()),\n",
              " SchemaField('deleted', 'BOOLEAN', 'NULLABLE', 'Is deleted?', ())]"
            ]
          },
          "metadata": {},
          "execution_count": 52
        }
      ]
    },
    {
      "cell_type": "code",
      "metadata": {
        "colab": {
          "base_uri": "https://localhost:8080/",
          "height": 486
        },
        "id": "5Gk2i6a2un_j",
        "outputId": "6269e81f-cc80-475f-eef9-6c1378bdb27d"
      },
      "source": [
        "# Preview the first five lines of the \"full\" table\n",
        "client.list_rows(table, max_results=5).to_dataframe()"
      ],
      "execution_count": null,
      "outputs": [
        {
          "output_type": "execute_result",
          "data": {
            "text/html": [
              "<div>\n",
              "<style scoped>\n",
              "    .dataframe tbody tr th:only-of-type {\n",
              "        vertical-align: middle;\n",
              "    }\n",
              "\n",
              "    .dataframe tbody tr th {\n",
              "        vertical-align: top;\n",
              "    }\n",
              "\n",
              "    .dataframe thead th {\n",
              "        text-align: right;\n",
              "    }\n",
              "</style>\n",
              "<table border=\"1\" class=\"dataframe\">\n",
              "  <thead>\n",
              "    <tr style=\"text-align: right;\">\n",
              "      <th></th>\n",
              "      <th>title</th>\n",
              "      <th>url</th>\n",
              "      <th>text</th>\n",
              "      <th>dead</th>\n",
              "      <th>by</th>\n",
              "      <th>score</th>\n",
              "      <th>time</th>\n",
              "      <th>timestamp</th>\n",
              "      <th>type</th>\n",
              "      <th>id</th>\n",
              "      <th>parent</th>\n",
              "      <th>descendants</th>\n",
              "      <th>ranking</th>\n",
              "      <th>deleted</th>\n",
              "    </tr>\n",
              "  </thead>\n",
              "  <tbody>\n",
              "    <tr>\n",
              "      <th>0</th>\n",
              "      <td>None</td>\n",
              "      <td>None</td>\n",
              "      <td>&lt;i&gt;I do not know what the &amp;quot;wet bulb&amp;quot;...</td>\n",
              "      <td>None</td>\n",
              "      <td>dagw</td>\n",
              "      <td>None</td>\n",
              "      <td>1631703647</td>\n",
              "      <td>2021-09-15 11:00:47+00:00</td>\n",
              "      <td>comment</td>\n",
              "      <td>28537574</td>\n",
              "      <td>28533721</td>\n",
              "      <td>None</td>\n",
              "      <td>None</td>\n",
              "      <td>None</td>\n",
              "    </tr>\n",
              "    <tr>\n",
              "      <th>1</th>\n",
              "      <td>None</td>\n",
              "      <td>None</td>\n",
              "      <td>&amp;gt; To reply as the devils advocate to this ...</td>\n",
              "      <td>None</td>\n",
              "      <td>johnchristopher</td>\n",
              "      <td>None</td>\n",
              "      <td>1631703707</td>\n",
              "      <td>2021-09-15 11:01:47+00:00</td>\n",
              "      <td>comment</td>\n",
              "      <td>28537577</td>\n",
              "      <td>28533015</td>\n",
              "      <td>None</td>\n",
              "      <td>None</td>\n",
              "      <td>None</td>\n",
              "    </tr>\n",
              "    <tr>\n",
              "      <th>2</th>\n",
              "      <td>None</td>\n",
              "      <td>None</td>\n",
              "      <td>Because it’s building a threat narrative. Anyo...</td>\n",
              "      <td>None</td>\n",
              "      <td>thatjoeoverthr</td>\n",
              "      <td>None</td>\n",
              "      <td>1631703698</td>\n",
              "      <td>2021-09-15 11:01:38+00:00</td>\n",
              "      <td>comment</td>\n",
              "      <td>28537576</td>\n",
              "      <td>28535767</td>\n",
              "      <td>None</td>\n",
              "      <td>None</td>\n",
              "      <td>None</td>\n",
              "    </tr>\n",
              "    <tr>\n",
              "      <th>3</th>\n",
              "      <td>None</td>\n",
              "      <td>None</td>\n",
              "      <td>I used it at a previous startup which got up t...</td>\n",
              "      <td>None</td>\n",
              "      <td>scrollaway</td>\n",
              "      <td>None</td>\n",
              "      <td>1631703622</td>\n",
              "      <td>2021-09-15 11:00:22+00:00</td>\n",
              "      <td>comment</td>\n",
              "      <td>28537571</td>\n",
              "      <td>28537159</td>\n",
              "      <td>None</td>\n",
              "      <td>None</td>\n",
              "      <td>None</td>\n",
              "    </tr>\n",
              "    <tr>\n",
              "      <th>4</th>\n",
              "      <td>None</td>\n",
              "      <td>None</td>\n",
              "      <td>I makes sense to me. The &amp;quot;computer scienc...</td>\n",
              "      <td>None</td>\n",
              "      <td>progre</td>\n",
              "      <td>None</td>\n",
              "      <td>1631703620</td>\n",
              "      <td>2021-09-15 11:00:20+00:00</td>\n",
              "      <td>comment</td>\n",
              "      <td>28537570</td>\n",
              "      <td>28536905</td>\n",
              "      <td>None</td>\n",
              "      <td>None</td>\n",
              "      <td>None</td>\n",
              "    </tr>\n",
              "  </tbody>\n",
              "</table>\n",
              "</div>"
            ],
            "text/plain": [
              "  title   url  ... ranking deleted\n",
              "0  None  None  ...    None    None\n",
              "1  None  None  ...    None    None\n",
              "2  None  None  ...    None    None\n",
              "3  None  None  ...    None    None\n",
              "4  None  None  ...    None    None\n",
              "\n",
              "[5 rows x 14 columns]"
            ]
          },
          "metadata": {},
          "execution_count": 53
        }
      ]
    },
    {
      "cell_type": "code",
      "metadata": {
        "colab": {
          "base_uri": "https://localhost:8080/",
          "height": 206
        },
        "id": "l_vLyUSTw2gM",
        "outputId": "ae965e8a-4285-49b5-ff37-cb506a333dd0"
      },
      "source": [
        "# Preview the first five entries in the \"by\" column of the \"full\" table\n",
        "client.list_rows(table, selected_fields=table.schema[:1], max_results=5).to_dataframe()"
      ],
      "execution_count": null,
      "outputs": [
        {
          "output_type": "execute_result",
          "data": {
            "text/html": [
              "<div>\n",
              "<style scoped>\n",
              "    .dataframe tbody tr th:only-of-type {\n",
              "        vertical-align: middle;\n",
              "    }\n",
              "\n",
              "    .dataframe tbody tr th {\n",
              "        vertical-align: top;\n",
              "    }\n",
              "\n",
              "    .dataframe thead th {\n",
              "        text-align: right;\n",
              "    }\n",
              "</style>\n",
              "<table border=\"1\" class=\"dataframe\">\n",
              "  <thead>\n",
              "    <tr style=\"text-align: right;\">\n",
              "      <th></th>\n",
              "      <th>title</th>\n",
              "    </tr>\n",
              "  </thead>\n",
              "  <tbody>\n",
              "    <tr>\n",
              "      <th>0</th>\n",
              "      <td>None</td>\n",
              "    </tr>\n",
              "    <tr>\n",
              "      <th>1</th>\n",
              "      <td>None</td>\n",
              "    </tr>\n",
              "    <tr>\n",
              "      <th>2</th>\n",
              "      <td>None</td>\n",
              "    </tr>\n",
              "    <tr>\n",
              "      <th>3</th>\n",
              "      <td>None</td>\n",
              "    </tr>\n",
              "    <tr>\n",
              "      <th>4</th>\n",
              "      <td>None</td>\n",
              "    </tr>\n",
              "  </tbody>\n",
              "</table>\n",
              "</div>"
            ],
            "text/plain": [
              "  title\n",
              "0  None\n",
              "1  None\n",
              "2  None\n",
              "3  None\n",
              "4  None"
            ]
          },
          "metadata": {},
          "execution_count": 54
        }
      ]
    },
    {
      "cell_type": "markdown",
      "metadata": {
        "id": "B1BpLCEVxDYP"
      },
      "source": [
        "## Exercises 1"
      ]
    },
    {
      "cell_type": "markdown",
      "metadata": {
        "id": "bCE2FtCjxfTq"
      },
      "source": [
        "How many tables are in the `Chicago Crime` dataset?"
      ]
    },
    {
      "cell_type": "code",
      "metadata": {
        "id": "lP-bdtUexFyW"
      },
      "source": [
        "# Construct a reference to the \"chicago_crime\" dataset\n",
        "dataset_ref = client.dataset(\"chicago_crime\", project=\"bigquery-public-data\")\n",
        "\n",
        "# API request - fetch the dataset\n",
        "dataset = client.get_dataset(dataset_ref)"
      ],
      "execution_count": null,
      "outputs": []
    },
    {
      "cell_type": "markdown",
      "metadata": {
        "id": "OektsvtuxLg5"
      },
      "source": [
        "### 1.1 Count tables in the dataset"
      ]
    },
    {
      "cell_type": "code",
      "metadata": {
        "colab": {
          "base_uri": "https://localhost:8080/"
        },
        "id": "8WJrTdcixRi2",
        "outputId": "ffc8e548-fa10-4980-eadc-ab77de974b27"
      },
      "source": [
        "tables = list(client.list_tables(dataset))\n",
        "\n",
        "for table in tables:\n",
        "    print(table.table_id)"
      ],
      "execution_count": null,
      "outputs": [
        {
          "output_type": "stream",
          "name": "stdout",
          "text": [
            "crime\n",
            "snapshot-of-crime\n"
          ]
        }
      ]
    },
    {
      "cell_type": "code",
      "metadata": {
        "colab": {
          "base_uri": "https://localhost:8080/"
        },
        "id": "JXJZW7P-xWIj",
        "outputId": "1aff2702-b779-4c9d-abc2-f88a21b79c22"
      },
      "source": [
        "num_tables = len(tables)\n",
        "num_tables"
      ],
      "execution_count": null,
      "outputs": [
        {
          "output_type": "execute_result",
          "data": {
            "text/plain": [
              "2"
            ]
          },
          "metadata": {},
          "execution_count": 57
        }
      ]
    },
    {
      "cell_type": "markdown",
      "metadata": {
        "id": "i205rtcBxZ6k"
      },
      "source": [
        "### 1.2 Explore the table schema"
      ]
    },
    {
      "cell_type": "markdown",
      "metadata": {
        "id": "jNzJ9Pb1yH49"
      },
      "source": [
        "How many columns in the `crime table` have `TIMESTAMP` data?"
      ]
    },
    {
      "cell_type": "code",
      "metadata": {
        "colab": {
          "base_uri": "https://localhost:8080/"
        },
        "id": "fHxqVAJJyMPp",
        "outputId": "dc2801bd-f88d-4112-feef-71512f291a31"
      },
      "source": [
        "# Construct a reference to the \"full\" table\n",
        "table_ref = dataset_ref.table(\"crime\")\n",
        "\n",
        "# API request - fetch the table\n",
        "table = client.get_table(table_ref)\n",
        "\n",
        "# Write the code to figure out the answer\n",
        "table_schema = table.schema\n",
        "\n",
        "print([i.field_type for i in table_schema])"
      ],
      "execution_count": null,
      "outputs": [
        {
          "output_type": "stream",
          "name": "stdout",
          "text": [
            "['INTEGER', 'STRING', 'TIMESTAMP', 'STRING', 'STRING', 'STRING', 'STRING', 'STRING', 'BOOLEAN', 'BOOLEAN', 'INTEGER', 'INTEGER', 'INTEGER', 'INTEGER', 'STRING', 'FLOAT', 'FLOAT', 'INTEGER', 'TIMESTAMP', 'FLOAT', 'FLOAT', 'STRING']\n"
          ]
        }
      ]
    },
    {
      "cell_type": "code",
      "metadata": {
        "colab": {
          "base_uri": "https://localhost:8080/"
        },
        "id": "lOcd0m3zyPE0",
        "outputId": "c0a9d187-cf07-43bc-f933-fda7ab0a6717"
      },
      "source": [
        "num_timestamp_fields = [i.field_type for i in table_schema].count('TIMESTAMP')\n",
        "num_timestamp_fields"
      ],
      "execution_count": null,
      "outputs": [
        {
          "output_type": "execute_result",
          "data": {
            "text/plain": [
              "2"
            ]
          },
          "metadata": {},
          "execution_count": 59
        }
      ]
    },
    {
      "cell_type": "markdown",
      "metadata": {
        "id": "I-rP78ADyaWu"
      },
      "source": [
        "### 1.3 Create a crime map"
      ]
    },
    {
      "cell_type": "markdown",
      "metadata": {
        "id": "wfZfQ9eCzTiK"
      },
      "source": [
        "If you wanted to create a map with a dot at the location of each crime, what are the names of the two fields you likely need to pull out of the crime table to plot the crimes on a map?"
      ]
    },
    {
      "cell_type": "code",
      "metadata": {
        "colab": {
          "base_uri": "https://localhost:8080/"
        },
        "id": "7wLf90qKzYuv",
        "outputId": "0c3d9be3-5995-4b13-a2f5-5ab8926f3d6c"
      },
      "source": [
        "for i in table_schema:\n",
        "    print(i.name)"
      ],
      "execution_count": null,
      "outputs": [
        {
          "output_type": "stream",
          "name": "stdout",
          "text": [
            "unique_key\n",
            "case_number\n",
            "date\n",
            "block\n",
            "iucr\n",
            "primary_type\n",
            "description\n",
            "location_description\n",
            "arrest\n",
            "domestic\n",
            "beat\n",
            "district\n",
            "ward\n",
            "community_area\n",
            "fbi_code\n",
            "x_coordinate\n",
            "y_coordinate\n",
            "year\n",
            "updated_on\n",
            "latitude\n",
            "longitude\n",
            "location\n"
          ]
        }
      ]
    },
    {
      "cell_type": "code",
      "metadata": {
        "id": "QX8CEDu2z9Ew"
      },
      "source": [
        "fields_for_plotting = ['latitude', 'longitude']"
      ],
      "execution_count": null,
      "outputs": []
    },
    {
      "cell_type": "markdown",
      "metadata": {
        "id": "57f-atXv0J0M"
      },
      "source": [
        "## Select, From & Where"
      ]
    },
    {
      "cell_type": "markdown",
      "metadata": {
        "id": "_f3KJIye07Gx"
      },
      "source": [
        "#### Example: What are all the U.S. cities in the OpenAQ dataset?"
      ]
    },
    {
      "cell_type": "code",
      "metadata": {
        "colab": {
          "base_uri": "https://localhost:8080/"
        },
        "id": "NxJgiMJa0aAw",
        "outputId": "8ff3f39a-8a0f-4b92-e4b1-94ff73da712b"
      },
      "source": [
        "# Construct a reference to the \"openaq\" dataset\n",
        "dataset_ref = client.dataset(\"openaq\", project=\"bigquery-public-data\")\n",
        "\n",
        "# API request - fetch the dataset\n",
        "dataset = client.get_dataset(dataset_ref)\n",
        "\n",
        "# List all the tables in the \"openaq\" dataset\n",
        "tables = list(client.list_tables(dataset))\n",
        "\n",
        "# Print names of all tables in the dataset (there's only one!)\n",
        "for table in tables:  \n",
        "    print(table.table_id)"
      ],
      "execution_count": null,
      "outputs": [
        {
          "output_type": "stream",
          "name": "stdout",
          "text": [
            "global_air_quality\n"
          ]
        }
      ]
    },
    {
      "cell_type": "code",
      "metadata": {
        "colab": {
          "base_uri": "https://localhost:8080/",
          "height": 380
        },
        "id": "u3ZmZf9B0mgu",
        "outputId": "5882015d-3c6b-49d1-e6e9-1038e0c63fe3"
      },
      "source": [
        "# Construct a reference to the \"global_air_quality\" table\n",
        "table_ref = dataset_ref.table(\"global_air_quality\")\n",
        "\n",
        "# API request - fetch the table\n",
        "table = client.get_table(table_ref)\n",
        "\n",
        "# Preview the first five lines of the \"global_air_quality\" table\n",
        "client.list_rows(table, max_results=5).to_dataframe()"
      ],
      "execution_count": null,
      "outputs": [
        {
          "output_type": "execute_result",
          "data": {
            "text/html": [
              "<div>\n",
              "<style scoped>\n",
              "    .dataframe tbody tr th:only-of-type {\n",
              "        vertical-align: middle;\n",
              "    }\n",
              "\n",
              "    .dataframe tbody tr th {\n",
              "        vertical-align: top;\n",
              "    }\n",
              "\n",
              "    .dataframe thead th {\n",
              "        text-align: right;\n",
              "    }\n",
              "</style>\n",
              "<table border=\"1\" class=\"dataframe\">\n",
              "  <thead>\n",
              "    <tr style=\"text-align: right;\">\n",
              "      <th></th>\n",
              "      <th>location</th>\n",
              "      <th>city</th>\n",
              "      <th>country</th>\n",
              "      <th>pollutant</th>\n",
              "      <th>value</th>\n",
              "      <th>timestamp</th>\n",
              "      <th>unit</th>\n",
              "      <th>source_name</th>\n",
              "      <th>latitude</th>\n",
              "      <th>longitude</th>\n",
              "      <th>averaged_over_in_hours</th>\n",
              "    </tr>\n",
              "  </thead>\n",
              "  <tbody>\n",
              "    <tr>\n",
              "      <th>0</th>\n",
              "      <td>BTM Layout, Bengaluru - KSPCB</td>\n",
              "      <td>Bengaluru</td>\n",
              "      <td>IN</td>\n",
              "      <td>co</td>\n",
              "      <td>910.00</td>\n",
              "      <td>2018-02-22 03:00:00+00:00</td>\n",
              "      <td>µg/m³</td>\n",
              "      <td>CPCB</td>\n",
              "      <td>12.912811</td>\n",
              "      <td>77.60922</td>\n",
              "      <td>0.25</td>\n",
              "    </tr>\n",
              "    <tr>\n",
              "      <th>1</th>\n",
              "      <td>BTM Layout, Bengaluru - KSPCB</td>\n",
              "      <td>Bengaluru</td>\n",
              "      <td>IN</td>\n",
              "      <td>no2</td>\n",
              "      <td>131.87</td>\n",
              "      <td>2018-02-22 03:00:00+00:00</td>\n",
              "      <td>µg/m³</td>\n",
              "      <td>CPCB</td>\n",
              "      <td>12.912811</td>\n",
              "      <td>77.60922</td>\n",
              "      <td>0.25</td>\n",
              "    </tr>\n",
              "    <tr>\n",
              "      <th>2</th>\n",
              "      <td>BTM Layout, Bengaluru - KSPCB</td>\n",
              "      <td>Bengaluru</td>\n",
              "      <td>IN</td>\n",
              "      <td>o3</td>\n",
              "      <td>15.57</td>\n",
              "      <td>2018-02-22 03:00:00+00:00</td>\n",
              "      <td>µg/m³</td>\n",
              "      <td>CPCB</td>\n",
              "      <td>12.912811</td>\n",
              "      <td>77.60922</td>\n",
              "      <td>0.25</td>\n",
              "    </tr>\n",
              "    <tr>\n",
              "      <th>3</th>\n",
              "      <td>BTM Layout, Bengaluru - KSPCB</td>\n",
              "      <td>Bengaluru</td>\n",
              "      <td>IN</td>\n",
              "      <td>pm25</td>\n",
              "      <td>45.62</td>\n",
              "      <td>2018-02-22 03:00:00+00:00</td>\n",
              "      <td>µg/m³</td>\n",
              "      <td>CPCB</td>\n",
              "      <td>12.912811</td>\n",
              "      <td>77.60922</td>\n",
              "      <td>0.25</td>\n",
              "    </tr>\n",
              "    <tr>\n",
              "      <th>4</th>\n",
              "      <td>BTM Layout, Bengaluru - KSPCB</td>\n",
              "      <td>Bengaluru</td>\n",
              "      <td>IN</td>\n",
              "      <td>so2</td>\n",
              "      <td>4.49</td>\n",
              "      <td>2018-02-22 03:00:00+00:00</td>\n",
              "      <td>µg/m³</td>\n",
              "      <td>CPCB</td>\n",
              "      <td>12.912811</td>\n",
              "      <td>77.60922</td>\n",
              "      <td>0.25</td>\n",
              "    </tr>\n",
              "  </tbody>\n",
              "</table>\n",
              "</div>"
            ],
            "text/plain": [
              "                        location       city  ... longitude averaged_over_in_hours\n",
              "0  BTM Layout, Bengaluru - KSPCB  Bengaluru  ...  77.60922                   0.25\n",
              "1  BTM Layout, Bengaluru - KSPCB  Bengaluru  ...  77.60922                   0.25\n",
              "2  BTM Layout, Bengaluru - KSPCB  Bengaluru  ...  77.60922                   0.25\n",
              "3  BTM Layout, Bengaluru - KSPCB  Bengaluru  ...  77.60922                   0.25\n",
              "4  BTM Layout, Bengaluru - KSPCB  Bengaluru  ...  77.60922                   0.25\n",
              "\n",
              "[5 rows x 11 columns]"
            ]
          },
          "metadata": {},
          "execution_count": 63
        }
      ]
    },
    {
      "cell_type": "code",
      "metadata": {
        "id": "I2F3ngIz0vDx"
      },
      "source": [
        "# Query to select all the items from the \"city\" column where the \"country\" column is 'US'\n",
        "query = \"\"\"\n",
        "        SELECT city\n",
        "        FROM `bigquery-public-data.openaq.global_air_quality`\n",
        "        WHERE country = 'US'\n",
        "        \"\"\""
      ],
      "execution_count": null,
      "outputs": []
    },
    {
      "cell_type": "code",
      "metadata": {
        "id": "T4UCNQ1M1AKZ"
      },
      "source": [
        "# Set up the query\n",
        "query_job = client.query(query)"
      ],
      "execution_count": null,
      "outputs": []
    },
    {
      "cell_type": "code",
      "metadata": {
        "id": "b7UdhnPm1F0S"
      },
      "source": [
        "# API request - run the query, and return a pandas DataFrame\n",
        "us_cities = query_job.to_dataframe()"
      ],
      "execution_count": null,
      "outputs": []
    },
    {
      "cell_type": "code",
      "metadata": {
        "colab": {
          "base_uri": "https://localhost:8080/"
        },
        "id": "h4onvrb21Inm",
        "outputId": "0c2bb27e-abe9-4efd-f4fc-79f2b8f0922b"
      },
      "source": [
        "# What five cities have the most measurements?\n",
        "us_cities.city.value_counts().head()"
      ],
      "execution_count": null,
      "outputs": [
        {
          "output_type": "execute_result",
          "data": {
            "text/plain": [
              "Phoenix-Mesa-Scottsdale                     88\n",
              "Houston                                     82\n",
              "Los Angeles-Long Beach-Santa Ana            68\n",
              "New York-Northern New Jersey-Long Island    60\n",
              "Riverside-San Bernardino-Ontario            60\n",
              "Name: city, dtype: int64"
            ]
          },
          "metadata": {},
          "execution_count": 67
        }
      ]
    },
    {
      "cell_type": "markdown",
      "metadata": {
        "id": "tnlCk21J1X21"
      },
      "source": [
        "If you want multiple columns, you can select them with a comma between the names\n",
        "\n",
        "```\n",
        "query = \"\"\"\n",
        "        SELECT city, country\n",
        "        FROM `bigquery-public-data.openaq.global_air_quality`\n",
        "        WHERE country = 'US'\n",
        "        \"\"\"\n",
        "```\n",
        "\n",
        "You can select all columns with a `*` like this:\n",
        "\n",
        "```\n",
        "query = \"\"\"\n",
        "        SELECT *\n",
        "        FROM `bigquery-public-data.openaq.global_air_quality`\n",
        "        WHERE country = 'US'\n",
        "        \"\"\"\n",
        "```"
      ]
    },
    {
      "cell_type": "markdown",
      "metadata": {
        "id": "tP1L3DuU1kT6"
      },
      "source": [
        "#### Working with big datasets"
      ]
    },
    {
      "cell_type": "code",
      "metadata": {
        "colab": {
          "base_uri": "https://localhost:8080/"
        },
        "id": "MNhooVzU1woO",
        "outputId": "d5f13611-0cf9-4d04-dd4c-083fdff973dc"
      },
      "source": [
        "# Query to get the score column from every row where the type column has value \"job\"\n",
        "query = \"\"\"\n",
        "        SELECT score, title\n",
        "        FROM `bigquery-public-data.hacker_news.full`\n",
        "        WHERE type = \"job\" \n",
        "        \"\"\"\n",
        "\n",
        "# Create a QueryJobConfig object to estimate size of query without running it\n",
        "dry_run_config = bigquery.QueryJobConfig(dry_run=True)\n",
        "\n",
        "# API request - dry run query to estimate costs\n",
        "dry_run_query_job = client.query(query, job_config=dry_run_config)\n",
        "\n",
        "print(\"This query will process {} bytes.\".format(dry_run_query_job.total_bytes_processed))"
      ],
      "execution_count": null,
      "outputs": [
        {
          "output_type": "stream",
          "name": "stdout",
          "text": [
            "This query will process 496972170 bytes.\n"
          ]
        }
      ]
    },
    {
      "cell_type": "markdown",
      "metadata": {
        "id": "MKqHKqhH1_9W"
      },
      "source": [
        "You can also specify a parameter when running the query to limit how much data you are willing to scan. Here's an example with a low limit."
      ]
    },
    {
      "cell_type": "code",
      "metadata": {
        "colab": {
          "base_uri": "https://localhost:8080/"
        },
        "id": "ix_TGNbT2Aal",
        "outputId": "44090442-05ef-437c-aacb-505131ce251b"
      },
      "source": [
        "# Only run the query if it's less than 1 GB\n",
        "ONE_GB = 1000*1000*1000\n",
        "safe_config = bigquery.QueryJobConfig(maximum_bytes_billed=ONE_GB)\n",
        "\n",
        "# Set up the query (will only run if it's less than 1 GB)\n",
        "safe_query_job = client.query(query, job_config=safe_config)\n",
        "\n",
        "# API request - try to run the query, and return a pandas DataFrame\n",
        "job_post_scores = safe_query_job.to_dataframe()\n",
        "\n",
        "# Print average score for job posts\n",
        "job_post_scores.score.mean()"
      ],
      "execution_count": null,
      "outputs": [
        {
          "output_type": "execute_result",
          "data": {
            "text/plain": [
              "1.7806442517797985"
            ]
          },
          "metadata": {},
          "execution_count": 69
        }
      ]
    },
    {
      "cell_type": "markdown",
      "metadata": {
        "id": "CGU_R6xv3I_p"
      },
      "source": [
        "## Exercises 2"
      ]
    },
    {
      "cell_type": "code",
      "metadata": {
        "colab": {
          "base_uri": "https://localhost:8080/",
          "height": 380
        },
        "id": "Wf7bdXxF3Zvs",
        "outputId": "b6f38a23-22cb-4134-f963-56a8d2a73612"
      },
      "source": [
        "# Construct a reference to the \"openaq\" dataset\n",
        "dataset_ref = client.dataset(\"openaq\", project=\"bigquery-public-data\")\n",
        "\n",
        "# API request - fetch the dataset\n",
        "dataset = client.get_dataset(dataset_ref)\n",
        "\n",
        "# Construct a reference to the \"global_air_quality\" table\n",
        "table_ref = dataset_ref.table(\"global_air_quality\")\n",
        "\n",
        "# API request - fetch the table\n",
        "table = client.get_table(table_ref)\n",
        "\n",
        "# Preview the first five lines of the \"global_air_quality\" table\n",
        "client.list_rows(table, max_results=5).to_dataframe()"
      ],
      "execution_count": null,
      "outputs": [
        {
          "output_type": "execute_result",
          "data": {
            "text/html": [
              "<div>\n",
              "<style scoped>\n",
              "    .dataframe tbody tr th:only-of-type {\n",
              "        vertical-align: middle;\n",
              "    }\n",
              "\n",
              "    .dataframe tbody tr th {\n",
              "        vertical-align: top;\n",
              "    }\n",
              "\n",
              "    .dataframe thead th {\n",
              "        text-align: right;\n",
              "    }\n",
              "</style>\n",
              "<table border=\"1\" class=\"dataframe\">\n",
              "  <thead>\n",
              "    <tr style=\"text-align: right;\">\n",
              "      <th></th>\n",
              "      <th>location</th>\n",
              "      <th>city</th>\n",
              "      <th>country</th>\n",
              "      <th>pollutant</th>\n",
              "      <th>value</th>\n",
              "      <th>timestamp</th>\n",
              "      <th>unit</th>\n",
              "      <th>source_name</th>\n",
              "      <th>latitude</th>\n",
              "      <th>longitude</th>\n",
              "      <th>averaged_over_in_hours</th>\n",
              "    </tr>\n",
              "  </thead>\n",
              "  <tbody>\n",
              "    <tr>\n",
              "      <th>0</th>\n",
              "      <td>BTM Layout, Bengaluru - KSPCB</td>\n",
              "      <td>Bengaluru</td>\n",
              "      <td>IN</td>\n",
              "      <td>co</td>\n",
              "      <td>910.00</td>\n",
              "      <td>2018-02-22 03:00:00+00:00</td>\n",
              "      <td>µg/m³</td>\n",
              "      <td>CPCB</td>\n",
              "      <td>12.912811</td>\n",
              "      <td>77.60922</td>\n",
              "      <td>0.25</td>\n",
              "    </tr>\n",
              "    <tr>\n",
              "      <th>1</th>\n",
              "      <td>BTM Layout, Bengaluru - KSPCB</td>\n",
              "      <td>Bengaluru</td>\n",
              "      <td>IN</td>\n",
              "      <td>no2</td>\n",
              "      <td>131.87</td>\n",
              "      <td>2018-02-22 03:00:00+00:00</td>\n",
              "      <td>µg/m³</td>\n",
              "      <td>CPCB</td>\n",
              "      <td>12.912811</td>\n",
              "      <td>77.60922</td>\n",
              "      <td>0.25</td>\n",
              "    </tr>\n",
              "    <tr>\n",
              "      <th>2</th>\n",
              "      <td>BTM Layout, Bengaluru - KSPCB</td>\n",
              "      <td>Bengaluru</td>\n",
              "      <td>IN</td>\n",
              "      <td>o3</td>\n",
              "      <td>15.57</td>\n",
              "      <td>2018-02-22 03:00:00+00:00</td>\n",
              "      <td>µg/m³</td>\n",
              "      <td>CPCB</td>\n",
              "      <td>12.912811</td>\n",
              "      <td>77.60922</td>\n",
              "      <td>0.25</td>\n",
              "    </tr>\n",
              "    <tr>\n",
              "      <th>3</th>\n",
              "      <td>BTM Layout, Bengaluru - KSPCB</td>\n",
              "      <td>Bengaluru</td>\n",
              "      <td>IN</td>\n",
              "      <td>pm25</td>\n",
              "      <td>45.62</td>\n",
              "      <td>2018-02-22 03:00:00+00:00</td>\n",
              "      <td>µg/m³</td>\n",
              "      <td>CPCB</td>\n",
              "      <td>12.912811</td>\n",
              "      <td>77.60922</td>\n",
              "      <td>0.25</td>\n",
              "    </tr>\n",
              "    <tr>\n",
              "      <th>4</th>\n",
              "      <td>BTM Layout, Bengaluru - KSPCB</td>\n",
              "      <td>Bengaluru</td>\n",
              "      <td>IN</td>\n",
              "      <td>so2</td>\n",
              "      <td>4.49</td>\n",
              "      <td>2018-02-22 03:00:00+00:00</td>\n",
              "      <td>µg/m³</td>\n",
              "      <td>CPCB</td>\n",
              "      <td>12.912811</td>\n",
              "      <td>77.60922</td>\n",
              "      <td>0.25</td>\n",
              "    </tr>\n",
              "  </tbody>\n",
              "</table>\n",
              "</div>"
            ],
            "text/plain": [
              "                        location       city  ... longitude averaged_over_in_hours\n",
              "0  BTM Layout, Bengaluru - KSPCB  Bengaluru  ...  77.60922                   0.25\n",
              "1  BTM Layout, Bengaluru - KSPCB  Bengaluru  ...  77.60922                   0.25\n",
              "2  BTM Layout, Bengaluru - KSPCB  Bengaluru  ...  77.60922                   0.25\n",
              "3  BTM Layout, Bengaluru - KSPCB  Bengaluru  ...  77.60922                   0.25\n",
              "4  BTM Layout, Bengaluru - KSPCB  Bengaluru  ...  77.60922                   0.25\n",
              "\n",
              "[5 rows x 11 columns]"
            ]
          },
          "metadata": {},
          "execution_count": 70
        }
      ]
    },
    {
      "cell_type": "markdown",
      "metadata": {
        "id": "W-e52QNt3fR8"
      },
      "source": [
        "#### 2.1 Units of measurement"
      ]
    },
    {
      "cell_type": "markdown",
      "metadata": {
        "id": "g_3ByRQO3hJ0"
      },
      "source": [
        "Which countries have reported pollution levels in units of `ppm`? In the code cell below, set `first_query` to an SQL query that pulls the appropriate entries from the country column.\n",
        "\n",
        "In case it's useful to see an example query, here's some code from the tutorial:\n",
        "\n",
        "```\n",
        "query = \"\"\"\n",
        "        SELECT city\n",
        "        FROM `bigquery-public-data.openaq.global_air_quality`\n",
        "        WHERE country = 'US'\n",
        "        \"\"\"\n",
        "```"
      ]
    },
    {
      "cell_type": "code",
      "metadata": {
        "colab": {
          "base_uri": "https://localhost:8080/"
        },
        "id": "NjwUr26G3xzo",
        "outputId": "4a5e675c-9c55-457f-b03b-f3adf14e5dc1"
      },
      "source": [
        "# Query to select countries with units of \"ppm\"\n",
        "first_query = \"\"\"\n",
        "              SELECT DISTINCT country\n",
        "              FROM `bigquery-public-data.openaq.global_air_quality`\n",
        "              WHERE unit = 'ppm'\n",
        "              \"\"\"\n",
        "\n",
        "# Set up the query (cancel the query if it would use too much of \n",
        "# your quota, with the limit set to 10 GB)\n",
        "safe_config = bigquery.QueryJobConfig(maximum_bytes_billed=10**10)\n",
        "first_query_job = client.query(first_query, job_config=safe_config)\n",
        "\n",
        "# API request - run the query, and return a pandas DataFrame\n",
        "first_results = first_query_job.to_dataframe()\n",
        "\n",
        "# View top few rows of results\n",
        "print(first_results.head())"
      ],
      "execution_count": null,
      "outputs": [
        {
          "output_type": "stream",
          "name": "stdout",
          "text": [
            "  country\n",
            "0      US\n",
            "1      CL\n",
            "2      AU\n",
            "3      BM\n",
            "4      MX\n"
          ]
        }
      ]
    },
    {
      "cell_type": "markdown",
      "metadata": {
        "id": "Qn0cPEUd4DKH"
      },
      "source": [
        "#### 2.2 High air quality"
      ]
    },
    {
      "cell_type": "markdown",
      "metadata": {
        "id": "5H8QHJsu4Efu"
      },
      "source": [
        "Which pollution levels were reported to be exactly 0?\n",
        "\n",
        "* Set `zero_pollution_query` to select **all columns** of the rows where the `value` column is 0.\n",
        "* Set `zero_pollution_results` to a pandas DataFrame containing the query results."
      ]
    },
    {
      "cell_type": "code",
      "metadata": {
        "colab": {
          "base_uri": "https://localhost:8080/"
        },
        "id": "k6TE8SUV4PoX",
        "outputId": "c7b4ace0-c758-4d81-cfe0-035e30dbcbd4"
      },
      "source": [
        "# Query to select all columns where pollution levels are exactly 0\n",
        "zero_pollution_query = \"\"\"\n",
        "                       SELECT DISTINCT *\n",
        "                       FROM `bigquery-public-data.openaq.global_air_quality`\n",
        "                       WHERE value = 0\n",
        "                       \"\"\" # Your code goes here\n",
        "\n",
        "# Set up the query\n",
        "safe_config = bigquery.QueryJobConfig(maximum_bytes_billed=10**10)\n",
        "query_job = client.query(zero_pollution_query, job_config=safe_config)\n",
        "\n",
        "# API request - run the query and return a pandas DataFrame\n",
        "zero_pollution_results = query_job.to_dataframe() # Your code goes here\n",
        "\n",
        "print(zero_pollution_results.head())"
      ],
      "execution_count": null,
      "outputs": [
        {
          "output_type": "stream",
          "name": "stdout",
          "text": [
            "                                        location  ... averaged_over_in_hours\n",
            "0                     Victoria Memorial - WBSPCB  ...                   0.25\n",
            "1  Rabindra Bharati University, Kolkata - WBSPCB  ...                   0.25\n",
            "2                   Zamość ul. Hrubieszowska 69A  ...                    NaN\n",
            "3                               Końskie, MOBILNA  ...                    NaN\n",
            "4                               Końskie, MOBILNA  ...                    NaN\n",
            "\n",
            "[5 rows x 11 columns]\n"
          ]
        }
      ]
    },
    {
      "cell_type": "markdown",
      "metadata": {
        "id": "SdXNd3nj4gl3"
      },
      "source": [
        "## Group By, Having & Count"
      ]
    },
    {
      "cell_type": "markdown",
      "metadata": {
        "id": "MNgI4K3i4sRD"
      },
      "source": [
        "### Example: Which Hacker News comments generated the most discussion?"
      ]
    },
    {
      "cell_type": "code",
      "metadata": {
        "colab": {
          "base_uri": "https://localhost:8080/",
          "height": 293
        },
        "id": "mR1_C0lV4wn2",
        "outputId": "e4532411-c564-4546-e4a8-8584a62af3f8"
      },
      "source": [
        "# Construct a reference to the \"hacker_news\" dataset\n",
        "dataset_ref = client.dataset(\"hacker_news\", project=\"bigquery-public-data\")\n",
        "\n",
        "# API request - fetch the dataset\n",
        "dataset = client.get_dataset(dataset_ref)\n",
        "\n",
        "# Construct a reference to the \"comments\" table\n",
        "table_ref = dataset_ref.table(\"comments\")\n",
        "\n",
        "# API request - fetch the table\n",
        "table = client.get_table(table_ref)\n",
        "\n",
        "# Preview the first five lines of the \"comments\" table\n",
        "client.list_rows(table, max_results=5).to_dataframe()"
      ],
      "execution_count": null,
      "outputs": [
        {
          "output_type": "execute_result",
          "data": {
            "text/html": [
              "<div>\n",
              "<style scoped>\n",
              "    .dataframe tbody tr th:only-of-type {\n",
              "        vertical-align: middle;\n",
              "    }\n",
              "\n",
              "    .dataframe tbody tr th {\n",
              "        vertical-align: top;\n",
              "    }\n",
              "\n",
              "    .dataframe thead th {\n",
              "        text-align: right;\n",
              "    }\n",
              "</style>\n",
              "<table border=\"1\" class=\"dataframe\">\n",
              "  <thead>\n",
              "    <tr style=\"text-align: right;\">\n",
              "      <th></th>\n",
              "      <th>id</th>\n",
              "      <th>by</th>\n",
              "      <th>author</th>\n",
              "      <th>time</th>\n",
              "      <th>time_ts</th>\n",
              "      <th>text</th>\n",
              "      <th>parent</th>\n",
              "      <th>deleted</th>\n",
              "      <th>dead</th>\n",
              "      <th>ranking</th>\n",
              "    </tr>\n",
              "  </thead>\n",
              "  <tbody>\n",
              "    <tr>\n",
              "      <th>0</th>\n",
              "      <td>2701393</td>\n",
              "      <td>5l</td>\n",
              "      <td>5l</td>\n",
              "      <td>1309184881</td>\n",
              "      <td>2011-06-27 14:28:01+00:00</td>\n",
              "      <td>And the glazier who fixed all the broken windo...</td>\n",
              "      <td>2701243</td>\n",
              "      <td>None</td>\n",
              "      <td>None</td>\n",
              "      <td>0</td>\n",
              "    </tr>\n",
              "    <tr>\n",
              "      <th>1</th>\n",
              "      <td>5811403</td>\n",
              "      <td>99</td>\n",
              "      <td>99</td>\n",
              "      <td>1370234048</td>\n",
              "      <td>2013-06-03 04:34:08+00:00</td>\n",
              "      <td>Does canada have the equivalent of H1B/Green c...</td>\n",
              "      <td>5804452</td>\n",
              "      <td>None</td>\n",
              "      <td>None</td>\n",
              "      <td>0</td>\n",
              "    </tr>\n",
              "    <tr>\n",
              "      <th>2</th>\n",
              "      <td>21623</td>\n",
              "      <td>AF</td>\n",
              "      <td>AF</td>\n",
              "      <td>1178992400</td>\n",
              "      <td>2007-05-12 17:53:20+00:00</td>\n",
              "      <td>Speaking of Rails, there are other options in ...</td>\n",
              "      <td>21611</td>\n",
              "      <td>None</td>\n",
              "      <td>None</td>\n",
              "      <td>0</td>\n",
              "    </tr>\n",
              "    <tr>\n",
              "      <th>3</th>\n",
              "      <td>10159727</td>\n",
              "      <td>EA</td>\n",
              "      <td>EA</td>\n",
              "      <td>1441206574</td>\n",
              "      <td>2015-09-02 15:09:34+00:00</td>\n",
              "      <td>Humans and large livestock (and maybe even pet...</td>\n",
              "      <td>10159396</td>\n",
              "      <td>None</td>\n",
              "      <td>None</td>\n",
              "      <td>0</td>\n",
              "    </tr>\n",
              "    <tr>\n",
              "      <th>4</th>\n",
              "      <td>2988424</td>\n",
              "      <td>Iv</td>\n",
              "      <td>Iv</td>\n",
              "      <td>1315853580</td>\n",
              "      <td>2011-09-12 18:53:00+00:00</td>\n",
              "      <td>I must say I reacted in the same way when I re...</td>\n",
              "      <td>2988179</td>\n",
              "      <td>None</td>\n",
              "      <td>None</td>\n",
              "      <td>0</td>\n",
              "    </tr>\n",
              "  </tbody>\n",
              "</table>\n",
              "</div>"
            ],
            "text/plain": [
              "         id  by author        time  ...    parent deleted  dead ranking\n",
              "0   2701393  5l     5l  1309184881  ...   2701243    None  None       0\n",
              "1   5811403  99     99  1370234048  ...   5804452    None  None       0\n",
              "2     21623  AF     AF  1178992400  ...     21611    None  None       0\n",
              "3  10159727  EA     EA  1441206574  ...  10159396    None  None       0\n",
              "4   2988424  Iv     Iv  1315853580  ...   2988179    None  None       0\n",
              "\n",
              "[5 rows x 10 columns]"
            ]
          },
          "metadata": {},
          "execution_count": 73
        }
      ]
    },
    {
      "cell_type": "code",
      "metadata": {
        "colab": {
          "base_uri": "https://localhost:8080/",
          "height": 206
        },
        "id": "kb0L5Hnw5PzC",
        "outputId": "98236b4f-a374-4158-8412-d86663055f05"
      },
      "source": [
        "# Query to select comments that received more than 10 replies\n",
        "query_popular = \"\"\"\n",
        "                SELECT parent, COUNT(id)\n",
        "                FROM `bigquery-public-data.hacker_news.comments`\n",
        "                GROUP BY parent\n",
        "                HAVING COUNT(id) > 10\n",
        "                \"\"\"\n",
        "\n",
        "# Set up the query (cancel the query if it would use too much of \n",
        "# your quota, with the limit set to 10 GB)\n",
        "safe_config = bigquery.QueryJobConfig(maximum_bytes_billed=10**10)\n",
        "query_job = client.query(query_popular, job_config=safe_config)\n",
        "\n",
        "# API request - run the query, and convert the results to a pandas DataFrame\n",
        "popular_comments = query_job.to_dataframe()\n",
        "\n",
        "# Print the first five rows of the DataFrame\n",
        "popular_comments.head()         "
      ],
      "execution_count": null,
      "outputs": [
        {
          "output_type": "execute_result",
          "data": {
            "text/html": [
              "<div>\n",
              "<style scoped>\n",
              "    .dataframe tbody tr th:only-of-type {\n",
              "        vertical-align: middle;\n",
              "    }\n",
              "\n",
              "    .dataframe tbody tr th {\n",
              "        vertical-align: top;\n",
              "    }\n",
              "\n",
              "    .dataframe thead th {\n",
              "        text-align: right;\n",
              "    }\n",
              "</style>\n",
              "<table border=\"1\" class=\"dataframe\">\n",
              "  <thead>\n",
              "    <tr style=\"text-align: right;\">\n",
              "      <th></th>\n",
              "      <th>parent</th>\n",
              "      <th>f0_</th>\n",
              "    </tr>\n",
              "  </thead>\n",
              "  <tbody>\n",
              "    <tr>\n",
              "      <th>0</th>\n",
              "      <td>6683866</td>\n",
              "      <td>39</td>\n",
              "    </tr>\n",
              "    <tr>\n",
              "      <th>1</th>\n",
              "      <td>6627329</td>\n",
              "      <td>46</td>\n",
              "    </tr>\n",
              "    <tr>\n",
              "      <th>2</th>\n",
              "      <td>3476843</td>\n",
              "      <td>49</td>\n",
              "    </tr>\n",
              "    <tr>\n",
              "      <th>3</th>\n",
              "      <td>7234010</td>\n",
              "      <td>48</td>\n",
              "    </tr>\n",
              "    <tr>\n",
              "      <th>4</th>\n",
              "      <td>2932956</td>\n",
              "      <td>76</td>\n",
              "    </tr>\n",
              "  </tbody>\n",
              "</table>\n",
              "</div>"
            ],
            "text/plain": [
              "    parent  f0_\n",
              "0  6683866   39\n",
              "1  6627329   46\n",
              "2  3476843   49\n",
              "3  7234010   48\n",
              "4  2932956   76"
            ]
          },
          "metadata": {},
          "execution_count": 74
        }
      ]
    },
    {
      "cell_type": "code",
      "metadata": {
        "colab": {
          "base_uri": "https://localhost:8080/",
          "height": 206
        },
        "id": "zM0asDst5nc0",
        "outputId": "a50764d4-b02e-4764-a029-56e62ead613a"
      },
      "source": [
        "# Improved version of earlier query, now with aliasing & improved readability\n",
        "query_improved = \"\"\"\n",
        "                 SELECT parent, COUNT(1) AS NumPosts\n",
        "                 FROM `bigquery-public-data.hacker_news.comments`\n",
        "                 GROUP BY parent\n",
        "                 HAVING COUNT(1) > 10\n",
        "                 \"\"\"\n",
        "\n",
        "safe_config = bigquery.QueryJobConfig(maximum_bytes_billed=10**9)\n",
        "query_job = client.query(query_improved, job_config=safe_config)\n",
        "\n",
        "# API request - run the query, and convert the results to a pandas DataFrame\n",
        "improved_df = query_job.to_dataframe()\n",
        "\n",
        "# Print the first five rows of the DataFrame\n",
        "improved_df.head()"
      ],
      "execution_count": null,
      "outputs": [
        {
          "output_type": "execute_result",
          "data": {
            "text/html": [
              "<div>\n",
              "<style scoped>\n",
              "    .dataframe tbody tr th:only-of-type {\n",
              "        vertical-align: middle;\n",
              "    }\n",
              "\n",
              "    .dataframe tbody tr th {\n",
              "        vertical-align: top;\n",
              "    }\n",
              "\n",
              "    .dataframe thead th {\n",
              "        text-align: right;\n",
              "    }\n",
              "</style>\n",
              "<table border=\"1\" class=\"dataframe\">\n",
              "  <thead>\n",
              "    <tr style=\"text-align: right;\">\n",
              "      <th></th>\n",
              "      <th>parent</th>\n",
              "      <th>NumPosts</th>\n",
              "    </tr>\n",
              "  </thead>\n",
              "  <tbody>\n",
              "    <tr>\n",
              "      <th>0</th>\n",
              "      <td>801208</td>\n",
              "      <td>56</td>\n",
              "    </tr>\n",
              "    <tr>\n",
              "      <th>1</th>\n",
              "      <td>5463210</td>\n",
              "      <td>55</td>\n",
              "    </tr>\n",
              "    <tr>\n",
              "      <th>2</th>\n",
              "      <td>6455391</td>\n",
              "      <td>67</td>\n",
              "    </tr>\n",
              "    <tr>\n",
              "      <th>3</th>\n",
              "      <td>8336025</td>\n",
              "      <td>50</td>\n",
              "    </tr>\n",
              "    <tr>\n",
              "      <th>4</th>\n",
              "      <td>3785277</td>\n",
              "      <td>85</td>\n",
              "    </tr>\n",
              "  </tbody>\n",
              "</table>\n",
              "</div>"
            ],
            "text/plain": [
              "    parent  NumPosts\n",
              "0   801208        56\n",
              "1  5463210        55\n",
              "2  6455391        67\n",
              "3  8336025        50\n",
              "4  3785277        85"
            ]
          },
          "metadata": {},
          "execution_count": 75
        }
      ]
    },
    {
      "cell_type": "markdown",
      "metadata": {
        "id": "ZkwqhLZp5xrP"
      },
      "source": [
        "## Exercises 3"
      ]
    },
    {
      "cell_type": "code",
      "metadata": {
        "colab": {
          "base_uri": "https://localhost:8080/",
          "height": 293
        },
        "id": "sj_d5SEG534c",
        "outputId": "6bb8a481-e649-4b47-edba-378f72fc0a92"
      },
      "source": [
        "# Construct a reference to the \"hacker_news\" dataset\n",
        "dataset_ref = client.dataset(\"hacker_news\", project=\"bigquery-public-data\")\n",
        "\n",
        "# API request - fetch the dataset\n",
        "dataset = client.get_dataset(dataset_ref)\n",
        "\n",
        "# Construct a reference to the \"comments\" table\n",
        "table_ref = dataset_ref.table(\"comments\")\n",
        "\n",
        "# API request - fetch the table\n",
        "table = client.get_table(table_ref)\n",
        "\n",
        "# Preview the first five lines of the \"comments\" table\n",
        "client.list_rows(table, max_results=5).to_dataframe()"
      ],
      "execution_count": null,
      "outputs": [
        {
          "output_type": "execute_result",
          "data": {
            "text/html": [
              "<div>\n",
              "<style scoped>\n",
              "    .dataframe tbody tr th:only-of-type {\n",
              "        vertical-align: middle;\n",
              "    }\n",
              "\n",
              "    .dataframe tbody tr th {\n",
              "        vertical-align: top;\n",
              "    }\n",
              "\n",
              "    .dataframe thead th {\n",
              "        text-align: right;\n",
              "    }\n",
              "</style>\n",
              "<table border=\"1\" class=\"dataframe\">\n",
              "  <thead>\n",
              "    <tr style=\"text-align: right;\">\n",
              "      <th></th>\n",
              "      <th>id</th>\n",
              "      <th>by</th>\n",
              "      <th>author</th>\n",
              "      <th>time</th>\n",
              "      <th>time_ts</th>\n",
              "      <th>text</th>\n",
              "      <th>parent</th>\n",
              "      <th>deleted</th>\n",
              "      <th>dead</th>\n",
              "      <th>ranking</th>\n",
              "    </tr>\n",
              "  </thead>\n",
              "  <tbody>\n",
              "    <tr>\n",
              "      <th>0</th>\n",
              "      <td>2701393</td>\n",
              "      <td>5l</td>\n",
              "      <td>5l</td>\n",
              "      <td>1309184881</td>\n",
              "      <td>2011-06-27 14:28:01+00:00</td>\n",
              "      <td>And the glazier who fixed all the broken windo...</td>\n",
              "      <td>2701243</td>\n",
              "      <td>None</td>\n",
              "      <td>None</td>\n",
              "      <td>0</td>\n",
              "    </tr>\n",
              "    <tr>\n",
              "      <th>1</th>\n",
              "      <td>5811403</td>\n",
              "      <td>99</td>\n",
              "      <td>99</td>\n",
              "      <td>1370234048</td>\n",
              "      <td>2013-06-03 04:34:08+00:00</td>\n",
              "      <td>Does canada have the equivalent of H1B/Green c...</td>\n",
              "      <td>5804452</td>\n",
              "      <td>None</td>\n",
              "      <td>None</td>\n",
              "      <td>0</td>\n",
              "    </tr>\n",
              "    <tr>\n",
              "      <th>2</th>\n",
              "      <td>21623</td>\n",
              "      <td>AF</td>\n",
              "      <td>AF</td>\n",
              "      <td>1178992400</td>\n",
              "      <td>2007-05-12 17:53:20+00:00</td>\n",
              "      <td>Speaking of Rails, there are other options in ...</td>\n",
              "      <td>21611</td>\n",
              "      <td>None</td>\n",
              "      <td>None</td>\n",
              "      <td>0</td>\n",
              "    </tr>\n",
              "    <tr>\n",
              "      <th>3</th>\n",
              "      <td>10159727</td>\n",
              "      <td>EA</td>\n",
              "      <td>EA</td>\n",
              "      <td>1441206574</td>\n",
              "      <td>2015-09-02 15:09:34+00:00</td>\n",
              "      <td>Humans and large livestock (and maybe even pet...</td>\n",
              "      <td>10159396</td>\n",
              "      <td>None</td>\n",
              "      <td>None</td>\n",
              "      <td>0</td>\n",
              "    </tr>\n",
              "    <tr>\n",
              "      <th>4</th>\n",
              "      <td>2988424</td>\n",
              "      <td>Iv</td>\n",
              "      <td>Iv</td>\n",
              "      <td>1315853580</td>\n",
              "      <td>2011-09-12 18:53:00+00:00</td>\n",
              "      <td>I must say I reacted in the same way when I re...</td>\n",
              "      <td>2988179</td>\n",
              "      <td>None</td>\n",
              "      <td>None</td>\n",
              "      <td>0</td>\n",
              "    </tr>\n",
              "  </tbody>\n",
              "</table>\n",
              "</div>"
            ],
            "text/plain": [
              "         id  by author        time  ...    parent deleted  dead ranking\n",
              "0   2701393  5l     5l  1309184881  ...   2701243    None  None       0\n",
              "1   5811403  99     99  1370234048  ...   5804452    None  None       0\n",
              "2     21623  AF     AF  1178992400  ...     21611    None  None       0\n",
              "3  10159727  EA     EA  1441206574  ...  10159396    None  None       0\n",
              "4   2988424  Iv     Iv  1315853580  ...   2988179    None  None       0\n",
              "\n",
              "[5 rows x 10 columns]"
            ]
          },
          "metadata": {},
          "execution_count": 76
        }
      ]
    },
    {
      "cell_type": "markdown",
      "metadata": {
        "id": "4g5Ss_1g56iI"
      },
      "source": [
        "### Prolific commenters"
      ]
    },
    {
      "cell_type": "markdown",
      "metadata": {
        "id": "-2tiVBVa599g"
      },
      "source": [
        "Hacker News would like to send awards to everyone who has written more than 10,000 posts. Write a query that returns all authors with more than 10,000 posts as well as their post counts. Call the column with post counts NumPosts.\n",
        "\n",
        "In case sample query is helpful, here is a query you saw in the tutorial to answer a similar question:\n",
        "\n",
        "```\n",
        "query = \"\"\"\n",
        "        SELECT parent, COUNT(1) AS NumPosts\n",
        "        FROM `bigquery-public-data.hacker_news.comments`\n",
        "        GROUP BY parent\n",
        "        HAVING COUNT(1) > 10\n",
        "        \"\"\"\n",
        "```"
      ]
    },
    {
      "cell_type": "code",
      "metadata": {
        "colab": {
          "base_uri": "https://localhost:8080/"
        },
        "id": "Pu-naO-r6B50",
        "outputId": "76229cc0-42f2-4d59-ccb4-df48c019d951"
      },
      "source": [
        "# Query to select prolific commenters and post counts\n",
        "prolific_commenters_query = \"\"\"\n",
        "        SELECT author, COUNT(1) AS NumPosts\n",
        "        FROM `bigquery-public-data.hacker_news.comments`\n",
        "        GROUP BY author\n",
        "        HAVING COUNT(1) > 10000\n",
        "        \"\"\"\n",
        "\n",
        "# Set up the query (cancel the query if it would use too much of \n",
        "# your quota, with the limit set to 1 GB)\n",
        "safe_config = bigquery.QueryJobConfig(maximum_bytes_billed=10**9)\n",
        "query_job = client.query(prolific_commenters_query, job_config=safe_config)\n",
        "\n",
        "# API request - run the query, and return a pandas DataFrame\n",
        "prolific_commenters = query_job.to_dataframe()\n",
        "\n",
        "# View top few rows of results\n",
        "print(prolific_commenters.head())"
      ],
      "execution_count": null,
      "outputs": [
        {
          "output_type": "stream",
          "name": "stdout",
          "text": [
            "         author  NumPosts\n",
            "0           eru     10448\n",
            "1       rbanffy     10557\n",
            "2  dragonwriter     10723\n",
            "3          None    227736\n",
            "4         DanBC     12902\n"
          ]
        }
      ]
    },
    {
      "cell_type": "markdown",
      "metadata": {
        "id": "jJSN_K-u6U48"
      },
      "source": [
        "### Deleted comments"
      ]
    },
    {
      "cell_type": "markdown",
      "metadata": {
        "id": "93zbptIf6YRm"
      },
      "source": [
        "How many comments have been deleted? (If a comment was deleted, the `deleted` column in the comments table will have the value `True`)"
      ]
    },
    {
      "cell_type": "code",
      "metadata": {
        "colab": {
          "base_uri": "https://localhost:8080/"
        },
        "id": "wgGdrAHh6gM-",
        "outputId": "6050af0a-adcf-437e-c72e-a689506e429c"
      },
      "source": [
        "# Query to select prolific commenters and post counts\n",
        "deleted_comments_query = \"\"\"\n",
        "                            SELECT COUNT(1) AS DeletedPosts\n",
        "                            FROM `bigquery-public-data.hacker_news.comments`\n",
        "                            WHERE deleted = True\n",
        "                            \"\"\"\n",
        "\n",
        "# Set up the query (cancel the query if it would use too much of \n",
        "# your quota, with the limit set to 1 GB)\n",
        "safe_config = bigquery.QueryJobConfig(maximum_bytes_billed=10**9)\n",
        "query_job = client.query(deleted_comments_query, job_config=safe_config)\n",
        "\n",
        "# API request - run the query, and return a pandas DataFrame\n",
        "deleted_comments = query_job.to_dataframe()\n",
        "\n",
        "# View top few rows of results\n",
        "print(deleted_comments.loc[0, 'DeletedPosts'])"
      ],
      "execution_count": null,
      "outputs": [
        {
          "output_type": "stream",
          "name": "stdout",
          "text": [
            "227736\n"
          ]
        }
      ]
    },
    {
      "cell_type": "markdown",
      "metadata": {
        "id": "DhIV83PN696N"
      },
      "source": [
        "## Order By"
      ]
    },
    {
      "cell_type": "markdown",
      "metadata": {
        "id": "YTdN4B7IOqgH"
      },
      "source": [
        "**Dates**\n",
        "\n",
        "Next, we'll talk about dates, because they come up very frequently in real-world databases. There are two ways that dates can be stored in BigQuery: as a `DATE` or as a `DATETIME`.\n",
        "\n",
        "The `DATE` format has the year first, then the month, and then the day. It looks like this:\n",
        "\n",
        "`YYYY-[M]M-[D]D`\n",
        "\n",
        "* `YYYY`: Four-digit year\n",
        "* `[M]M`: One or two digit month\n",
        "* `[D]D`: One or two digit day\n",
        "\n",
        "So 2019-01-10 is interpreted as January 10, 2019.\n",
        "\n",
        "The `DATETIME` format is like the date format ... but with time added at the end."
      ]
    },
    {
      "cell_type": "markdown",
      "metadata": {
        "id": "D09_B1XuPa8c"
      },
      "source": [
        "### Example: Which day of the week has the most fatal motor accidents?"
      ]
    },
    {
      "cell_type": "code",
      "metadata": {
        "colab": {
          "base_uri": "https://localhost:8080/",
          "height": 313
        },
        "id": "4oOEyaSkPcNk",
        "outputId": "369a9789-fa10-4471-d00d-f327273046ff"
      },
      "source": [
        "# Construct a reference to the \"nhtsa_traffic_fatalities\" dataset\n",
        "dataset_ref = client.dataset(\"nhtsa_traffic_fatalities\", project=\"bigquery-public-data\")\n",
        "\n",
        "# API request - fetch the dataset\n",
        "dataset = client.get_dataset(dataset_ref)\n",
        "\n",
        "# Construct a reference to the \"accident_2015\" table\n",
        "table_ref = dataset_ref.table(\"accident_2015\")\n",
        "\n",
        "# API request - fetch the table\n",
        "table = client.get_table(table_ref)\n",
        "\n",
        "# Preview the first five lines of the \"accident_2015\" table\n",
        "client.list_rows(table, max_results=5).to_dataframe()"
      ],
      "execution_count": null,
      "outputs": [
        {
          "output_type": "execute_result",
          "data": {
            "text/html": [
              "<div>\n",
              "<style scoped>\n",
              "    .dataframe tbody tr th:only-of-type {\n",
              "        vertical-align: middle;\n",
              "    }\n",
              "\n",
              "    .dataframe tbody tr th {\n",
              "        vertical-align: top;\n",
              "    }\n",
              "\n",
              "    .dataframe thead th {\n",
              "        text-align: right;\n",
              "    }\n",
              "</style>\n",
              "<table border=\"1\" class=\"dataframe\">\n",
              "  <thead>\n",
              "    <tr style=\"text-align: right;\">\n",
              "      <th></th>\n",
              "      <th>state_number</th>\n",
              "      <th>state_name</th>\n",
              "      <th>consecutive_number</th>\n",
              "      <th>number_of_vehicle_forms_submitted_all</th>\n",
              "      <th>number_of_motor_vehicles_in_transport_mvit</th>\n",
              "      <th>number_of_parked_working_vehicles</th>\n",
              "      <th>number_of_forms_submitted_for_persons_not_in_motor_vehicles</th>\n",
              "      <th>number_of_persons_not_in_motor_vehicles_in_transport_mvit</th>\n",
              "      <th>number_of_persons_in_motor_vehicles_in_transport_mvit</th>\n",
              "      <th>number_of_forms_submitted_for_persons_in_motor_vehicles</th>\n",
              "      <th>county</th>\n",
              "      <th>city</th>\n",
              "      <th>day_of_crash</th>\n",
              "      <th>month_of_crash</th>\n",
              "      <th>year_of_crash</th>\n",
              "      <th>day_of_week</th>\n",
              "      <th>hour_of_crash</th>\n",
              "      <th>minute_of_crash</th>\n",
              "      <th>national_highway_system</th>\n",
              "      <th>land_use</th>\n",
              "      <th>land_use_name</th>\n",
              "      <th>functional_system</th>\n",
              "      <th>functional_system_name</th>\n",
              "      <th>ownership</th>\n",
              "      <th>ownership_name</th>\n",
              "      <th>route_signing</th>\n",
              "      <th>route_signing_name</th>\n",
              "      <th>trafficway_identifier</th>\n",
              "      <th>trafficway_identifier_2</th>\n",
              "      <th>milepoint</th>\n",
              "      <th>latitude</th>\n",
              "      <th>longitude</th>\n",
              "      <th>special_jurisdiction</th>\n",
              "      <th>special_jurisdiction_name</th>\n",
              "      <th>first_harmful_event</th>\n",
              "      <th>first_harmful_event_name</th>\n",
              "      <th>manner_of_collision</th>\n",
              "      <th>manner_of_collision_name</th>\n",
              "      <th>relation_to_junction_within_interchange_area</th>\n",
              "      <th>relation_to_junction_specific_location</th>\n",
              "      <th>relation_to_junction_specific_location_name</th>\n",
              "      <th>type_of_intersection</th>\n",
              "      <th>work_zone</th>\n",
              "      <th>relation_to_trafficway</th>\n",
              "      <th>relation_to_trafficway_name</th>\n",
              "      <th>light_condition</th>\n",
              "      <th>light_condition_name</th>\n",
              "      <th>atmospheric_conditions_1</th>\n",
              "      <th>atmospheric_conditions_1_name</th>\n",
              "      <th>atmospheric_conditions_2</th>\n",
              "      <th>atmospheric_conditions_2_name</th>\n",
              "      <th>atmospheric_conditions</th>\n",
              "      <th>atmospheric_conditions_name</th>\n",
              "      <th>school_bus_related</th>\n",
              "      <th>rail_grade_crossing_identifier</th>\n",
              "      <th>hour_of_notification</th>\n",
              "      <th>minute_of_notification</th>\n",
              "      <th>hour_of_arrival_at_scene</th>\n",
              "      <th>minute_of_arrival_at_scene</th>\n",
              "      <th>hour_of_ems_arrival_at_hospital</th>\n",
              "      <th>minute_of_ems_arrival_at_hospital</th>\n",
              "      <th>related_factors_crash_level_1</th>\n",
              "      <th>related_factors_crash_level_1_name</th>\n",
              "      <th>related_factors_crash_level_2</th>\n",
              "      <th>related_factors_crash_level_2_name</th>\n",
              "      <th>related_factors_crash_level_3</th>\n",
              "      <th>related_factors_crash_level_3_name</th>\n",
              "      <th>number_of_fatalities</th>\n",
              "      <th>number_of_drunk_drivers</th>\n",
              "      <th>timestamp_of_crash</th>\n",
              "    </tr>\n",
              "  </thead>\n",
              "  <tbody>\n",
              "    <tr>\n",
              "      <th>0</th>\n",
              "      <td>19</td>\n",
              "      <td>Iowa</td>\n",
              "      <td>190204</td>\n",
              "      <td>1</td>\n",
              "      <td>1</td>\n",
              "      <td>0</td>\n",
              "      <td>0</td>\n",
              "      <td>0</td>\n",
              "      <td>1</td>\n",
              "      <td>1</td>\n",
              "      <td>109</td>\n",
              "      <td>0</td>\n",
              "      <td>11</td>\n",
              "      <td>9</td>\n",
              "      <td>2015</td>\n",
              "      <td>6</td>\n",
              "      <td>20</td>\n",
              "      <td>20</td>\n",
              "      <td>0</td>\n",
              "      <td>1</td>\n",
              "      <td>Rural</td>\n",
              "      <td>7</td>\n",
              "      <td>Local</td>\n",
              "      <td>2</td>\n",
              "      <td>County Highway Agency</td>\n",
              "      <td>4</td>\n",
              "      <td>County Road</td>\n",
              "      <td>CR-510TH ST</td>\n",
              "      <td></td>\n",
              "      <td>0</td>\n",
              "      <td>43.499950</td>\n",
              "      <td>-94.035428</td>\n",
              "      <td>0</td>\n",
              "      <td>No Special Jurisdiction (Includes National For...</td>\n",
              "      <td>1</td>\n",
              "      <td>Rollover/Overturn</td>\n",
              "      <td>0</td>\n",
              "      <td>Not Collision with Motor Vehicle in Transport ...</td>\n",
              "      <td>No</td>\n",
              "      <td>1</td>\n",
              "      <td>Non-Junction</td>\n",
              "      <td>Not an Intersection</td>\n",
              "      <td>None</td>\n",
              "      <td>4</td>\n",
              "      <td>On Roadside</td>\n",
              "      <td>1</td>\n",
              "      <td>Daylight</td>\n",
              "      <td>1</td>\n",
              "      <td>Clear</td>\n",
              "      <td>0</td>\n",
              "      <td>No Additional Atmospheric Conditions</td>\n",
              "      <td>1</td>\n",
              "      <td>Clear</td>\n",
              "      <td>No</td>\n",
              "      <td>0000000</td>\n",
              "      <td>20</td>\n",
              "      <td>28</td>\n",
              "      <td>20</td>\n",
              "      <td>30</td>\n",
              "      <td>21</td>\n",
              "      <td>2</td>\n",
              "      <td>0</td>\n",
              "      <td>None</td>\n",
              "      <td>0</td>\n",
              "      <td>None</td>\n",
              "      <td>0</td>\n",
              "      <td>None</td>\n",
              "      <td>1</td>\n",
              "      <td>1</td>\n",
              "      <td>2015-09-11 20:20:00+00:00</td>\n",
              "    </tr>\n",
              "    <tr>\n",
              "      <th>1</th>\n",
              "      <td>19</td>\n",
              "      <td>Iowa</td>\n",
              "      <td>190233</td>\n",
              "      <td>1</td>\n",
              "      <td>1</td>\n",
              "      <td>0</td>\n",
              "      <td>0</td>\n",
              "      <td>0</td>\n",
              "      <td>1</td>\n",
              "      <td>1</td>\n",
              "      <td>181</td>\n",
              "      <td>0</td>\n",
              "      <td>1</td>\n",
              "      <td>11</td>\n",
              "      <td>2015</td>\n",
              "      <td>1</td>\n",
              "      <td>0</td>\n",
              "      <td>30</td>\n",
              "      <td>1</td>\n",
              "      <td>1</td>\n",
              "      <td>Rural</td>\n",
              "      <td>3</td>\n",
              "      <td>Principal Arterial – Other</td>\n",
              "      <td>1</td>\n",
              "      <td>State Highway Agency</td>\n",
              "      <td>2</td>\n",
              "      <td>U.S. Highway</td>\n",
              "      <td>US-65</td>\n",
              "      <td></td>\n",
              "      <td>245</td>\n",
              "      <td>41.470728</td>\n",
              "      <td>-93.558444</td>\n",
              "      <td>0</td>\n",
              "      <td>No Special Jurisdiction (Includes National For...</td>\n",
              "      <td>1</td>\n",
              "      <td>Rollover/Overturn</td>\n",
              "      <td>0</td>\n",
              "      <td>Not Collision with Motor Vehicle in Transport ...</td>\n",
              "      <td>No</td>\n",
              "      <td>1</td>\n",
              "      <td>Non-Junction</td>\n",
              "      <td>Not an Intersection</td>\n",
              "      <td>None</td>\n",
              "      <td>4</td>\n",
              "      <td>On Roadside</td>\n",
              "      <td>2</td>\n",
              "      <td>Dark – Not Lighted</td>\n",
              "      <td>1</td>\n",
              "      <td>Clear</td>\n",
              "      <td>0</td>\n",
              "      <td>No Additional Atmospheric Conditions</td>\n",
              "      <td>1</td>\n",
              "      <td>Clear</td>\n",
              "      <td>No</td>\n",
              "      <td>0000000</td>\n",
              "      <td>88</td>\n",
              "      <td>88</td>\n",
              "      <td>88</td>\n",
              "      <td>88</td>\n",
              "      <td>88</td>\n",
              "      <td>88</td>\n",
              "      <td>0</td>\n",
              "      <td>None</td>\n",
              "      <td>0</td>\n",
              "      <td>None</td>\n",
              "      <td>0</td>\n",
              "      <td>None</td>\n",
              "      <td>1</td>\n",
              "      <td>1</td>\n",
              "      <td>2015-11-01 00:30:00+00:00</td>\n",
              "    </tr>\n",
              "    <tr>\n",
              "      <th>2</th>\n",
              "      <td>19</td>\n",
              "      <td>Iowa</td>\n",
              "      <td>190179</td>\n",
              "      <td>1</td>\n",
              "      <td>1</td>\n",
              "      <td>0</td>\n",
              "      <td>0</td>\n",
              "      <td>0</td>\n",
              "      <td>2</td>\n",
              "      <td>2</td>\n",
              "      <td>193</td>\n",
              "      <td>0</td>\n",
              "      <td>4</td>\n",
              "      <td>5</td>\n",
              "      <td>2015</td>\n",
              "      <td>2</td>\n",
              "      <td>16</td>\n",
              "      <td>18</td>\n",
              "      <td>0</td>\n",
              "      <td>1</td>\n",
              "      <td>Rural</td>\n",
              "      <td>5</td>\n",
              "      <td>Major Collector</td>\n",
              "      <td>2</td>\n",
              "      <td>County Highway Agency</td>\n",
              "      <td>4</td>\n",
              "      <td>County Road</td>\n",
              "      <td>CR-K42 DALLAS AVE</td>\n",
              "      <td>CR-300TH ST</td>\n",
              "      <td>0</td>\n",
              "      <td>42.272072</td>\n",
              "      <td>-96.232194</td>\n",
              "      <td>0</td>\n",
              "      <td>No Special Jurisdiction (Includes National For...</td>\n",
              "      <td>1</td>\n",
              "      <td>Rollover/Overturn</td>\n",
              "      <td>0</td>\n",
              "      <td>Not Collision with Motor Vehicle in Transport ...</td>\n",
              "      <td>No</td>\n",
              "      <td>3</td>\n",
              "      <td>Intersection Related</td>\n",
              "      <td>Four-Way Intersection</td>\n",
              "      <td>None</td>\n",
              "      <td>4</td>\n",
              "      <td>On Roadside</td>\n",
              "      <td>1</td>\n",
              "      <td>Daylight</td>\n",
              "      <td>2</td>\n",
              "      <td>Rain</td>\n",
              "      <td>0</td>\n",
              "      <td>No Additional Atmospheric Conditions</td>\n",
              "      <td>2</td>\n",
              "      <td>Rain</td>\n",
              "      <td>No</td>\n",
              "      <td>0000000</td>\n",
              "      <td>16</td>\n",
              "      <td>27</td>\n",
              "      <td>16</td>\n",
              "      <td>34</td>\n",
              "      <td>17</td>\n",
              "      <td>1</td>\n",
              "      <td>0</td>\n",
              "      <td>None</td>\n",
              "      <td>0</td>\n",
              "      <td>None</td>\n",
              "      <td>0</td>\n",
              "      <td>None</td>\n",
              "      <td>1</td>\n",
              "      <td>0</td>\n",
              "      <td>2015-05-04 16:18:00+00:00</td>\n",
              "    </tr>\n",
              "    <tr>\n",
              "      <th>3</th>\n",
              "      <td>19</td>\n",
              "      <td>Iowa</td>\n",
              "      <td>190248</td>\n",
              "      <td>1</td>\n",
              "      <td>1</td>\n",
              "      <td>0</td>\n",
              "      <td>0</td>\n",
              "      <td>0</td>\n",
              "      <td>4</td>\n",
              "      <td>4</td>\n",
              "      <td>99</td>\n",
              "      <td>0</td>\n",
              "      <td>17</td>\n",
              "      <td>11</td>\n",
              "      <td>2015</td>\n",
              "      <td>3</td>\n",
              "      <td>12</td>\n",
              "      <td>26</td>\n",
              "      <td>1</td>\n",
              "      <td>1</td>\n",
              "      <td>Rural</td>\n",
              "      <td>1</td>\n",
              "      <td>Interstate</td>\n",
              "      <td>1</td>\n",
              "      <td>State Highway Agency</td>\n",
              "      <td>1</td>\n",
              "      <td>Interstate</td>\n",
              "      <td>I-80</td>\n",
              "      <td></td>\n",
              "      <td>188</td>\n",
              "      <td>41.681933</td>\n",
              "      <td>-92.983681</td>\n",
              "      <td>0</td>\n",
              "      <td>No Special Jurisdiction (Includes National For...</td>\n",
              "      <td>1</td>\n",
              "      <td>Rollover/Overturn</td>\n",
              "      <td>0</td>\n",
              "      <td>Not Collision with Motor Vehicle in Transport ...</td>\n",
              "      <td>No</td>\n",
              "      <td>1</td>\n",
              "      <td>Non-Junction</td>\n",
              "      <td>Not an Intersection</td>\n",
              "      <td>None</td>\n",
              "      <td>4</td>\n",
              "      <td>On Roadside</td>\n",
              "      <td>1</td>\n",
              "      <td>Daylight</td>\n",
              "      <td>10</td>\n",
              "      <td>Cloudy</td>\n",
              "      <td>2</td>\n",
              "      <td>Rain</td>\n",
              "      <td>2</td>\n",
              "      <td>Rain</td>\n",
              "      <td>No</td>\n",
              "      <td>0000000</td>\n",
              "      <td>12</td>\n",
              "      <td>25</td>\n",
              "      <td>12</td>\n",
              "      <td>34</td>\n",
              "      <td>99</td>\n",
              "      <td>99</td>\n",
              "      <td>0</td>\n",
              "      <td>None</td>\n",
              "      <td>0</td>\n",
              "      <td>None</td>\n",
              "      <td>0</td>\n",
              "      <td>None</td>\n",
              "      <td>2</td>\n",
              "      <td>0</td>\n",
              "      <td>2015-11-17 12:26:00+00:00</td>\n",
              "    </tr>\n",
              "    <tr>\n",
              "      <th>4</th>\n",
              "      <td>19</td>\n",
              "      <td>Iowa</td>\n",
              "      <td>190231</td>\n",
              "      <td>1</td>\n",
              "      <td>1</td>\n",
              "      <td>0</td>\n",
              "      <td>0</td>\n",
              "      <td>0</td>\n",
              "      <td>1</td>\n",
              "      <td>1</td>\n",
              "      <td>121</td>\n",
              "      <td>0</td>\n",
              "      <td>31</td>\n",
              "      <td>10</td>\n",
              "      <td>2015</td>\n",
              "      <td>7</td>\n",
              "      <td>4</td>\n",
              "      <td>49</td>\n",
              "      <td>0</td>\n",
              "      <td>1</td>\n",
              "      <td>Rural</td>\n",
              "      <td>7</td>\n",
              "      <td>Local</td>\n",
              "      <td>2</td>\n",
              "      <td>County Highway Agency</td>\n",
              "      <td>4</td>\n",
              "      <td>County Road</td>\n",
              "      <td>CR-290TH ST</td>\n",
              "      <td></td>\n",
              "      <td>0</td>\n",
              "      <td>41.228814</td>\n",
              "      <td>-93.970375</td>\n",
              "      <td>0</td>\n",
              "      <td>No Special Jurisdiction (Includes National For...</td>\n",
              "      <td>1</td>\n",
              "      <td>Rollover/Overturn</td>\n",
              "      <td>0</td>\n",
              "      <td>Not Collision with Motor Vehicle in Transport ...</td>\n",
              "      <td>No</td>\n",
              "      <td>1</td>\n",
              "      <td>Non-Junction</td>\n",
              "      <td>Not an Intersection</td>\n",
              "      <td>None</td>\n",
              "      <td>4</td>\n",
              "      <td>On Roadside</td>\n",
              "      <td>2</td>\n",
              "      <td>Dark – Not Lighted</td>\n",
              "      <td>2</td>\n",
              "      <td>Rain</td>\n",
              "      <td>0</td>\n",
              "      <td>No Additional Atmospheric Conditions</td>\n",
              "      <td>2</td>\n",
              "      <td>Rain</td>\n",
              "      <td>No</td>\n",
              "      <td>0000000</td>\n",
              "      <td>88</td>\n",
              "      <td>88</td>\n",
              "      <td>88</td>\n",
              "      <td>88</td>\n",
              "      <td>88</td>\n",
              "      <td>88</td>\n",
              "      <td>0</td>\n",
              "      <td>None</td>\n",
              "      <td>0</td>\n",
              "      <td>None</td>\n",
              "      <td>0</td>\n",
              "      <td>None</td>\n",
              "      <td>1</td>\n",
              "      <td>0</td>\n",
              "      <td>2015-10-31 04:49:00+00:00</td>\n",
              "    </tr>\n",
              "  </tbody>\n",
              "</table>\n",
              "</div>"
            ],
            "text/plain": [
              "   state_number state_name  ...  number_of_drunk_drivers        timestamp_of_crash\n",
              "0            19       Iowa  ...                        1 2015-09-11 20:20:00+00:00\n",
              "1            19       Iowa  ...                        1 2015-11-01 00:30:00+00:00\n",
              "2            19       Iowa  ...                        0 2015-05-04 16:18:00+00:00\n",
              "3            19       Iowa  ...                        0 2015-11-17 12:26:00+00:00\n",
              "4            19       Iowa  ...                        0 2015-10-31 04:49:00+00:00\n",
              "\n",
              "[5 rows x 70 columns]"
            ]
          },
          "metadata": {},
          "execution_count": 80
        }
      ]
    },
    {
      "cell_type": "code",
      "metadata": {
        "colab": {
          "base_uri": "https://localhost:8080/",
          "height": 269
        },
        "id": "GyJ9z72EP5LM",
        "outputId": "d15a6fcc-a175-49eb-acaa-574f60cd1e18"
      },
      "source": [
        "# Query to find out the number of accidents for each day of the week\n",
        "query = \"\"\"\n",
        "        SELECT COUNT(consecutive_number) AS num_accidents, \n",
        "               EXTRACT(DAYOFWEEK FROM timestamp_of_crash) AS day_of_week\n",
        "        FROM `bigquery-public-data.nhtsa_traffic_fatalities.accident_2015`\n",
        "        GROUP BY day_of_week\n",
        "        ORDER BY num_accidents DESC\n",
        "        \"\"\"\n",
        "\n",
        "# Set up the query (cancel the query if it would use too much of \n",
        "# your quota, with the limit set to 1 GB)\n",
        "safe_config = bigquery.QueryJobConfig(maximum_bytes_billed=10**9)\n",
        "query_job = client.query(query, job_config=safe_config)\n",
        "\n",
        "# API request - run the query, and convert the results to a pandas DataFrame\n",
        "accidents_by_day = query_job.to_dataframe()\n",
        "\n",
        "# Print the DataFrame\n",
        "accidents_by_day"
      ],
      "execution_count": null,
      "outputs": [
        {
          "output_type": "execute_result",
          "data": {
            "text/html": [
              "<div>\n",
              "<style scoped>\n",
              "    .dataframe tbody tr th:only-of-type {\n",
              "        vertical-align: middle;\n",
              "    }\n",
              "\n",
              "    .dataframe tbody tr th {\n",
              "        vertical-align: top;\n",
              "    }\n",
              "\n",
              "    .dataframe thead th {\n",
              "        text-align: right;\n",
              "    }\n",
              "</style>\n",
              "<table border=\"1\" class=\"dataframe\">\n",
              "  <thead>\n",
              "    <tr style=\"text-align: right;\">\n",
              "      <th></th>\n",
              "      <th>num_accidents</th>\n",
              "      <th>day_of_week</th>\n",
              "    </tr>\n",
              "  </thead>\n",
              "  <tbody>\n",
              "    <tr>\n",
              "      <th>0</th>\n",
              "      <td>5659</td>\n",
              "      <td>7</td>\n",
              "    </tr>\n",
              "    <tr>\n",
              "      <th>1</th>\n",
              "      <td>5298</td>\n",
              "      <td>1</td>\n",
              "    </tr>\n",
              "    <tr>\n",
              "      <th>2</th>\n",
              "      <td>4916</td>\n",
              "      <td>6</td>\n",
              "    </tr>\n",
              "    <tr>\n",
              "      <th>3</th>\n",
              "      <td>4460</td>\n",
              "      <td>5</td>\n",
              "    </tr>\n",
              "    <tr>\n",
              "      <th>4</th>\n",
              "      <td>4182</td>\n",
              "      <td>4</td>\n",
              "    </tr>\n",
              "    <tr>\n",
              "      <th>5</th>\n",
              "      <td>4038</td>\n",
              "      <td>2</td>\n",
              "    </tr>\n",
              "    <tr>\n",
              "      <th>6</th>\n",
              "      <td>3985</td>\n",
              "      <td>3</td>\n",
              "    </tr>\n",
              "  </tbody>\n",
              "</table>\n",
              "</div>"
            ],
            "text/plain": [
              "   num_accidents  day_of_week\n",
              "0           5659            7\n",
              "1           5298            1\n",
              "2           4916            6\n",
              "3           4460            5\n",
              "4           4182            4\n",
              "5           4038            2\n",
              "6           3985            3"
            ]
          },
          "metadata": {},
          "execution_count": 90
        }
      ]
    },
    {
      "cell_type": "markdown",
      "metadata": {
        "id": "nrJgXtvuStI6"
      },
      "source": [
        "## Exercises 4"
      ]
    },
    {
      "cell_type": "code",
      "metadata": {
        "colab": {
          "base_uri": "https://localhost:8080/",
          "height": 206
        },
        "id": "n14pdDKOS4mb",
        "outputId": "1699093d-830c-4bcf-d283-a2139830345e"
      },
      "source": [
        "# Construct a reference to the \"world_bank_intl_education\" dataset\n",
        "dataset_ref = client.dataset(\"world_bank_intl_education\", project=\"bigquery-public-data\")\n",
        "\n",
        "# API request - fetch the dataset\n",
        "dataset = client.get_dataset(dataset_ref)\n",
        "\n",
        "# Construct a reference to the \"international_education\" table\n",
        "table_ref = dataset_ref.table(\"international_education\")\n",
        "\n",
        "# API request - fetch the table\n",
        "table = client.get_table(table_ref)\n",
        "\n",
        "# Preview the first five lines of the \"international_education\" table\n",
        "client.list_rows(table, max_results=5).to_dataframe()"
      ],
      "execution_count": null,
      "outputs": [
        {
          "output_type": "execute_result",
          "data": {
            "text/html": [
              "<div>\n",
              "<style scoped>\n",
              "    .dataframe tbody tr th:only-of-type {\n",
              "        vertical-align: middle;\n",
              "    }\n",
              "\n",
              "    .dataframe tbody tr th {\n",
              "        vertical-align: top;\n",
              "    }\n",
              "\n",
              "    .dataframe thead th {\n",
              "        text-align: right;\n",
              "    }\n",
              "</style>\n",
              "<table border=\"1\" class=\"dataframe\">\n",
              "  <thead>\n",
              "    <tr style=\"text-align: right;\">\n",
              "      <th></th>\n",
              "      <th>country_name</th>\n",
              "      <th>country_code</th>\n",
              "      <th>indicator_name</th>\n",
              "      <th>indicator_code</th>\n",
              "      <th>value</th>\n",
              "      <th>year</th>\n",
              "    </tr>\n",
              "  </thead>\n",
              "  <tbody>\n",
              "    <tr>\n",
              "      <th>0</th>\n",
              "      <td>Turks and Caicos Islands</td>\n",
              "      <td>TCA</td>\n",
              "      <td>Theoretical duration of pre-primary education ...</td>\n",
              "      <td>UIS.THDUR.0</td>\n",
              "      <td>2.0</td>\n",
              "      <td>2016</td>\n",
              "    </tr>\n",
              "    <tr>\n",
              "      <th>1</th>\n",
              "      <td>St. Vincent and the Grenadines</td>\n",
              "      <td>VCT</td>\n",
              "      <td>Population of the official age for upper secon...</td>\n",
              "      <td>SP.SEC.UTOT.FE.IN</td>\n",
              "      <td>1913.0</td>\n",
              "      <td>2016</td>\n",
              "    </tr>\n",
              "    <tr>\n",
              "      <th>2</th>\n",
              "      <td>Suriname</td>\n",
              "      <td>SUR</td>\n",
              "      <td>Population of the official entrance age to sec...</td>\n",
              "      <td>UIS.SAP.23.GPV.G1</td>\n",
              "      <td>9727.0</td>\n",
              "      <td>2016</td>\n",
              "    </tr>\n",
              "    <tr>\n",
              "      <th>3</th>\n",
              "      <td>Tajikistan</td>\n",
              "      <td>TJK</td>\n",
              "      <td>Percentage of female graduates from tertiary e...</td>\n",
              "      <td>SE.TER.GRAD.OT.FE.ZS</td>\n",
              "      <td>0.0</td>\n",
              "      <td>2016</td>\n",
              "    </tr>\n",
              "    <tr>\n",
              "      <th>4</th>\n",
              "      <td>Libya</td>\n",
              "      <td>LBY</td>\n",
              "      <td>Population of the official age for post-second...</td>\n",
              "      <td>UIS.SAP.4</td>\n",
              "      <td>297115.0</td>\n",
              "      <td>2016</td>\n",
              "    </tr>\n",
              "  </tbody>\n",
              "</table>\n",
              "</div>"
            ],
            "text/plain": [
              "                     country_name country_code  ...     value  year\n",
              "0        Turks and Caicos Islands          TCA  ...       2.0  2016\n",
              "1  St. Vincent and the Grenadines          VCT  ...    1913.0  2016\n",
              "2                        Suriname          SUR  ...    9727.0  2016\n",
              "3                      Tajikistan          TJK  ...       0.0  2016\n",
              "4                           Libya          LBY  ...  297115.0  2016\n",
              "\n",
              "[5 rows x 6 columns]"
            ]
          },
          "metadata": {},
          "execution_count": 91
        }
      ]
    },
    {
      "cell_type": "markdown",
      "metadata": {
        "id": "xheqyYuYS9xc"
      },
      "source": [
        "### 4.1 Government expenditure on education"
      ]
    },
    {
      "cell_type": "markdown",
      "metadata": {
        "id": "03iQIuqATBSO"
      },
      "source": [
        "Which countries spend the largest fraction of GDP on education?"
      ]
    },
    {
      "cell_type": "code",
      "metadata": {
        "colab": {
          "base_uri": "https://localhost:8080/"
        },
        "id": "eThTHtP6S_5c",
        "outputId": "8738ffeb-b46f-4dbf-9b16-85d235777c1b"
      },
      "source": [
        "# Your code goes here\n",
        "country_spend_pct_query = \"\"\"\n",
        "                          SELECT country_name, AVG(value) as avg_ed_spending_pct\n",
        "                          FROM `bigquery-public-data.world_bank_intl_education.international_education`\n",
        "                          WHERE indicator_code = 'SE.XPD.TOTL.GD.ZS' AND year >=2010 AND year <= 2017\n",
        "                          GROUP BY country_name\n",
        "                          ORDER BY avg_ed_spending_pct DESC\n",
        "                          \"\"\"\n",
        "\n",
        "# Set up the query (cancel the query if it would use too much of \n",
        "# your quota, with the limit set to 1 GB)\n",
        "safe_config = bigquery.QueryJobConfig(maximum_bytes_billed=10**9)\n",
        "country_spend_pct_query_job = client.query(country_spend_pct_query, job_config=safe_config)\n",
        "\n",
        "# API request - run the query, and return a pandas DataFrame\n",
        "country_spending_results = country_spend_pct_query_job.to_dataframe()\n",
        "\n",
        "# View top few rows of results\n",
        "print(country_spending_results.head())"
      ],
      "execution_count": null,
      "outputs": [
        {
          "output_type": "stream",
          "name": "stdout",
          "text": [
            "            country_name  avg_ed_spending_pct\n",
            "0                   Cuba            12.837270\n",
            "1  Micronesia, Fed. Sts.            12.467750\n",
            "2        Solomon Islands            10.001080\n",
            "3                Moldova             8.372153\n",
            "4                Namibia             8.349610\n"
          ]
        }
      ]
    },
    {
      "cell_type": "markdown",
      "metadata": {
        "id": "DTHwxC4ZTaUn"
      },
      "source": [
        "### 4.2 Identify interesting codes to explore"
      ]
    },
    {
      "cell_type": "markdown",
      "metadata": {
        "id": "QJ5ldtaLTgSQ"
      },
      "source": [
        "The last question started by telling you to focus on rows with the code `SE.XPD.TOTL.GD.ZS`. But how would you find more interesting indicator codes to explore?\n",
        "\n",
        "There are 1000s of codes in the dataset, so it would be time consuming to review them all. But many codes are available for only a few countries. When browsing the options for different codes, you might restrict yourself to codes that are reported by many countries.\n",
        "\n",
        "Write a query below that selects the indicator code and indicator name for all codes with at least 175 rows in the year 2016.\n",
        "\n",
        "Requirements:\n",
        "\n",
        "* You should have one row for each indicator code.\n",
        "* The columns in your results should be called indicator_code, indicator_name, and num_rows.\n",
        "* Only select codes with 175 or more rows in the raw database (exactly 175 rows would be included).\n",
        "* To get both the indicator_code and indicator_name in your resulting DataFrame, you need to include both in your SELECT statement (in addition to a COUNT() aggregation). This requires you to include both in your GROUP BY clause.\n",
        "* Order from results most frequent to least frequent."
      ]
    },
    {
      "cell_type": "code",
      "metadata": {
        "colab": {
          "base_uri": "https://localhost:8080/"
        },
        "id": "2VUraGzIT40c",
        "outputId": "525f614f-7821-480b-cf8c-104551e80e18"
      },
      "source": [
        "# Your code goes here\n",
        "country_spend_pct_query = \"\"\"\n",
        "                          SELECT indicator_code, indicator_name, COUNT(1) AS num_rows\n",
        "                          FROM `bigquery-public-data.world_bank_intl_education.international_education`\n",
        "                          WHERE year = 2016\n",
        "                          GROUP BY indicator_code, indicator_name\n",
        "                          HAVING COUNT(1) >= 175\n",
        "                          ORDER BY num_rows DESC\n",
        "                          \"\"\"\n",
        "\n",
        "# Set up the query (cancel the query if it would use too much of \n",
        "# your quota, with the limit set to 1 GB)\n",
        "safe_config = bigquery.QueryJobConfig(maximum_bytes_billed=10**9)\n",
        "country_spend_pct_query_job = client.query(country_spend_pct_query, job_config=safe_config)\n",
        "\n",
        "# API request - run the query, and return a pandas DataFrame\n",
        "country_spending_results = country_spend_pct_query_job.to_dataframe()\n",
        "\n",
        "# View top few rows of results\n",
        "print(country_spending_results.head())"
      ],
      "execution_count": null,
      "outputs": [
        {
          "output_type": "stream",
          "name": "stdout",
          "text": [
            "      indicator_code                       indicator_name  num_rows\n",
            "0        SP.POP.TOTL                    Population, total       232\n",
            "1        SP.POP.GROW         Population growth (annual %)       232\n",
            "2     IT.NET.USER.P2      Internet users (per 100 people)       223\n",
            "3        SH.DYN.MORT  Mortality rate, under-5 (per 1,000)       213\n",
            "4  SP.POP.TOTL.FE.ZS      Population, female (% of total)       213\n"
          ]
        }
      ]
    },
    {
      "cell_type": "markdown",
      "metadata": {
        "id": "trVOAd5eU485"
      },
      "source": [
        "## As & With"
      ]
    },
    {
      "cell_type": "markdown",
      "metadata": {
        "id": "eT2r58cYVDXg"
      },
      "source": [
        "### Example: How many Bitcoin transactions are made per month?"
      ]
    },
    {
      "cell_type": "code",
      "metadata": {
        "colab": {
          "base_uri": "https://localhost:8080/",
          "height": 486
        },
        "id": "pMMqRmBPVHXR",
        "outputId": "d8bcdf2d-402e-4e1d-e8c6-53ae0c3e28df"
      },
      "source": [
        "# Construct a reference to the \"crypto_bitcoin\" dataset\n",
        "dataset_ref = client.dataset(\"crypto_bitcoin\", project=\"bigquery-public-data\")\n",
        "\n",
        "# API request - fetch the dataset\n",
        "dataset = client.get_dataset(dataset_ref)\n",
        "\n",
        "# Construct a reference to the \"transactions\" table\n",
        "table_ref = dataset_ref.table(\"transactions\")\n",
        "\n",
        "# API request - fetch the table\n",
        "table = client.get_table(table_ref)\n",
        "\n",
        "# Preview the first five lines of the \"transactions\" table\n",
        "client.list_rows(table, max_results=5).to_dataframe()"
      ],
      "execution_count": null,
      "outputs": [
        {
          "output_type": "execute_result",
          "data": {
            "text/html": [
              "<div>\n",
              "<style scoped>\n",
              "    .dataframe tbody tr th:only-of-type {\n",
              "        vertical-align: middle;\n",
              "    }\n",
              "\n",
              "    .dataframe tbody tr th {\n",
              "        vertical-align: top;\n",
              "    }\n",
              "\n",
              "    .dataframe thead th {\n",
              "        text-align: right;\n",
              "    }\n",
              "</style>\n",
              "<table border=\"1\" class=\"dataframe\">\n",
              "  <thead>\n",
              "    <tr style=\"text-align: right;\">\n",
              "      <th></th>\n",
              "      <th>hash</th>\n",
              "      <th>size</th>\n",
              "      <th>virtual_size</th>\n",
              "      <th>version</th>\n",
              "      <th>lock_time</th>\n",
              "      <th>block_hash</th>\n",
              "      <th>block_number</th>\n",
              "      <th>block_timestamp</th>\n",
              "      <th>block_timestamp_month</th>\n",
              "      <th>input_count</th>\n",
              "      <th>output_count</th>\n",
              "      <th>input_value</th>\n",
              "      <th>output_value</th>\n",
              "      <th>is_coinbase</th>\n",
              "      <th>fee</th>\n",
              "      <th>inputs</th>\n",
              "      <th>outputs</th>\n",
              "    </tr>\n",
              "  </thead>\n",
              "  <tbody>\n",
              "    <tr>\n",
              "      <th>0</th>\n",
              "      <td>f5d9499fb93c104c30f2f0a6055787c4e788b0fec8be89...</td>\n",
              "      <td>512</td>\n",
              "      <td>512</td>\n",
              "      <td>1</td>\n",
              "      <td>0</td>\n",
              "      <td>000000000000000160f3b852402569f6a1f1b38cd1a35a...</td>\n",
              "      <td>273029</td>\n",
              "      <td>2013-12-04 13:32:16+00:00</td>\n",
              "      <td>2013-12-01</td>\n",
              "      <td>2</td>\n",
              "      <td>6</td>\n",
              "      <td>978848094</td>\n",
              "      <td>978798000</td>\n",
              "      <td>False</td>\n",
              "      <td>50094</td>\n",
              "      <td>[{'index': 0, 'spent_transaction_hash': '0608f...</td>\n",
              "      <td>[{'index': 0, 'script_asm': 'OP_DUP OP_HASH160...</td>\n",
              "    </tr>\n",
              "    <tr>\n",
              "      <th>1</th>\n",
              "      <td>de43728cb2982ab848938d061f55d522e15fe79bb5c3ab...</td>\n",
              "      <td>512</td>\n",
              "      <td>512</td>\n",
              "      <td>1</td>\n",
              "      <td>0</td>\n",
              "      <td>00000000000000003a1260f6a07fa8a9f66bbc89972641...</td>\n",
              "      <td>273014</td>\n",
              "      <td>2013-12-04 11:08:18+00:00</td>\n",
              "      <td>2013-12-01</td>\n",
              "      <td>2</td>\n",
              "      <td>6</td>\n",
              "      <td>633984346</td>\n",
              "      <td>633934346</td>\n",
              "      <td>False</td>\n",
              "      <td>50000</td>\n",
              "      <td>[{'index': 0, 'spent_transaction_hash': '10e0e...</td>\n",
              "      <td>[{'index': 0, 'script_asm': 'OP_DUP OP_HASH160...</td>\n",
              "    </tr>\n",
              "    <tr>\n",
              "      <th>2</th>\n",
              "      <td>b9aaa4ab930570f8af4eda306637b9a96b6a5a8bba0b15...</td>\n",
              "      <td>768</td>\n",
              "      <td>768</td>\n",
              "      <td>1</td>\n",
              "      <td>0</td>\n",
              "      <td>0000000000000003696f88dc5eb21e54f25d94938ad562...</td>\n",
              "      <td>277416</td>\n",
              "      <td>2013-12-28 14:48:01+00:00</td>\n",
              "      <td>2013-12-01</td>\n",
              "      <td>4</td>\n",
              "      <td>1</td>\n",
              "      <td>170617369</td>\n",
              "      <td>170607369</td>\n",
              "      <td>False</td>\n",
              "      <td>10000</td>\n",
              "      <td>[{'index': 0, 'spent_transaction_hash': '91ded...</td>\n",
              "      <td>[{'index': 0, 'script_asm': 'OP_DUP OP_HASH160...</td>\n",
              "    </tr>\n",
              "    <tr>\n",
              "      <th>3</th>\n",
              "      <td>71863169438b978b5cc812261781a333a2a20b03509601...</td>\n",
              "      <td>768</td>\n",
              "      <td>768</td>\n",
              "      <td>1</td>\n",
              "      <td>0</td>\n",
              "      <td>000000000000000356bdf67fc717f56f065935ec29edd0...</td>\n",
              "      <td>272883</td>\n",
              "      <td>2013-12-03 18:47:25+00:00</td>\n",
              "      <td>2013-12-01</td>\n",
              "      <td>4</td>\n",
              "      <td>2</td>\n",
              "      <td>76686838</td>\n",
              "      <td>76586838</td>\n",
              "      <td>False</td>\n",
              "      <td>100000</td>\n",
              "      <td>[{'index': 0, 'spent_transaction_hash': 'f9b6b...</td>\n",
              "      <td>[{'index': 0, 'script_asm': 'OP_DUP OP_HASH160...</td>\n",
              "    </tr>\n",
              "    <tr>\n",
              "      <th>4</th>\n",
              "      <td>eef7f497635bd52bf89393aff898bef8a93dce7058c9ee...</td>\n",
              "      <td>768</td>\n",
              "      <td>768</td>\n",
              "      <td>1</td>\n",
              "      <td>0</td>\n",
              "      <td>000000000000000574f53b20f90356afb560c8e68587f7...</td>\n",
              "      <td>272702</td>\n",
              "      <td>2013-12-02 19:11:15+00:00</td>\n",
              "      <td>2013-12-01</td>\n",
              "      <td>4</td>\n",
              "      <td>4</td>\n",
              "      <td>65856646</td>\n",
              "      <td>65816646</td>\n",
              "      <td>False</td>\n",
              "      <td>40000</td>\n",
              "      <td>[{'index': 0, 'spent_transaction_hash': '54f5d...</td>\n",
              "      <td>[{'index': 0, 'script_asm': 'OP_DUP OP_HASH160...</td>\n",
              "    </tr>\n",
              "  </tbody>\n",
              "</table>\n",
              "</div>"
            ],
            "text/plain": [
              "                                                hash  ...                                            outputs\n",
              "0  f5d9499fb93c104c30f2f0a6055787c4e788b0fec8be89...  ...  [{'index': 0, 'script_asm': 'OP_DUP OP_HASH160...\n",
              "1  de43728cb2982ab848938d061f55d522e15fe79bb5c3ab...  ...  [{'index': 0, 'script_asm': 'OP_DUP OP_HASH160...\n",
              "2  b9aaa4ab930570f8af4eda306637b9a96b6a5a8bba0b15...  ...  [{'index': 0, 'script_asm': 'OP_DUP OP_HASH160...\n",
              "3  71863169438b978b5cc812261781a333a2a20b03509601...  ...  [{'index': 0, 'script_asm': 'OP_DUP OP_HASH160...\n",
              "4  eef7f497635bd52bf89393aff898bef8a93dce7058c9ee...  ...  [{'index': 0, 'script_asm': 'OP_DUP OP_HASH160...\n",
              "\n",
              "[5 rows x 17 columns]"
            ]
          },
          "metadata": {},
          "execution_count": 95
        }
      ]
    },
    {
      "cell_type": "code",
      "metadata": {
        "colab": {
          "base_uri": "https://localhost:8080/",
          "height": 206
        },
        "id": "Rvz4bXPXVYAe",
        "outputId": "38e2442f-a8d0-4932-8c38-7eb3f372ce4d"
      },
      "source": [
        "# Query to select the number of transactions per date, sorted by date\n",
        "query_with_CTE = \"\"\" \n",
        "                 WITH time AS \n",
        "                 (\n",
        "                     SELECT DATE(block_timestamp) AS trans_date\n",
        "                     FROM `bigquery-public-data.crypto_bitcoin.transactions`\n",
        "                 )\n",
        "                 SELECT COUNT(1) AS transactions,\n",
        "                        trans_date\n",
        "                 FROM time\n",
        "                 GROUP BY trans_date\n",
        "                 ORDER BY trans_date\n",
        "                 \"\"\"\n",
        "\n",
        "# Set up the query (cancel the query if it would use too much of \n",
        "# your quota, with the limit set to 10 GB)\n",
        "safe_config = bigquery.QueryJobConfig(maximum_bytes_billed=10**10)\n",
        "query_job = client.query(query_with_CTE, job_config=safe_config)\n",
        "\n",
        "# API request - run the query, and convert the results to a pandas DataFrame\n",
        "transactions_by_date = query_job.to_dataframe()\n",
        "\n",
        "# Print the first five rows\n",
        "transactions_by_date.head()"
      ],
      "execution_count": null,
      "outputs": [
        {
          "output_type": "execute_result",
          "data": {
            "text/html": [
              "<div>\n",
              "<style scoped>\n",
              "    .dataframe tbody tr th:only-of-type {\n",
              "        vertical-align: middle;\n",
              "    }\n",
              "\n",
              "    .dataframe tbody tr th {\n",
              "        vertical-align: top;\n",
              "    }\n",
              "\n",
              "    .dataframe thead th {\n",
              "        text-align: right;\n",
              "    }\n",
              "</style>\n",
              "<table border=\"1\" class=\"dataframe\">\n",
              "  <thead>\n",
              "    <tr style=\"text-align: right;\">\n",
              "      <th></th>\n",
              "      <th>transactions</th>\n",
              "      <th>trans_date</th>\n",
              "    </tr>\n",
              "  </thead>\n",
              "  <tbody>\n",
              "    <tr>\n",
              "      <th>0</th>\n",
              "      <td>1</td>\n",
              "      <td>2009-01-03</td>\n",
              "    </tr>\n",
              "    <tr>\n",
              "      <th>1</th>\n",
              "      <td>14</td>\n",
              "      <td>2009-01-09</td>\n",
              "    </tr>\n",
              "    <tr>\n",
              "      <th>2</th>\n",
              "      <td>61</td>\n",
              "      <td>2009-01-10</td>\n",
              "    </tr>\n",
              "    <tr>\n",
              "      <th>3</th>\n",
              "      <td>93</td>\n",
              "      <td>2009-01-11</td>\n",
              "    </tr>\n",
              "    <tr>\n",
              "      <th>4</th>\n",
              "      <td>101</td>\n",
              "      <td>2009-01-12</td>\n",
              "    </tr>\n",
              "  </tbody>\n",
              "</table>\n",
              "</div>"
            ],
            "text/plain": [
              "   transactions  trans_date\n",
              "0             1  2009-01-03\n",
              "1            14  2009-01-09\n",
              "2            61  2009-01-10\n",
              "3            93  2009-01-11\n",
              "4           101  2009-01-12"
            ]
          },
          "metadata": {},
          "execution_count": 97
        }
      ]
    },
    {
      "cell_type": "code",
      "metadata": {
        "colab": {
          "base_uri": "https://localhost:8080/",
          "height": 298
        },
        "id": "UCduJspLVu5B",
        "outputId": "29764327-d53f-4d83-bcf1-87e0abf92330"
      },
      "source": [
        "transactions_by_date.set_index('trans_date').plot(grid=True)"
      ],
      "execution_count": null,
      "outputs": [
        {
          "output_type": "execute_result",
          "data": {
            "text/plain": [
              "<matplotlib.axes._subplots.AxesSubplot at 0x7f121b5487d0>"
            ]
          },
          "metadata": {},
          "execution_count": 99
        },
        {
          "output_type": "display_data",
          "data": {
            "image/png": "[encoded data removed]",
            "text/plain": [
              "<Figure size 432x288 with 1 Axes>"
            ]
          },
          "metadata": {
            "needs_background": "light"
          }
        }
      ]
    },
    {
      "cell_type": "markdown",
      "metadata": {
        "id": "MBXdC897V6BX"
      },
      "source": [
        "As you can see, common table expressions (CTEs) let you shift a lot of your data cleaning into SQL. That's an especially good thing in the case of BigQuery, because it is vastly faster than doing the work in Pandas."
      ]
    },
    {
      "cell_type": "markdown",
      "metadata": {
        "id": "YJH5fjPuWMIx"
      },
      "source": [
        "## Exercises 5"
      ]
    },
    {
      "cell_type": "code",
      "metadata": {
        "id": "9SSQ7pRfWkaA"
      },
      "source": [
        "# Construct a reference to the \"chicago_taxi_trips\" dataset\n",
        "dataset_ref = client.dataset(\"chicago_taxi_trips\", project=\"bigquery-public-data\")\n",
        "\n",
        "# API request - fetch the dataset\n",
        "dataset = client.get_dataset(dataset_ref)"
      ],
      "execution_count": null,
      "outputs": []
    },
    {
      "cell_type": "markdown",
      "metadata": {
        "id": "JHZNhPNNWoRL"
      },
      "source": [
        "### 5.1 Find the data"
      ]
    },
    {
      "cell_type": "code",
      "metadata": {
        "colab": {
          "base_uri": "https://localhost:8080/"
        },
        "id": "JRI50TklXEy8",
        "outputId": "53f7efea-8acb-4d14-823c-15778e413a09"
      },
      "source": [
        "tables = list(client.list_tables(dataset))\n",
        "\n",
        "for table in tables:\n",
        "    print(table.table_id)"
      ],
      "execution_count": null,
      "outputs": [
        {
          "output_type": "stream",
          "name": "stdout",
          "text": [
            "taxi_trips\n"
          ]
        }
      ]
    },
    {
      "cell_type": "code",
      "metadata": {
        "colab": {
          "base_uri": "https://localhost:8080/",
          "height": 35
        },
        "id": "Nd0VIjo7YMGw",
        "outputId": "9840eaec-0ff3-48a5-ccae-770cb6c0b768"
      },
      "source": [
        "# due to there is only one table\n",
        "table_name = tables[0].table_id\n",
        "table_name"
      ],
      "execution_count": null,
      "outputs": [
        {
          "output_type": "execute_result",
          "data": {
            "application/vnd.google.colaboratory.intrinsic+json": {
              "type": "string"
            },
            "text/plain": [
              "'taxi_trips'"
            ]
          },
          "metadata": {},
          "execution_count": 107
        }
      ]
    },
    {
      "cell_type": "markdown",
      "metadata": {
        "id": "hMIjf2bHYiV7"
      },
      "source": [
        "### 5.2 Peek at the data"
      ]
    },
    {
      "cell_type": "markdown",
      "metadata": {
        "id": "LlNxDCuTYmVq"
      },
      "source": [
        "Use the next code cell to peek at the top few rows of the data. Inspect the data and see if any issues with data quality are immediately obvious."
      ]
    },
    {
      "cell_type": "code",
      "metadata": {
        "colab": {
          "base_uri": "https://localhost:8080/",
          "height": 555
        },
        "id": "zm7a4AHTYydj",
        "outputId": "b2d549db-fc8a-4294-ed59-ee845eff6017"
      },
      "source": [
        "# Construct a reference to the \"transactions\" table\n",
        "table_ref = dataset_ref.table(table_name)\n",
        "\n",
        "# API request - fetch the table\n",
        "table = client.get_table(table_ref)\n",
        "\n",
        "# Preview the first five lines of the \"transactions\" table\n",
        "client.list_rows(table, max_results=5).to_dataframe()"
      ],
      "execution_count": null,
      "outputs": [
        {
          "output_type": "execute_result",
          "data": {
            "text/html": [
              "<div>\n",
              "<style scoped>\n",
              "    .dataframe tbody tr th:only-of-type {\n",
              "        vertical-align: middle;\n",
              "    }\n",
              "\n",
              "    .dataframe tbody tr th {\n",
              "        vertical-align: top;\n",
              "    }\n",
              "\n",
              "    .dataframe thead th {\n",
              "        text-align: right;\n",
              "    }\n",
              "</style>\n",
              "<table border=\"1\" class=\"dataframe\">\n",
              "  <thead>\n",
              "    <tr style=\"text-align: right;\">\n",
              "      <th></th>\n",
              "      <th>unique_key</th>\n",
              "      <th>taxi_id</th>\n",
              "      <th>trip_start_timestamp</th>\n",
              "      <th>trip_end_timestamp</th>\n",
              "      <th>trip_seconds</th>\n",
              "      <th>trip_miles</th>\n",
              "      <th>pickup_census_tract</th>\n",
              "      <th>dropoff_census_tract</th>\n",
              "      <th>pickup_community_area</th>\n",
              "      <th>dropoff_community_area</th>\n",
              "      <th>fare</th>\n",
              "      <th>tips</th>\n",
              "      <th>tolls</th>\n",
              "      <th>extras</th>\n",
              "      <th>trip_total</th>\n",
              "      <th>payment_type</th>\n",
              "      <th>company</th>\n",
              "      <th>pickup_latitude</th>\n",
              "      <th>pickup_longitude</th>\n",
              "      <th>pickup_location</th>\n",
              "      <th>dropoff_latitude</th>\n",
              "      <th>dropoff_longitude</th>\n",
              "      <th>dropoff_location</th>\n",
              "    </tr>\n",
              "  </thead>\n",
              "  <tbody>\n",
              "    <tr>\n",
              "      <th>0</th>\n",
              "      <td>e5ab129c155c3719216beb5dcbf2aa8ca19e5656</td>\n",
              "      <td>c1aac0b2efe1a131a40f9761b4f5c9dcad9168b29cac42...</td>\n",
              "      <td>2014-07-30 23:00:00+00:00</td>\n",
              "      <td>2014-07-30 23:00:00+00:00</td>\n",
              "      <td>0</td>\n",
              "      <td>0.0</td>\n",
              "      <td>None</td>\n",
              "      <td>None</td>\n",
              "      <td>None</td>\n",
              "      <td>None</td>\n",
              "      <td>8.85</td>\n",
              "      <td>1.77</td>\n",
              "      <td>0.0</td>\n",
              "      <td>0.0</td>\n",
              "      <td>10.62</td>\n",
              "      <td>Credit Card</td>\n",
              "      <td>Chicago Elite Cab Corp. (Chicago Carriag</td>\n",
              "      <td>None</td>\n",
              "      <td>None</td>\n",
              "      <td>None</td>\n",
              "      <td>None</td>\n",
              "      <td>None</td>\n",
              "      <td>None</td>\n",
              "    </tr>\n",
              "    <tr>\n",
              "      <th>1</th>\n",
              "      <td>a5857e21a97c70612af9b1045b8bd7a626c558ef</td>\n",
              "      <td>c6e0071dc1db129271f6d4833953bb62bd466a9aed3330...</td>\n",
              "      <td>2014-07-30 09:30:00+00:00</td>\n",
              "      <td>2014-07-30 09:30:00+00:00</td>\n",
              "      <td>0</td>\n",
              "      <td>0.0</td>\n",
              "      <td>None</td>\n",
              "      <td>None</td>\n",
              "      <td>None</td>\n",
              "      <td>None</td>\n",
              "      <td>12.25</td>\n",
              "      <td>0.00</td>\n",
              "      <td>0.0</td>\n",
              "      <td>0.0</td>\n",
              "      <td>12.25</td>\n",
              "      <td>Credit Card</td>\n",
              "      <td>T.A.S. - Payment Only</td>\n",
              "      <td>None</td>\n",
              "      <td>None</td>\n",
              "      <td>None</td>\n",
              "      <td>None</td>\n",
              "      <td>None</td>\n",
              "      <td>None</td>\n",
              "    </tr>\n",
              "    <tr>\n",
              "      <th>2</th>\n",
              "      <td>2f5f796136c7e11e48d3bb08c8c6d73dfbe0e88c</td>\n",
              "      <td>54044c4ce47d539663e1520272de87e38a14d38ca23a66...</td>\n",
              "      <td>2014-07-13 07:00:00+00:00</td>\n",
              "      <td>2014-07-13 07:00:00+00:00</td>\n",
              "      <td>0</td>\n",
              "      <td>0.0</td>\n",
              "      <td>None</td>\n",
              "      <td>None</td>\n",
              "      <td>None</td>\n",
              "      <td>None</td>\n",
              "      <td>34.25</td>\n",
              "      <td>6.85</td>\n",
              "      <td>0.0</td>\n",
              "      <td>0.0</td>\n",
              "      <td>41.10</td>\n",
              "      <td>Credit Card</td>\n",
              "      <td>Chicago Elite Cab Corp. (Chicago Carriag</td>\n",
              "      <td>None</td>\n",
              "      <td>None</td>\n",
              "      <td>None</td>\n",
              "      <td>None</td>\n",
              "      <td>None</td>\n",
              "      <td>None</td>\n",
              "    </tr>\n",
              "    <tr>\n",
              "      <th>3</th>\n",
              "      <td>03cf9fabe105982c7b0382c54e002e43dd739c3a</td>\n",
              "      <td>2ee325e10e1eec919fc5bfc4d64ed9951cbab4fb13b3e2...</td>\n",
              "      <td>2014-07-07 23:00:00+00:00</td>\n",
              "      <td>2014-07-07 23:00:00+00:00</td>\n",
              "      <td>0</td>\n",
              "      <td>0.0</td>\n",
              "      <td>None</td>\n",
              "      <td>None</td>\n",
              "      <td>None</td>\n",
              "      <td>None</td>\n",
              "      <td>4.45</td>\n",
              "      <td>1.11</td>\n",
              "      <td>0.0</td>\n",
              "      <td>0.0</td>\n",
              "      <td>5.56</td>\n",
              "      <td>Credit Card</td>\n",
              "      <td>Chicago Elite Cab Corp. (Chicago Carriag</td>\n",
              "      <td>None</td>\n",
              "      <td>None</td>\n",
              "      <td>None</td>\n",
              "      <td>None</td>\n",
              "      <td>None</td>\n",
              "      <td>None</td>\n",
              "    </tr>\n",
              "    <tr>\n",
              "      <th>4</th>\n",
              "      <td>1ba3648418a92ae0743abf80ca631cca51446d5b</td>\n",
              "      <td>16a233f62883c48f7462a0d5b87191190c49a46fe52f37...</td>\n",
              "      <td>2014-08-28 16:45:00+00:00</td>\n",
              "      <td>2014-08-28 16:45:00+00:00</td>\n",
              "      <td>0</td>\n",
              "      <td>0.0</td>\n",
              "      <td>None</td>\n",
              "      <td>None</td>\n",
              "      <td>None</td>\n",
              "      <td>None</td>\n",
              "      <td>6.85</td>\n",
              "      <td>0.00</td>\n",
              "      <td>0.0</td>\n",
              "      <td>0.0</td>\n",
              "      <td>6.85</td>\n",
              "      <td>Credit Card</td>\n",
              "      <td>T.A.S. - Payment Only</td>\n",
              "      <td>None</td>\n",
              "      <td>None</td>\n",
              "      <td>None</td>\n",
              "      <td>None</td>\n",
              "      <td>None</td>\n",
              "      <td>None</td>\n",
              "    </tr>\n",
              "  </tbody>\n",
              "</table>\n",
              "</div>"
            ],
            "text/plain": [
              "                                 unique_key  ... dropoff_location\n",
              "0  e5ab129c155c3719216beb5dcbf2aa8ca19e5656  ...             None\n",
              "1  a5857e21a97c70612af9b1045b8bd7a626c558ef  ...             None\n",
              "2  2f5f796136c7e11e48d3bb08c8c6d73dfbe0e88c  ...             None\n",
              "3  03cf9fabe105982c7b0382c54e002e43dd739c3a  ...             None\n",
              "4  1ba3648418a92ae0743abf80ca631cca51446d5b  ...             None\n",
              "\n",
              "[5 rows x 23 columns]"
            ]
          },
          "metadata": {},
          "execution_count": 109
        }
      ]
    },
    {
      "cell_type": "code",
      "metadata": {
        "colab": {
          "base_uri": "https://localhost:8080/"
        },
        "id": "10PicgKXhQwd",
        "outputId": "93c4af51-a01a-4c86-bba7-7e5ec7954aa2"
      },
      "source": [
        "client.list_rows(table, max_results=5).to_dataframe().columns"
      ],
      "execution_count": null,
      "outputs": [
        {
          "output_type": "execute_result",
          "data": {
            "text/plain": [
              "Index(['unique_key', 'taxi_id', 'trip_start_timestamp', 'trip_end_timestamp',\n",
              "       'trip_seconds', 'trip_miles', 'pickup_census_tract',\n",
              "       'dropoff_census_tract', 'pickup_community_area',\n",
              "       'dropoff_community_area', 'fare', 'tips', 'tolls', 'extras',\n",
              "       'trip_total', 'payment_type', 'company', 'pickup_latitude',\n",
              "       'pickup_longitude', 'pickup_location', 'dropoff_latitude',\n",
              "       'dropoff_longitude', 'dropoff_location'],\n",
              "      dtype='object')"
            ]
          },
          "metadata": {},
          "execution_count": 124
        }
      ]
    },
    {
      "cell_type": "markdown",
      "metadata": {
        "id": "mfbrCCSlZJMP"
      },
      "source": [
        "### 5.3 Determine when this data is from"
      ]
    },
    {
      "cell_type": "markdown",
      "metadata": {
        "id": "HrkMZk7OZVAN"
      },
      "source": [
        "If the data is sufficiently old, we might be careful before assuming the data is still relevant to traffic patterns today. Write a query that counts the number of trips in each year.\n",
        "\n",
        "Your results should have two columns:\n",
        "\n",
        "* `year` - the year of the trips\n",
        "* `num_trips` - the number of trips in that year"
      ]
    },
    {
      "cell_type": "code",
      "metadata": {
        "colab": {
          "base_uri": "https://localhost:8080/"
        },
        "id": "QNnUhgoHZTum",
        "outputId": "d9b001a0-a1c0-4248-cfe7-252b16160fd7"
      },
      "source": [
        "# Your code goes here\n",
        "# 1st way\n",
        "rides_per_year_query = \"\"\"\n",
        "                      WITH time AS \n",
        "                      (\n",
        "                          SELECT EXTRACT(YEAR FROM trip_start_timestamp) AS year\n",
        "                          FROM `bigquery-public-data.chicago_taxi_trips.taxi_trips`\n",
        "                      )\n",
        "                      SELECT year,\n",
        "                             COUNT(1) AS num_trips\n",
        "                      FROM time\n",
        "                      GROUP BY year\n",
        "                      ORDER BY year\n",
        "                      \"\"\"\n",
        "# 2nd way\n",
        "#rides_per_year_query = \"\"\"\n",
        "#                       SELECT EXTRACT(YEAR FROM trip_start_timestamp) AS year,\n",
        "#                              COUNT(1) AS num_trips\n",
        "#                       FROM `bigquery-public-data.chicago_taxi_trips.taxi_trips`\n",
        "#                       GROUP BY year\n",
        "#                       ORDER BY year\n",
        "#                       \"\"\"\n",
        "\n",
        "# Set up the query (cancel the query if it would use too much of \n",
        "# your quota)\n",
        "safe_config = bigquery.QueryJobConfig(maximum_bytes_billed=10**10)\n",
        "rides_per_year_query_job = client.query(rides_per_year_query, job_config=safe_config) # Your code goes here\n",
        "\n",
        "# API request - run the query, and return a pandas DataFrame\n",
        "rides_per_year_result = rides_per_year_query_job.to_dataframe()\n",
        "\n",
        "# View results\n",
        "print(rides_per_year_result)"
      ],
      "execution_count": null,
      "outputs": [
        {
          "output_type": "stream",
          "name": "stdout",
          "text": [
            "   year  num_trips\n",
            "0  2013   27217716\n",
            "1  2014   37395436\n",
            "2  2015   32385875\n",
            "3  2016   31759339\n",
            "4  2017   24988003\n",
            "5  2018   20732088\n",
            "6  2019   16477365\n",
            "7  2020    3889032\n",
            "8  2021    3072477\n"
          ]
        }
      ]
    },
    {
      "cell_type": "markdown",
      "metadata": {
        "id": "zy5wJ2pPdUd6"
      },
      "source": [
        "### 5.4 Dive slightly deeper"
      ]
    },
    {
      "cell_type": "markdown",
      "metadata": {
        "id": "tvrZgvGNdiQ6"
      },
      "source": [
        "You'd like to take a closer look at rides from 2017. Copy the query you used above in `rides_per_year_query` into the cell below for `rides_per_month_query`. Then modify it in two ways:\n",
        "\n",
        "* Use a WHERE clause to limit the query to data from 2017.\n",
        "* Modify the query to extract the month rather than the year."
      ]
    },
    {
      "cell_type": "code",
      "metadata": {
        "colab": {
          "base_uri": "https://localhost:8080/"
        },
        "id": "ft3Rj4lkdtMF",
        "outputId": "5f8d515c-22cc-4782-e76a-04f01718e74c"
      },
      "source": [
        "# Your code goes here\n",
        "rides_per_month_query = \"\"\"\n",
        "                      WITH time AS \n",
        "                      (\n",
        "                          SELECT EXTRACT(MONTH FROM trip_start_timestamp) AS month\n",
        "                          FROM `bigquery-public-data.chicago_taxi_trips.taxi_trips`\n",
        "                          WHERE EXTRACT(YEAR FROM trip_start_timestamp) = 2017\n",
        "                      )\n",
        "                      SELECT month,\n",
        "                             COUNT(1) AS num_trips\n",
        "                      FROM time\n",
        "                      GROUP BY month\n",
        "                      ORDER BY month\n",
        "                      \"\"\"\n",
        "\n",
        "# Set up the query (cancel the query if it would use too much of \n",
        "# your quota)\n",
        "safe_config = bigquery.QueryJobConfig(maximum_bytes_billed=10**10)\n",
        "rides_per_month_query_job = client.query(rides_per_month_query, job_config=safe_config) # Your code goes here\n",
        "\n",
        "# API request - run the query, and return a pandas DataFrame\n",
        "rides_per_month_result = rides_per_month_query_job.to_dataframe()\n",
        "\n",
        "# View results\n",
        "print(rides_per_month_result)"
      ],
      "execution_count": null,
      "outputs": [
        {
          "output_type": "stream",
          "name": "stdout",
          "text": [
            "    month  num_trips\n",
            "0       1    1972071\n",
            "1       2    1909802\n",
            "2       3    2362105\n",
            "3       4    2194702\n",
            "4       5    2323386\n",
            "5       6    2324472\n",
            "6       7    2054299\n",
            "7       8    2079861\n",
            "8       9    1950631\n",
            "9      10    2141197\n",
            "10     11    1907997\n",
            "11     12    1767480\n"
          ]
        }
      ]
    },
    {
      "cell_type": "markdown",
      "metadata": {
        "id": "eNe6N1KPedmN"
      },
      "source": [
        "### 5.5 Write the query"
      ]
    },
    {
      "cell_type": "markdown",
      "metadata": {
        "id": "L7E7NlXNegug"
      },
      "source": [
        "It's time to step up the sophistication of your queries. Write a query that shows, for each hour of the day in the dataset, the corresponding number of trips and average speed.\n",
        "\n",
        "Your results should have three columns:\n",
        "\n",
        "* `hour_of_day` - sort by this column, which holds the result of extracting the hour from `trip_start_timestamp`.\n",
        "* `num_trips` - the count of the total number of trips in each hour of the day (e.g. how many trips were started between 6AM and 7AM, independent of which day it occurred on).\n",
        "* `avg_mph` - the average speed, measured in miles per hour, for trips that started in that hour of the day. Average speed in miles per hour is calculated as `3600 * SUM(trip_miles) / SUM(trip_seconds)`. (The value 3600 is used to convert from seconds to hours.)\n",
        "\n",
        "Restrict your query to data meeting the following criteria:\n",
        "\n",
        "* a trip_start_timestamp between `2017-01-01` and `2017-07-01`\n",
        "* `trip_seconds > 0` and `trip_miles > 0`\n",
        "\n",
        "You will use a common table expression (CTE) to select just the relevant rides. Because this dataset is very big, this CTE should select only the columns you'll need to create the final output (though you won't actually create those in the CTE -- instead you'll create those in the later `SELECT` statement below the CTE).\n",
        "\n",
        "This is a much harder query than anything you've written so far. Good luck!"
      ]
    },
    {
      "cell_type": "code",
      "metadata": {
        "colab": {
          "base_uri": "https://localhost:8080/"
        },
        "id": "cyf9tKdpfb1R",
        "outputId": "90832c61-64d8-470b-dceb-0464883a6132"
      },
      "source": [
        "# Your code goes here\n",
        "speeds_query = \"\"\"\n",
        "               WITH RelevantRides AS\n",
        "               (\n",
        "                   SELECT EXTRACT(HOUR FROM trip_start_timestamp) AS hour_of_day,\n",
        "                          trip_seconds,\n",
        "                          trip_miles\n",
        "                   FROM `bigquery-public-data.chicago_taxi_trips.taxi_trips`\n",
        "                   WHERE trip_start_timestamp > '2017-01-01' AND\n",
        "                         trip_start_timestamp < '2017-07-01' AND\n",
        "                         trip_seconds > 0 AND\n",
        "                         trip_miles > 0\n",
        "               )\n",
        "               SELECT hour_of_day,\n",
        "                      COUNT(1) AS num_trips,\n",
        "                      3600 * SUM(trip_miles) / SUM(trip_seconds) as avg_mph\n",
        "               FROM RelevantRides\n",
        "               GROUP BY hour_of_day\n",
        "               ORDER BY hour_of_day\n",
        "               \"\"\"\n",
        "\n",
        "# Set up the query\n",
        "safe_config = bigquery.QueryJobConfig(maximum_bytes_billed=10**10)\n",
        "speeds_query_job = client.query(speeds_query, job_config=safe_config)\n",
        "\n",
        "# API request - run the query, and return a pandas DataFrame\n",
        "speeds_result = speeds_query_job.to_dataframe() # Your code here\n",
        "\n",
        "# View results\n",
        "print(speeds_result)"
      ],
      "execution_count": null,
      "outputs": [
        {
          "output_type": "stream",
          "name": "stdout",
          "text": [
            "    hour_of_day  num_trips    avg_mph\n",
            "0             0     319339  20.230524\n",
            "1             1     266529  18.937621\n",
            "2             2     210147  18.777070\n",
            "3             3     159668  20.158048\n",
            "4             4     122183  26.736014\n",
            "5             5     119312  30.769172\n",
            "6             6     182738  24.588313\n",
            "7             7     358406  17.735967\n",
            "8             8     541775  15.079892\n",
            "9             9     565548  16.543882\n",
            "10           10     525120  18.539614\n",
            "11           11     594603  18.928379\n",
            "12           12     622324  17.838745\n",
            "13           13     630181  17.671089\n",
            "14           14     622465  16.974239\n",
            "15           15     640430  15.688418\n",
            "16           16     701435  14.283888\n",
            "17           17     756627  12.462955\n",
            "18           18     768251  13.646810\n",
            "19           19     701064  16.642882\n",
            "20           20     598614  19.536777\n",
            "21           21     552726  20.433874\n",
            "22           22     501095  19.531374\n",
            "23           23     399587  19.877046\n"
          ]
        }
      ]
    },
    {
      "cell_type": "markdown",
      "metadata": {
        "id": "JJOseRXMi95Q"
      },
      "source": [
        "## Joining Data"
      ]
    },
    {
      "cell_type": "markdown",
      "metadata": {
        "id": "ghzCIvMZkZmi"
      },
      "source": [
        "### Example: How many files are covered by each type of software license?"
      ]
    },
    {
      "cell_type": "markdown",
      "metadata": {
        "id": "QkAvkOygk7_V"
      },
      "source": [
        "We'll work with two tables in the database. The first table is the `licenses` table, which provides the name of each GitHub repo (in the `repo_name` column) and its corresponding license. Here's a view of the first five rows."
      ]
    },
    {
      "cell_type": "code",
      "metadata": {
        "colab": {
          "base_uri": "https://localhost:8080/",
          "height": 206
        },
        "id": "rV6_X6Pik3jL",
        "outputId": "938307f3-1ea9-4102-91a3-598101e33b09"
      },
      "source": [
        "# Construct a reference to the \"github_repos\" dataset\n",
        "dataset_ref = client.dataset(\"github_repos\", project=\"bigquery-public-data\")\n",
        "\n",
        "# API request - fetch the dataset\n",
        "dataset = client.get_dataset(dataset_ref)\n",
        "\n",
        "# Construct a reference to the \"licenses\" table\n",
        "licenses_ref = dataset_ref.table(\"licenses\")\n",
        "\n",
        "# API request - fetch the table\n",
        "licenses_table = client.get_table(licenses_ref)\n",
        "\n",
        "# Preview the first five lines of the \"licenses\" table\n",
        "client.list_rows(licenses_table, max_results=5).to_dataframe()"
      ],
      "execution_count": null,
      "outputs": [
        {
          "output_type": "execute_result",
          "data": {
            "text/html": [
              "<div>\n",
              "<style scoped>\n",
              "    .dataframe tbody tr th:only-of-type {\n",
              "        vertical-align: middle;\n",
              "    }\n",
              "\n",
              "    .dataframe tbody tr th {\n",
              "        vertical-align: top;\n",
              "    }\n",
              "\n",
              "    .dataframe thead th {\n",
              "        text-align: right;\n",
              "    }\n",
              "</style>\n",
              "<table border=\"1\" class=\"dataframe\">\n",
              "  <thead>\n",
              "    <tr style=\"text-align: right;\">\n",
              "      <th></th>\n",
              "      <th>repo_name</th>\n",
              "      <th>license</th>\n",
              "    </tr>\n",
              "  </thead>\n",
              "  <tbody>\n",
              "    <tr>\n",
              "      <th>0</th>\n",
              "      <td>zoffixznet/perl6-App-Nopaste</td>\n",
              "      <td>artistic-2.0</td>\n",
              "    </tr>\n",
              "    <tr>\n",
              "      <th>1</th>\n",
              "      <td>vikt0rs/devstack-plugin-zmq</td>\n",
              "      <td>artistic-2.0</td>\n",
              "    </tr>\n",
              "    <tr>\n",
              "      <th>2</th>\n",
              "      <td>LegitTalon/nicolas</td>\n",
              "      <td>artistic-2.0</td>\n",
              "    </tr>\n",
              "    <tr>\n",
              "      <th>3</th>\n",
              "      <td>Arabidopsis-Information-Portal/Intern-Hello-World</td>\n",
              "      <td>artistic-2.0</td>\n",
              "    </tr>\n",
              "    <tr>\n",
              "      <th>4</th>\n",
              "      <td>andrewdonkin/falcon</td>\n",
              "      <td>artistic-2.0</td>\n",
              "    </tr>\n",
              "  </tbody>\n",
              "</table>\n",
              "</div>"
            ],
            "text/plain": [
              "                                           repo_name       license\n",
              "0                       zoffixznet/perl6-App-Nopaste  artistic-2.0\n",
              "1                        vikt0rs/devstack-plugin-zmq  artistic-2.0\n",
              "2                                 LegitTalon/nicolas  artistic-2.0\n",
              "3  Arabidopsis-Information-Portal/Intern-Hello-World  artistic-2.0\n",
              "4                                andrewdonkin/falcon  artistic-2.0"
            ]
          },
          "metadata": {},
          "execution_count": 128
        }
      ]
    },
    {
      "cell_type": "markdown",
      "metadata": {
        "id": "PGu1rBYulS5m"
      },
      "source": [
        "The second table is the `sample_files` table, which provides, among other information, the GitHub repo that each file belongs to (in the `repo_name` column). The first several rows of this table are printed below."
      ]
    },
    {
      "cell_type": "code",
      "metadata": {
        "colab": {
          "base_uri": "https://localhost:8080/",
          "height": 226
        },
        "id": "wKEnZjldlZWB",
        "outputId": "12baedf8-ca13-4e81-91bc-ce0e3b26c100"
      },
      "source": [
        "# Construct a reference to the \"sample_files\" table\n",
        "files_ref = dataset_ref.table(\"sample_files\")\n",
        "\n",
        "# API request - fetch the table\n",
        "files_table = client.get_table(files_ref)\n",
        "\n",
        "# Preview the first five lines of the \"sample_files\" table\n",
        "client.list_rows(files_table, max_results=5).to_dataframe()"
      ],
      "execution_count": null,
      "outputs": [
        {
          "output_type": "execute_result",
          "data": {
            "text/html": [
              "<div>\n",
              "<style scoped>\n",
              "    .dataframe tbody tr th:only-of-type {\n",
              "        vertical-align: middle;\n",
              "    }\n",
              "\n",
              "    .dataframe tbody tr th {\n",
              "        vertical-align: top;\n",
              "    }\n",
              "\n",
              "    .dataframe thead th {\n",
              "        text-align: right;\n",
              "    }\n",
              "</style>\n",
              "<table border=\"1\" class=\"dataframe\">\n",
              "  <thead>\n",
              "    <tr style=\"text-align: right;\">\n",
              "      <th></th>\n",
              "      <th>repo_name</th>\n",
              "      <th>ref</th>\n",
              "      <th>path</th>\n",
              "      <th>mode</th>\n",
              "      <th>id</th>\n",
              "      <th>symlink_target</th>\n",
              "    </tr>\n",
              "  </thead>\n",
              "  <tbody>\n",
              "    <tr>\n",
              "      <th>0</th>\n",
              "      <td>git/git</td>\n",
              "      <td>refs/heads/master</td>\n",
              "      <td>RelNotes</td>\n",
              "      <td>40960</td>\n",
              "      <td>62615ffa4e97803da96aefbc798ab50f949a8db7</td>\n",
              "      <td>Documentation/RelNotes/2.10.0.txt</td>\n",
              "    </tr>\n",
              "    <tr>\n",
              "      <th>1</th>\n",
              "      <td>np/ling</td>\n",
              "      <td>refs/heads/master</td>\n",
              "      <td>tests/success/plug_compose.t/plug_compose.ll</td>\n",
              "      <td>40960</td>\n",
              "      <td>0c1605e4b447158085656487dc477f7670c4bac1</td>\n",
              "      <td>../../../fixtures/all/plug_compose.ll</td>\n",
              "    </tr>\n",
              "    <tr>\n",
              "      <th>2</th>\n",
              "      <td>np/ling</td>\n",
              "      <td>refs/heads/master</td>\n",
              "      <td>fixtures/strict-par-success/parallel_assoc_lef...</td>\n",
              "      <td>40960</td>\n",
              "      <td>b59bff84ec03d12fabd3b51a27ed7e39a180097e</td>\n",
              "      <td>../all/parallel_assoc_left.ll</td>\n",
              "    </tr>\n",
              "    <tr>\n",
              "      <th>3</th>\n",
              "      <td>np/ling</td>\n",
              "      <td>refs/heads/master</td>\n",
              "      <td>fixtures/sequence/parallel_assoc_2tensor2_left.ll</td>\n",
              "      <td>40960</td>\n",
              "      <td>f29523e3fb65702d99478e429eac6f801f32152b</td>\n",
              "      <td>../all/parallel_assoc_2tensor2_left.ll</td>\n",
              "    </tr>\n",
              "    <tr>\n",
              "      <th>4</th>\n",
              "      <td>np/ling</td>\n",
              "      <td>refs/heads/master</td>\n",
              "      <td>fixtures/success/my_dual.ll</td>\n",
              "      <td>40960</td>\n",
              "      <td>38a3af095088f90dfc956cb990e893909c3ab286</td>\n",
              "      <td>../all/my_dual.ll</td>\n",
              "    </tr>\n",
              "  </tbody>\n",
              "</table>\n",
              "</div>"
            ],
            "text/plain": [
              "  repo_name  ...                          symlink_target\n",
              "0   git/git  ...       Documentation/RelNotes/2.10.0.txt\n",
              "1   np/ling  ...   ../../../fixtures/all/plug_compose.ll\n",
              "2   np/ling  ...           ../all/parallel_assoc_left.ll\n",
              "3   np/ling  ...  ../all/parallel_assoc_2tensor2_left.ll\n",
              "4   np/ling  ...                       ../all/my_dual.ll\n",
              "\n",
              "[5 rows x 6 columns]"
            ]
          },
          "metadata": {},
          "execution_count": 129
        }
      ]
    },
    {
      "cell_type": "markdown",
      "metadata": {
        "id": "M1Yul6s1lfWa"
      },
      "source": [
        "Next, we write a query that uses information in both tables to determine how many files are released in each license."
      ]
    },
    {
      "cell_type": "code",
      "metadata": {
        "colab": {
          "base_uri": "https://localhost:8080/",
          "height": 206
        },
        "id": "LyXwzFQ3lf4R",
        "outputId": "70ec0444-0319-4394-e76a-78924b160224"
      },
      "source": [
        "# Query to determine the number of files per license, sorted by number of files\n",
        "query = \"\"\"\n",
        "        SELECT L.license, COUNT(1) AS number_of_files\n",
        "        FROM `bigquery-public-data.github_repos.sample_files` AS sf\n",
        "        INNER JOIN `bigquery-public-data.github_repos.licenses` AS L \n",
        "            ON sf.repo_name = L.repo_name\n",
        "        GROUP BY L.license\n",
        "        ORDER BY number_of_files DESC\n",
        "        \"\"\"\n",
        "\n",
        "# Set up the query (cancel the query if it would use too much of \n",
        "# your quota, with the limit set to 10 GB)\n",
        "safe_config = bigquery.QueryJobConfig(maximum_bytes_billed=10**10)\n",
        "query_job = client.query(query, job_config=safe_config)\n",
        "\n",
        "# API request - run the query, and convert the results to a pandas DataFrame\n",
        "file_count_by_license = query_job.to_dataframe()\n",
        "\n",
        "file_count_by_license.head()"
      ],
      "execution_count": null,
      "outputs": [
        {
          "output_type": "execute_result",
          "data": {
            "text/html": [
              "<div>\n",
              "<style scoped>\n",
              "    .dataframe tbody tr th:only-of-type {\n",
              "        vertical-align: middle;\n",
              "    }\n",
              "\n",
              "    .dataframe tbody tr th {\n",
              "        vertical-align: top;\n",
              "    }\n",
              "\n",
              "    .dataframe thead th {\n",
              "        text-align: right;\n",
              "    }\n",
              "</style>\n",
              "<table border=\"1\" class=\"dataframe\">\n",
              "  <thead>\n",
              "    <tr style=\"text-align: right;\">\n",
              "      <th></th>\n",
              "      <th>license</th>\n",
              "      <th>number_of_files</th>\n",
              "    </tr>\n",
              "  </thead>\n",
              "  <tbody>\n",
              "    <tr>\n",
              "      <th>0</th>\n",
              "      <td>mit</td>\n",
              "      <td>20418035</td>\n",
              "    </tr>\n",
              "    <tr>\n",
              "      <th>1</th>\n",
              "      <td>gpl-2.0</td>\n",
              "      <td>16792944</td>\n",
              "    </tr>\n",
              "    <tr>\n",
              "      <th>2</th>\n",
              "      <td>apache-2.0</td>\n",
              "      <td>7106098</td>\n",
              "    </tr>\n",
              "    <tr>\n",
              "      <th>3</th>\n",
              "      <td>gpl-3.0</td>\n",
              "      <td>4902118</td>\n",
              "    </tr>\n",
              "    <tr>\n",
              "      <th>4</th>\n",
              "      <td>bsd-3-clause</td>\n",
              "      <td>2929339</td>\n",
              "    </tr>\n",
              "  </tbody>\n",
              "</table>\n",
              "</div>"
            ],
            "text/plain": [
              "        license  number_of_files\n",
              "0           mit         20418035\n",
              "1       gpl-2.0         16792944\n",
              "2    apache-2.0          7106098\n",
              "3       gpl-3.0          4902118\n",
              "4  bsd-3-clause          2929339"
            ]
          },
          "metadata": {},
          "execution_count": 132
        }
      ]
    },
    {
      "cell_type": "markdown",
      "metadata": {
        "id": "yv7JzRwCmSJQ"
      },
      "source": [
        "## Exercises 6"
      ]
    },
    {
      "cell_type": "markdown",
      "metadata": {
        "id": "crMjDir-mqc6"
      },
      "source": [
        "**Stack Overflow** is a widely beloved question and answer site for technical questions. You'll probably use it yourself as you keep using SQL (or any programming language)."
      ]
    },
    {
      "cell_type": "code",
      "metadata": {
        "id": "XA0q8Iv-mlBe"
      },
      "source": [
        "# Construct a reference to the \"stackoverflow\" dataset\n",
        "dataset_ref = client.dataset(\"stackoverflow\", project=\"bigquery-public-data\")\n",
        "\n",
        "# API request - fetch the dataset\n",
        "dataset = client.get_dataset(dataset_ref)"
      ],
      "execution_count": null,
      "outputs": []
    },
    {
      "cell_type": "markdown",
      "metadata": {
        "id": "05zqs62gnBih"
      },
      "source": [
        "### 6.1 Explore the data"
      ]
    },
    {
      "cell_type": "markdown",
      "metadata": {
        "id": "npd5TE1AnLm1"
      },
      "source": [
        "Before writing queries or `JOIN` clauses, you'll want to see what tables are available."
      ]
    },
    {
      "cell_type": "code",
      "metadata": {
        "colab": {
          "base_uri": "https://localhost:8080/"
        },
        "id": "c5IwrJMRnQWt",
        "outputId": "f76a49c4-3471-479f-bd20-e089dbfed94d"
      },
      "source": [
        "# Get a list of available tables\n",
        "tables = list(client.list_tables(dataset))\n",
        "list_of_tables = [table.table_id for table in tables] # Your code here\n",
        "\n",
        "# Print your answer\n",
        "print(*list_of_tables, sep='\\n')"
      ],
      "execution_count": null,
      "outputs": [
        {
          "output_type": "stream",
          "name": "stdout",
          "text": [
            "badges\n",
            "comments\n",
            "post_history\n",
            "post_links\n",
            "posts_answers\n",
            "posts_moderator_nomination\n",
            "posts_orphaned_tag_wiki\n",
            "posts_privilege_wiki\n",
            "posts_questions\n",
            "posts_tag_wiki\n",
            "posts_tag_wiki_excerpt\n",
            "posts_wiki_placeholder\n",
            "stackoverflow_posts\n",
            "tags\n",
            "users\n",
            "votes\n"
          ]
        }
      ]
    },
    {
      "cell_type": "markdown",
      "metadata": {
        "id": "QU4Fm6mDo2G4"
      },
      "source": [
        "### 6.2 Review relevant tables"
      ]
    },
    {
      "cell_type": "markdown",
      "metadata": {
        "id": "lPYEJMD7o6Xl"
      },
      "source": [
        "If you are interested in people who answer questions on a given topic, the `posts_answers` table is a natural place to look. Run the following cell, and look at the output."
      ]
    },
    {
      "cell_type": "code",
      "metadata": {
        "colab": {
          "base_uri": "https://localhost:8080/",
          "height": 382
        },
        "id": "G4vuPPTqqBsb",
        "outputId": "34f74030-68e1-49d9-e423-c3f092c8fd9d"
      },
      "source": [
        "# Construct a reference to the \"posts_answers\" table\n",
        "answers_table_ref = dataset_ref.table(\"posts_answers\")\n",
        "\n",
        "# API request - fetch the table\n",
        "answers_table = client.get_table(answers_table_ref)\n",
        "\n",
        "# Preview the first five lines of the \"posts_answers\" table\n",
        "client.list_rows(answers_table, max_results=5).to_dataframe()"
      ],
      "execution_count": null,
      "outputs": [
        {
          "output_type": "execute_result",
          "data": {
            "text/html": [
              "<div>\n",
              "<style scoped>\n",
              "    .dataframe tbody tr th:only-of-type {\n",
              "        vertical-align: middle;\n",
              "    }\n",
              "\n",
              "    .dataframe tbody tr th {\n",
              "        vertical-align: top;\n",
              "    }\n",
              "\n",
              "    .dataframe thead th {\n",
              "        text-align: right;\n",
              "    }\n",
              "</style>\n",
              "<table border=\"1\" class=\"dataframe\">\n",
              "  <thead>\n",
              "    <tr style=\"text-align: right;\">\n",
              "      <th></th>\n",
              "      <th>id</th>\n",
              "      <th>title</th>\n",
              "      <th>body</th>\n",
              "      <th>accepted_answer_id</th>\n",
              "      <th>answer_count</th>\n",
              "      <th>comment_count</th>\n",
              "      <th>community_owned_date</th>\n",
              "      <th>creation_date</th>\n",
              "      <th>favorite_count</th>\n",
              "      <th>last_activity_date</th>\n",
              "      <th>last_edit_date</th>\n",
              "      <th>last_editor_display_name</th>\n",
              "      <th>last_editor_user_id</th>\n",
              "      <th>owner_display_name</th>\n",
              "      <th>owner_user_id</th>\n",
              "      <th>parent_id</th>\n",
              "      <th>post_type_id</th>\n",
              "      <th>score</th>\n",
              "      <th>tags</th>\n",
              "      <th>view_count</th>\n",
              "    </tr>\n",
              "  </thead>\n",
              "  <tbody>\n",
              "    <tr>\n",
              "      <th>0</th>\n",
              "      <td>68472973</td>\n",
              "      <td>None</td>\n",
              "      <td>&lt;p&gt;Thank you.  After thinking through your ans...</td>\n",
              "      <td>None</td>\n",
              "      <td>None</td>\n",
              "      <td>0</td>\n",
              "      <td>None</td>\n",
              "      <td>2021-07-21 16:09:49.560000+00:00</td>\n",
              "      <td>None</td>\n",
              "      <td>2021-07-21 16:09:49.560000+00:00</td>\n",
              "      <td>None</td>\n",
              "      <td>None</td>\n",
              "      <td>None</td>\n",
              "      <td>None</td>\n",
              "      <td>11880888</td>\n",
              "      <td>68461807</td>\n",
              "      <td>2</td>\n",
              "      <td>0</td>\n",
              "      <td>None</td>\n",
              "      <td>None</td>\n",
              "    </tr>\n",
              "    <tr>\n",
              "      <th>1</th>\n",
              "      <td>68472974</td>\n",
              "      <td>None</td>\n",
              "      <td>&lt;pre&gt;&lt;code&gt;SELECT age((((m.message -&amp;gt; 'head...</td>\n",
              "      <td>None</td>\n",
              "      <td>None</td>\n",
              "      <td>0</td>\n",
              "      <td>None</td>\n",
              "      <td>2021-07-21 16:09:54.130000+00:00</td>\n",
              "      <td>None</td>\n",
              "      <td>2021-07-21 16:09:54.130000+00:00</td>\n",
              "      <td>None</td>\n",
              "      <td>None</td>\n",
              "      <td>None</td>\n",
              "      <td>None</td>\n",
              "      <td>14132876</td>\n",
              "      <td>68471992</td>\n",
              "      <td>2</td>\n",
              "      <td>0</td>\n",
              "      <td>None</td>\n",
              "      <td>None</td>\n",
              "    </tr>\n",
              "    <tr>\n",
              "      <th>2</th>\n",
              "      <td>68472975</td>\n",
              "      <td>None</td>\n",
              "      <td>&lt;p&gt;I believe &lt;code&gt;Identifiable&lt;/code&gt; is a pr...</td>\n",
              "      <td>None</td>\n",
              "      <td>None</td>\n",
              "      <td>1</td>\n",
              "      <td>None</td>\n",
              "      <td>2021-07-21 16:09:56.317000+00:00</td>\n",
              "      <td>None</td>\n",
              "      <td>2021-07-21 16:09:56.317000+00:00</td>\n",
              "      <td>None</td>\n",
              "      <td>None</td>\n",
              "      <td>None</td>\n",
              "      <td>None</td>\n",
              "      <td>16487083</td>\n",
              "      <td>68472232</td>\n",
              "      <td>2</td>\n",
              "      <td>0</td>\n",
              "      <td>None</td>\n",
              "      <td>None</td>\n",
              "    </tr>\n",
              "    <tr>\n",
              "      <th>3</th>\n",
              "      <td>68472976</td>\n",
              "      <td>None</td>\n",
              "      <td>&lt;p&gt;Funny enough I had the same problem with th...</td>\n",
              "      <td>None</td>\n",
              "      <td>None</td>\n",
              "      <td>0</td>\n",
              "      <td>None</td>\n",
              "      <td>2021-07-21 16:10:06.223000+00:00</td>\n",
              "      <td>None</td>\n",
              "      <td>2021-07-21 16:10:06.223000+00:00</td>\n",
              "      <td>None</td>\n",
              "      <td>None</td>\n",
              "      <td>None</td>\n",
              "      <td>None</td>\n",
              "      <td>9497800</td>\n",
              "      <td>64728953</td>\n",
              "      <td>2</td>\n",
              "      <td>0</td>\n",
              "      <td>None</td>\n",
              "      <td>None</td>\n",
              "    </tr>\n",
              "    <tr>\n",
              "      <th>4</th>\n",
              "      <td>68472989</td>\n",
              "      <td>None</td>\n",
              "      <td>&lt;p&gt;You either need to set a &lt;code&gt;height&lt;/code...</td>\n",
              "      <td>None</td>\n",
              "      <td>None</td>\n",
              "      <td>0</td>\n",
              "      <td>None</td>\n",
              "      <td>2021-07-21 16:10:45.250000+00:00</td>\n",
              "      <td>None</td>\n",
              "      <td>2021-07-21 16:10:45.250000+00:00</td>\n",
              "      <td>None</td>\n",
              "      <td>None</td>\n",
              "      <td>None</td>\n",
              "      <td>None</td>\n",
              "      <td>6035993</td>\n",
              "      <td>68472903</td>\n",
              "      <td>2</td>\n",
              "      <td>0</td>\n",
              "      <td>None</td>\n",
              "      <td>None</td>\n",
              "    </tr>\n",
              "  </tbody>\n",
              "</table>\n",
              "</div>"
            ],
            "text/plain": [
              "         id title  ...  tags view_count\n",
              "0  68472973  None  ...  None       None\n",
              "1  68472974  None  ...  None       None\n",
              "2  68472975  None  ...  None       None\n",
              "3  68472976  None  ...  None       None\n",
              "4  68472989  None  ...  None       None\n",
              "\n",
              "[5 rows x 20 columns]"
            ]
          },
          "metadata": {},
          "execution_count": 151
        }
      ]
    },
    {
      "cell_type": "markdown",
      "metadata": {
        "id": "kncPQCNFqWZX"
      },
      "source": [
        "It isn't clear yet how to find users who answered questions on any given topic. But `posts_answers` has a `parent_id` column. If you are familiar with the Stack Overflow site, you might figure out that the `parent_id` is the question each post is answering.\n",
        "\n",
        "Look at `posts_questions` using the cell below."
      ]
    },
    {
      "cell_type": "code",
      "metadata": {
        "colab": {
          "base_uri": "https://localhost:8080/",
          "height": 400
        },
        "id": "5H9Ry-sdqeEu",
        "outputId": "dec65b8a-1608-4b5d-8743-871607702dfc"
      },
      "source": [
        "# Construct a reference to the \"posts_questions\" table\n",
        "questions_table_ref = dataset_ref.table(\"posts_questions\")\n",
        "\n",
        "# API request - fetch the table\n",
        "questions_table = client.get_table(questions_table_ref)\n",
        "\n",
        "# Preview the first five lines of the \"posts_questions\" table\n",
        "client.list_rows(questions_table, max_results=5).to_dataframe()"
      ],
      "execution_count": null,
      "outputs": [
        {
          "output_type": "execute_result",
          "data": {
            "text/html": [
              "<div>\n",
              "<style scoped>\n",
              "    .dataframe tbody tr th:only-of-type {\n",
              "        vertical-align: middle;\n",
              "    }\n",
              "\n",
              "    .dataframe tbody tr th {\n",
              "        vertical-align: top;\n",
              "    }\n",
              "\n",
              "    .dataframe thead th {\n",
              "        text-align: right;\n",
              "    }\n",
              "</style>\n",
              "<table border=\"1\" class=\"dataframe\">\n",
              "  <thead>\n",
              "    <tr style=\"text-align: right;\">\n",
              "      <th></th>\n",
              "      <th>id</th>\n",
              "      <th>title</th>\n",
              "      <th>body</th>\n",
              "      <th>accepted_answer_id</th>\n",
              "      <th>answer_count</th>\n",
              "      <th>comment_count</th>\n",
              "      <th>community_owned_date</th>\n",
              "      <th>creation_date</th>\n",
              "      <th>favorite_count</th>\n",
              "      <th>last_activity_date</th>\n",
              "      <th>last_edit_date</th>\n",
              "      <th>last_editor_display_name</th>\n",
              "      <th>last_editor_user_id</th>\n",
              "      <th>owner_display_name</th>\n",
              "      <th>owner_user_id</th>\n",
              "      <th>parent_id</th>\n",
              "      <th>post_type_id</th>\n",
              "      <th>score</th>\n",
              "      <th>tags</th>\n",
              "      <th>view_count</th>\n",
              "    </tr>\n",
              "  </thead>\n",
              "  <tbody>\n",
              "    <tr>\n",
              "      <th>0</th>\n",
              "      <td>68760184</td>\n",
              "      <td>SpawnPrefabAtGeoLocation with mapbox-streets-v8?</td>\n",
              "      <td>&lt;p&gt;How can we spawn custom prefabs at geo loca...</td>\n",
              "      <td>None</td>\n",
              "      <td>0</td>\n",
              "      <td>0</td>\n",
              "      <td>None</td>\n",
              "      <td>2021-08-12 15:22:56.787000+00:00</td>\n",
              "      <td>None</td>\n",
              "      <td>2021-08-12 15:22:56.787000+00:00</td>\n",
              "      <td>None</td>\n",
              "      <td>None</td>\n",
              "      <td>None</td>\n",
              "      <td>None</td>\n",
              "      <td>8169506</td>\n",
              "      <td>None</td>\n",
              "      <td>1</td>\n",
              "      <td>0</td>\n",
              "      <td>mapbox-unity</td>\n",
              "      <td>2</td>\n",
              "    </tr>\n",
              "    <tr>\n",
              "      <th>1</th>\n",
              "      <td>68776566</td>\n",
              "      <td>Why to use process.nextTick() to call Writeabl...</td>\n",
              "      <td>&lt;p&gt;I was reading the &lt;a href=\"https://nodejs.o...</td>\n",
              "      <td>None</td>\n",
              "      <td>0</td>\n",
              "      <td>0</td>\n",
              "      <td>None</td>\n",
              "      <td>2021-08-13 17:56:46.653000+00:00</td>\n",
              "      <td>None</td>\n",
              "      <td>2021-08-13 17:56:46.653000+00:00</td>\n",
              "      <td>None</td>\n",
              "      <td>None</td>\n",
              "      <td>None</td>\n",
              "      <td>None</td>\n",
              "      <td>11255630</td>\n",
              "      <td>None</td>\n",
              "      <td>1</td>\n",
              "      <td>0</td>\n",
              "      <td>javascript|node.js|stream|buffer</td>\n",
              "      <td>2</td>\n",
              "    </tr>\n",
              "    <tr>\n",
              "      <th>2</th>\n",
              "      <td>68847727</td>\n",
              "      <td>Share button in browser copy old address url</td>\n",
              "      <td>&lt;p&gt;I dont know but my share button in browser ...</td>\n",
              "      <td>None</td>\n",
              "      <td>0</td>\n",
              "      <td>0</td>\n",
              "      <td>None</td>\n",
              "      <td>2021-08-19 12:16:22.210000+00:00</td>\n",
              "      <td>None</td>\n",
              "      <td>2021-08-19 12:16:22.210000+00:00</td>\n",
              "      <td>None</td>\n",
              "      <td>None</td>\n",
              "      <td>None</td>\n",
              "      <td>None</td>\n",
              "      <td>15916653</td>\n",
              "      <td>None</td>\n",
              "      <td>1</td>\n",
              "      <td>0</td>\n",
              "      <td>url|mobile</td>\n",
              "      <td>2</td>\n",
              "    </tr>\n",
              "    <tr>\n",
              "      <th>3</th>\n",
              "      <td>68863312</td>\n",
              "      <td>Changed a Virtual Switch on a node and destroy...</td>\n",
              "      <td>&lt;p&gt;I have a Windows Failover cluster with 2 'b...</td>\n",
              "      <td>None</td>\n",
              "      <td>0</td>\n",
              "      <td>0</td>\n",
              "      <td>None</td>\n",
              "      <td>2021-08-20 13:46:29.450000+00:00</td>\n",
              "      <td>None</td>\n",
              "      <td>2021-08-20 13:46:29.450000+00:00</td>\n",
              "      <td>None</td>\n",
              "      <td>None</td>\n",
              "      <td>None</td>\n",
              "      <td>None</td>\n",
              "      <td>3533172</td>\n",
              "      <td>None</td>\n",
              "      <td>1</td>\n",
              "      <td>0</td>\n",
              "      <td>failovercluster</td>\n",
              "      <td>2</td>\n",
              "    </tr>\n",
              "    <tr>\n",
              "      <th>4</th>\n",
              "      <td>69023598</td>\n",
              "      <td>Problem about exporting data by the function “...</td>\n",
              "      <td>&lt;p&gt;1.The field type defined in the database is...</td>\n",
              "      <td>None</td>\n",
              "      <td>0</td>\n",
              "      <td>0</td>\n",
              "      <td>None</td>\n",
              "      <td>2021-09-02 03:00:15+00:00</td>\n",
              "      <td>None</td>\n",
              "      <td>2021-09-02 03:00:15+00:00</td>\n",
              "      <td>None</td>\n",
              "      <td>None</td>\n",
              "      <td>None</td>\n",
              "      <td>None</td>\n",
              "      <td>15504166</td>\n",
              "      <td>None</td>\n",
              "      <td>1</td>\n",
              "      <td>0</td>\n",
              "      <td>dolphindb</td>\n",
              "      <td>2</td>\n",
              "    </tr>\n",
              "  </tbody>\n",
              "</table>\n",
              "</div>"
            ],
            "text/plain": [
              "         id  ... view_count\n",
              "0  68760184  ...          2\n",
              "1  68776566  ...          2\n",
              "2  68847727  ...          2\n",
              "3  68863312  ...          2\n",
              "4  69023598  ...          2\n",
              "\n",
              "[5 rows x 20 columns]"
            ]
          },
          "metadata": {},
          "execution_count": 152
        }
      ]
    },
    {
      "cell_type": "markdown",
      "metadata": {
        "id": "aUCL5tCUrTii"
      },
      "source": [
        "Solution: `posts_questions` has a column called `tags` which lists the topics/technologies each question is about.\n",
        "\n",
        "`posts_answers` has a column called `parent_id` which identifies the ID of the question each answer is responding to. `posts_answers` also has an `owner_user_id` column which specifies the ID of the user who answered the question.\n",
        "\n",
        "You can join these two tables to:\n",
        "\n",
        "* determine the tags for each answer, and then\n",
        "* select the owner_user_id of the answers on the desired tag.\n",
        "\n",
        "This is exactly what you will do over the next few questions."
      ]
    },
    {
      "cell_type": "markdown",
      "metadata": {
        "id": "-yvGDYjsriWp"
      },
      "source": [
        "### 6.3 Selecting the right questions"
      ]
    },
    {
      "cell_type": "markdown",
      "metadata": {
        "id": "BIAHEm05rrTk"
      },
      "source": [
        "Write a query that selects the `id`, `title` and `owner_user_id` columns from the `posts_questions` table.\n",
        "\n",
        "* Restrict the results to rows that contain the word \"bigquery\" in the `tags` column.\n",
        "* Include rows where there is other text in addition to the word \"bigquery\" (e.g., if a row has a tag \"bigquery-sql\", your results should include that too)."
      ]
    },
    {
      "cell_type": "code",
      "metadata": {
        "colab": {
          "base_uri": "https://localhost:8080/"
        },
        "id": "0-7Bq4ADrh3K",
        "outputId": "b7de1d70-9560-4710-f8bf-29b0f918b009"
      },
      "source": [
        "# Your code here\n",
        "questions_query = \"\"\"\n",
        "                  SELECT id, title, owner_user_id\n",
        "                  FROM `bigquery-public-data.stackoverflow.posts_questions`\n",
        "                  WHERE tags LIKE '%bigquery%'\n",
        "                  \"\"\"\n",
        "\n",
        "# Set up the query (cancel the query if it would use too much of \n",
        "# your quota, with the limit set to 10 GB)\n",
        "safe_config = bigquery.QueryJobConfig(maximum_bytes_billed=10**10)\n",
        "questions_query_job = client.query(questions_query, job_config=safe_config) # Your code goes here\n",
        "\n",
        "# API request - run the query, and return a pandas DataFrame\n",
        "questions_results = questions_query_job.to_dataframe() # Your code goes here\n",
        "\n",
        "# Preview results\n",
        "print(questions_results.head())"
      ],
      "execution_count": null,
      "outputs": [
        {
          "output_type": "stream",
          "name": "stdout",
          "text": [
            "         id                                              title  owner_user_id\n",
            "0  37096531  BigQuery return all matches of regular expression      1166285.0\n",
            "1  36862928                    Second maximum value using OVER      4043227.0\n",
            "2  36895102      Why does count(*) return an unsigned integer?       976883.0\n",
            "3  37053212               Issue with Table_Date_Range function      5816308.0\n",
            "4  36757832        Having trouble joining properly in bigquery      6233008.0\n"
          ]
        }
      ]
    },
    {
      "cell_type": "markdown",
      "metadata": {
        "id": "Idvj4Oics-TV"
      },
      "source": [
        "### 6.4 Your first join"
      ]
    },
    {
      "cell_type": "markdown",
      "metadata": {
        "id": "v5BNEUJotEOG"
      },
      "source": [
        "Now that you have a query to select questions on any given topic (in this case, you chose \"bigquery\"), you can find the answers to those questions with a **JOIN**.\n",
        "\n",
        "Write a query that returns the `id`, `body` and `owner_user_id` columns from the `posts_answers` table for answers to \"bigquery\"-related questions.\n",
        "\n",
        "* You should have one row in your results for each answer to a question that has \"bigquery\" in the `tags`.\n",
        "* Remember you can get the tags for a question from the `tags` column in the `posts_questions table`.\n",
        "\n",
        "Here's a reminder of what a **JOIN** looked like in the tutorial:\n",
        "\n",
        "```\n",
        "query = \"\"\"\n",
        "        SELECT p.Name AS Pet_Name, o.Name AS Owner_Name\n",
        "        FROM `bigquery-public-data.pet_records.pets` as p\n",
        "        INNER JOIN `bigquery-public-data.pet_records.owners` as o \n",
        "            ON p.ID = o.Pet_ID\n",
        "        \"\"\"\n",
        "```\n",
        "\n",
        "It may be useful to scroll up and review the first several rows of the `posts_answers` and `posts_questions` tables."
      ]
    },
    {
      "cell_type": "code",
      "metadata": {
        "colab": {
          "base_uri": "https://localhost:8080/"
        },
        "id": "xm1vbLlitujS",
        "outputId": "8eda13a3-5e10-4f52-f1fb-19bc082f3fb9"
      },
      "source": [
        "# Your code here\n",
        "answers_query = \"\"\"\n",
        "                SELECT a.id, a.body, a.owner_user_id\n",
        "                FROM `bigquery-public-data.stackoverflow.posts_questions` q\n",
        "                    INNER JOIN `bigquery-public-data.stackoverflow.posts_answers` a\n",
        "                        ON q.id = a.parent_id\n",
        "                WHERE q.tags LIKE '%bigquery%'\n",
        "                \"\"\"\n",
        "\n",
        "# Set up the query\n",
        "safe_config = bigquery.QueryJobConfig(maximum_bytes_billed=27*10**10)\n",
        "answers_query_job = client.query(answers_query, job_config=safe_config) # Your code goes here\n",
        "\n",
        "# API request - run the query, and return a pandas DataFrame\n",
        "answers_results = answers_query_job.to_dataframe() # Your code goes here\n",
        "\n",
        "# Preview results\n",
        "print(answers_results.head())"
      ],
      "execution_count": null,
      "outputs": [
        {
          "output_type": "stream",
          "name": "stdout",
          "text": [
            "         id                                               body  owner_user_id\n",
            "0  55329635  <p>ok - the trick as to my original question h...       655489.0\n",
            "1  55352576  <p>The date field in the BigQuery schema shoul...      4465586.0\n",
            "2  55354026  <p>Here is my solution. I converted JSON strin...      1872639.0\n",
            "3  55396840  <p>Have you considered Cloud BQ partitions? </...      2790312.0\n",
            "4  55401492  <p>Could you not simply play with the executio...      5622249.0\n"
          ]
        }
      ]
    },
    {
      "cell_type": "markdown",
      "metadata": {
        "id": "wT7kuyddwpKc"
      },
      "source": [
        "### 6.5 Answer the question"
      ]
    },
    {
      "cell_type": "markdown",
      "metadata": {
        "id": "VtsH9T-Bwsfp"
      },
      "source": [
        "You have the merge you need. But you want a list of users who have answered many questions... which requires more work beyond your previous result.\n",
        "\n",
        "Write a new query that has a single row for each user who answered at least one question with a tag that includes the string \"bigquery\". Your results should have two columns:\n",
        "\n",
        "* `user_id` - contains the `owner_user_id` column from the `posts_answers` table\n",
        "* `number_of_answers` - contains the number of answers the user has written to \"bigquery\"-related questions"
      ]
    },
    {
      "cell_type": "code",
      "metadata": {
        "colab": {
          "base_uri": "https://localhost:8080/"
        },
        "id": "fRQP5ya6w275",
        "outputId": "7260d1a6-fd3f-428a-aa34-0c9682588e2b"
      },
      "source": [
        "# Your code here\n",
        "bigquery_experts_query = \"\"\"\n",
        "                         SELECT a.owner_user_id AS user_id,\n",
        "                                COUNT(1) AS number_of_answers\n",
        "                         FROM `bigquery-public-data.stackoverflow.posts_questions` q\n",
        "                             INNER JOIN `bigquery-public-data.stackoverflow.posts_answers` a\n",
        "                                 ON q.id = a.parent_id\n",
        "                         WHERE q.tags LIKE '%bigquery%'\n",
        "                         GROUP BY a.owner_user_id\n",
        "                         \"\"\"\n",
        "\n",
        "# Set up the query\n",
        "safe_config = bigquery.QueryJobConfig(maximum_bytes_billed=10**10)\n",
        "bigquery_experts_query_job = client.query(bigquery_experts_query, job_config=safe_config) # Your code goes here\n",
        "\n",
        "# API request - run the query, and return a pandas DataFrame\n",
        "bigquery_experts_results = bigquery_experts_query_job.to_dataframe() # Your code goes here\n",
        "\n",
        "# Preview results\n",
        "print(bigquery_experts_results.head())"
      ],
      "execution_count": null,
      "outputs": [
        {
          "output_type": "stream",
          "name": "stdout",
          "text": [
            "     user_id  number_of_answers\n",
            "0   610620.0                 14\n",
            "1  8692374.0                  1\n",
            "2   132438.0                899\n",
            "3  2649611.0                  1\n",
            "4  3693889.0                  2\n"
          ]
        }
      ]
    },
    {
      "cell_type": "markdown",
      "metadata": {
        "id": "sy1WKtGZxpke"
      },
      "source": [
        "### 6.6 Building a more generally useful service"
      ]
    },
    {
      "cell_type": "markdown",
      "metadata": {
        "id": "jHa3R6HFxsAj"
      },
      "source": [
        "How could you convert what you've done to a general function a website could call on the backend to get experts on any topic?"
      ]
    },
    {
      "cell_type": "code",
      "metadata": {
        "id": "sYawPeO0x3da"
      },
      "source": [
        "def expert_finder(topic, client):\n",
        "    '''\n",
        "    Returns a DataFrame with the user IDs who have written Stack Overflow answers on a topic.\n",
        "\n",
        "    Inputs:\n",
        "        topic: A string with the topic of interest\n",
        "        client: A Client object that specifies the connection to the Stack Overflow dataset\n",
        "\n",
        "    Outputs:\n",
        "        results: A DataFrame with columns for user_id and number_of_answers. Follows similar logic to bigquery_experts_results shown above.\n",
        "    '''\n",
        "    my_query = \"\"\"\n",
        "               SELECT a.owner_user_id AS user_id, COUNT(1) AS number_of_answers\n",
        "               FROM `bigquery-public-data.stackoverflow.posts_questions` AS q\n",
        "               INNER JOIN `bigquery-public-data.stackoverflow.posts_answers` AS a\n",
        "                   ON q.id = a.parent_Id\n",
        "               WHERE q.tags like '%{topic}%'\n",
        "               GROUP BY a.owner_user_id\n",
        "               \"\"\"\n",
        "\n",
        "    # Set up the query (a real service would have good error handling for \n",
        "    # queries that scan too much data)\n",
        "    safe_config = bigquery.QueryJobConfig(maximum_bytes_billed=10**10)      \n",
        "    my_query_job = client.query(my_query, job_config=safe_config)\n",
        "\n",
        "    # API request - run the query, and return a pandas DataFrame\n",
        "    results = my_query_job.to_dataframe()\n",
        "\n",
        "    return results"
      ],
      "execution_count": null,
      "outputs": []
    }
  ]
}