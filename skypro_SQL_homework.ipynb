{
  "nbformat": 4,
  "nbformat_minor": 0,
  "metadata": {
    "kernelspec": {
      "display_name": "Python 3",
      "language": "python",
      "name": "python3"
    },
    "language_info": {
      "codemirror_mode": {
        "name": "ipython",
        "version": 3
      },
      "file_extension": ".py",
      "mimetype": "text/x-python",
      "name": "python",
      "nbconvert_exporter": "python",
      "pygments_lexer": "ipython3",
      "version": "3.8.5"
    },
    "colab": {
      "name": "skypro_SQL_homework.ipynb",
      "provenance": [],
      "collapsed_sections": [],
      "include_colab_link": true
    }
  },
  "cells": [
    {
      "cell_type": "markdown",
      "metadata": {
        "id": "view-in-github",
        "colab_type": "text"
      },
      "source": [
        "<a href=\"https://colab.research.google.com/github/khamzovich/SQL/blob/main/skypro_SQL_homework.ipynb\" target=\"_parent\"><img src=\"https://colab.research.google.com/assets/colab-badge.svg\" alt=\"Open In Colab\"/></a>"
      ]
    },
    {
      "cell_type": "code",
      "metadata": {
        "colab": {
          "base_uri": "https://localhost:8080/"
        },
        "id": "YW9-lM21ruRk",
        "outputId": "078b933b-414d-4383-af38-f373a479eea8"
      },
      "source": [
        "pip install psycopg2-binary"
      ],
      "execution_count": 1,
      "outputs": [
        {
          "output_type": "stream",
          "name": "stdout",
          "text": [
            "Requirement already satisfied: psycopg2-binary in /usr/local/lib/python3.7/dist-packages (2.9.1)\n"
          ]
        }
      ]
    },
    {
      "cell_type": "code",
      "metadata": {
        "id": "hI8wGf3NrYq-"
      },
      "source": [
        "import sys\n",
        "import os\n",
        "\n",
        "import pandas as pd\n",
        "\n",
        "import psycopg2\n",
        "from sqlalchemy import create_engine\n",
        "\n",
        "import matplotlib.pyplot as plt\n",
        "import seaborn as sns\n",
        "\n",
        "from datetime import datetime, timedelta"
      ],
      "execution_count": 2,
      "outputs": []
    },
    {
      "cell_type": "code",
      "metadata": {
        "colab": {
          "base_uri": "https://localhost:8080/"
        },
        "id": "LQCzI6Dx2VJG",
        "outputId": "666bed1b-de6e-46d6-d2ca-e143b5f427b7"
      },
      "source": [
        "from google.colab import drive\n",
        "drive.mount('/content/drive')"
      ],
      "execution_count": 3,
      "outputs": [
        {
          "output_type": "stream",
          "name": "stdout",
          "text": [
            "Drive already mounted at /content/drive; to attempt to forcibly remount, call drive.mount(\"/content/drive\", force_remount=True).\n"
          ]
        }
      ]
    },
    {
      "cell_type": "markdown",
      "metadata": {
        "id": "-3oXj82JoVk_"
      },
      "source": [
        "# Домашнее задание\n"
      ]
    },
    {
      "cell_type": "markdown",
      "metadata": {
        "id": "faV0k4Y6oVlC"
      },
      "source": [
        "# 🎈🍾 🎉\n",
        "\n",
        "\n",
        "\n",
        "\n",
        "\n",
        "Вы работаете в крупном онлайн-магазине, который реализует товары «всё для праздников». Вам необходимо провести ABC-анализ и выявить наиболее важные товары на основе объемов продаж и популярности. Эта информация составит план закупок на весь следующий год. "
      ]
    },
    {
      "cell_type": "markdown",
      "metadata": {
        "id": "qJTohQeUoVlC"
      },
      "source": [
        "**ABC-анализ** позволяет определить наиболее важные ресурсы компании на основе объемов продаж и прибыли.\n",
        "\n",
        "В основе ABC-анализа лежит __«Принцип Парето»: 20% ресурсов приносят 80% прибыли__. Именно этот вид анализа позволяет выделить те самые  группы товаров, ресурсов, клиентов, поставщиков и т. п., которые и приносят компании основную прибыль."
      ]
    },
    {
      "cell_type": "markdown",
      "metadata": {
        "id": "D4BBB3rsoVlC"
      },
      "source": [
        "__Задача анализа разделить товары на группы по принципу:__\n",
        "\n",
        "- А — наиболее ценные, 20% — ассортимента (номенклатура); 80% — продаж\n",
        "- В — промежуточные, 30% — ассортимента; 15% — продаж\n",
        "- С — наименее ценные, 50% — ассортимента; 5% — продаж"
      ]
    },
    {
      "cell_type": "markdown",
      "metadata": {
        "id": "IPcD8O9IoVlD"
      },
      "source": [
        "## Задание 1"
      ]
    },
    {
      "cell_type": "markdown",
      "metadata": {
        "id": "RnTNO05JoVlF"
      },
      "source": [
        "Сохраните все данные из таблицы `products` из PostgreSQL в дата-фрейм `products` и подготовьте данные к анализу.\n",
        "\n",
        "1. Подгрузите данные для подключения\n",
        "2. Подключите нужную библиотеку для работы с PostgreSQL\n",
        "3. Создайте соединение с БД\n",
        "4. Создайте запрос и выгрузите все данные из таблицы `products`\n",
        "5. Положите данные в дата-фрейм `products`\n",
        "6. Приведите данные к удобному типу: числа к числовому типу, идентификаторы — к текстовому\n"
      ]
    },
    {
      "cell_type": "code",
      "metadata": {
        "id": "wnS5L3FqlqnU"
      },
      "source": [
        "# import sys\n",
        "# import os\n",
        "\n",
        "path = '/content/drive/MyDrive/Colab Notebooks/_tutorials/SQL'\n",
        "sys.path.append(os.path.abspath(path))"
      ],
      "execution_count": 5,
      "outputs": []
    },
    {
      "cell_type": "code",
      "metadata": {
        "id": "cUpTs5jWT7Kd"
      },
      "source": [
        "from postgresql_secret import pg_secret"
      ],
      "execution_count": 7,
      "outputs": []
    },
    {
      "cell_type": "markdown",
      "metadata": {
        "id": "6HLJPhF211u-"
      },
      "source": [
        "```\n",
        "pg_secret = {\n",
        "    \"db_host\": \"178.154.254.133\",\n",
        "    \"db_name\": \"skyeng\",\n",
        "    \"db_password\": \"readonlyuser\",\n",
        "    \"db_port\": \"5432\",\n",
        "    \"db_user\": \"readonlyuser\"\n",
        "}\n",
        "```"
      ]
    },
    {
      "cell_type": "code",
      "metadata": {
        "id": "B_ubls_coVlG"
      },
      "source": [
        "# import psycopg2\n",
        "\n",
        "# создай соединение\n",
        "connection = psycopg2.connect(\n",
        "                             database=pg_secret['db_name'],\n",
        "                             user=pg_secret['db_user'],\n",
        "                             password=pg_secret['db_password'],\n",
        "                             host=pg_secret['db_host'],\n",
        "                             port=pg_secret['db_port'],\n",
        "                             )\n",
        "# заведи курсор, чтобы делать запросы в базу\n",
        "cursor = connection.cursor()"
      ],
      "execution_count": 8,
      "outputs": []
    },
    {
      "cell_type": "code",
      "metadata": {
        "id": "t-Tq4rzjoVlG"
      },
      "source": [
        "# import pandas as pd\n",
        "\n",
        "# напиши запрос, твоих знаний SQL точно хватит\n",
        "query = \"SELECT * FROM products\"\n",
        "cursor.execute(query)\n",
        "result = cursor.fetchall()\n",
        "\n",
        "columns = []\n",
        "for desc in cursor.description:  \n",
        "    columns.append(desc[0])\n",
        "\n",
        "products = pd.DataFrame(result, columns=columns)"
      ],
      "execution_count": 10,
      "outputs": []
    },
    {
      "cell_type": "code",
      "metadata": {
        "colab": {
          "base_uri": "https://localhost:8080/"
        },
        "id": "AcAaLfbrtAsN",
        "outputId": "1d97ce7f-7995-40d4-cd71-3382dae93d84"
      },
      "source": [
        "products.shape"
      ],
      "execution_count": 11,
      "outputs": [
        {
          "output_type": "execute_result",
          "data": {
            "text/plain": [
              "(779495, 5)"
            ]
          },
          "metadata": {},
          "execution_count": 11
        }
      ]
    },
    {
      "cell_type": "code",
      "metadata": {
        "colab": {
          "base_uri": "https://localhost:8080/",
          "height": 143
        },
        "id": "X9PzicM3tC32",
        "outputId": "ccb001e7-cb13-4b72-d131-7bda1b263985"
      },
      "source": [
        "products.head(3)"
      ],
      "execution_count": 12,
      "outputs": [
        {
          "output_type": "execute_result",
          "data": {
            "text/html": [
              "<div>\n",
              "<style scoped>\n",
              "    .dataframe tbody tr th:only-of-type {\n",
              "        vertical-align: middle;\n",
              "    }\n",
              "\n",
              "    .dataframe tbody tr th {\n",
              "        vertical-align: top;\n",
              "    }\n",
              "\n",
              "    .dataframe thead th {\n",
              "        text-align: right;\n",
              "    }\n",
              "</style>\n",
              "<table border=\"1\" class=\"dataframe\">\n",
              "  <thead>\n",
              "    <tr style=\"text-align: right;\">\n",
              "      <th></th>\n",
              "      <th>invoice_id</th>\n",
              "      <th>stock_code</th>\n",
              "      <th>description</th>\n",
              "      <th>quantity</th>\n",
              "      <th>price</th>\n",
              "    </tr>\n",
              "  </thead>\n",
              "  <tbody>\n",
              "    <tr>\n",
              "      <th>0</th>\n",
              "      <td>572862</td>\n",
              "      <td>84596B</td>\n",
              "      <td>SMALL DOLLY MIX DESIGN ORANGE BOWL</td>\n",
              "      <td>1</td>\n",
              "      <td>0.42</td>\n",
              "    </tr>\n",
              "    <tr>\n",
              "      <th>1</th>\n",
              "      <td>572862</td>\n",
              "      <td>37479P</td>\n",
              "      <td>CUBIC MUG FLOCK PINK ON BROWN</td>\n",
              "      <td>6</td>\n",
              "      <td>0.39</td>\n",
              "    </tr>\n",
              "    <tr>\n",
              "      <th>2</th>\n",
              "      <td>572862</td>\n",
              "      <td>22150</td>\n",
              "      <td>3 STRIPEY MICE FELTCRAFT</td>\n",
              "      <td>2</td>\n",
              "      <td>1.95</td>\n",
              "    </tr>\n",
              "  </tbody>\n",
              "</table>\n",
              "</div>"
            ],
            "text/plain": [
              "   invoice_id stock_code                         description  quantity price\n",
              "0      572862     84596B  SMALL DOLLY MIX DESIGN ORANGE BOWL         1  0.42\n",
              "1      572862     37479P       CUBIC MUG FLOCK PINK ON BROWN         6  0.39\n",
              "2      572862      22150            3 STRIPEY MICE FELTCRAFT         2  1.95"
            ]
          },
          "metadata": {},
          "execution_count": 12
        }
      ]
    },
    {
      "cell_type": "code",
      "metadata": {
        "id": "lhjegtV2tLhM"
      },
      "source": [
        "products['invoice_id'] = products['invoice_id'].astype(str)\n",
        "products['price'] = products['price'].astype(float)"
      ],
      "execution_count": 13,
      "outputs": []
    },
    {
      "cell_type": "code",
      "metadata": {
        "colab": {
          "base_uri": "https://localhost:8080/"
        },
        "id": "4CISYxpBtEzG",
        "outputId": "dc5b324f-17ee-4145-e3ca-df141cad61dd"
      },
      "source": [
        "products.info()"
      ],
      "execution_count": 14,
      "outputs": [
        {
          "output_type": "stream",
          "name": "stdout",
          "text": [
            "<class 'pandas.core.frame.DataFrame'>\n",
            "RangeIndex: 779495 entries, 0 to 779494\n",
            "Data columns (total 5 columns):\n",
            " #   Column       Non-Null Count   Dtype  \n",
            "---  ------       --------------   -----  \n",
            " 0   invoice_id   779495 non-null  object \n",
            " 1   stock_code   779495 non-null  object \n",
            " 2   description  779495 non-null  object \n",
            " 3   quantity     779495 non-null  int64  \n",
            " 4   price        779495 non-null  float64\n",
            "dtypes: float64(1), int64(1), object(3)\n",
            "memory usage: 29.7+ MB\n"
          ]
        }
      ]
    },
    {
      "cell_type": "markdown",
      "metadata": {
        "id": "TPii4OlroVlG"
      },
      "source": [
        "## Задание 2\n",
        "\n",
        "__Посчитайте, какой доход принес каждый продукт и сколько единиц каждого продукта было продано__\n",
        "\n",
        "1. Посчитай общую сумму оплат для каждой строки счета\n",
        "2. Получи общий доход и количество единиц по товарам\n",
        "3. Объедини сгруппированные данные в один датафрейм со столбцами: `description`, `stock_code`, `quantity`, `total`"
      ]
    },
    {
      "cell_type": "code",
      "metadata": {
        "id": "HF8pL2VuoVlG"
      },
      "source": [
        "products['total'] = products.quantity * products.price"
      ],
      "execution_count": 15,
      "outputs": []
    },
    {
      "cell_type": "code",
      "metadata": {
        "id": "0ZvRsuDeoVlH",
        "colab": {
          "base_uri": "https://localhost:8080/",
          "height": 143
        },
        "outputId": "d46d34dc-1251-4014-d83d-b2b81c5acac3"
      },
      "source": [
        "# посчитай общих доход по каждому товару\n",
        "rev_df = (products.groupby(['description', 'stock_code'], as_index=False)\n",
        "                   .agg({'quantity': 'sum', 'total': 'sum'})\n",
        "                   .sort_values('total', ascending=False)\n",
        "                   .reset_index(drop=True))\n",
        "rev_df.head(3)"
      ],
      "execution_count": 16,
      "outputs": [
        {
          "output_type": "execute_result",
          "data": {
            "text/html": [
              "<div>\n",
              "<style scoped>\n",
              "    .dataframe tbody tr th:only-of-type {\n",
              "        vertical-align: middle;\n",
              "    }\n",
              "\n",
              "    .dataframe tbody tr th {\n",
              "        vertical-align: top;\n",
              "    }\n",
              "\n",
              "    .dataframe thead th {\n",
              "        text-align: right;\n",
              "    }\n",
              "</style>\n",
              "<table border=\"1\" class=\"dataframe\">\n",
              "  <thead>\n",
              "    <tr style=\"text-align: right;\">\n",
              "      <th></th>\n",
              "      <th>description</th>\n",
              "      <th>stock_code</th>\n",
              "      <th>quantity</th>\n",
              "      <th>total</th>\n",
              "    </tr>\n",
              "  </thead>\n",
              "  <tbody>\n",
              "    <tr>\n",
              "      <th>0</th>\n",
              "      <td>REGENCY CAKESTAND 3 TIER</td>\n",
              "      <td>22423</td>\n",
              "      <td>24139</td>\n",
              "      <td>277656.25</td>\n",
              "    </tr>\n",
              "    <tr>\n",
              "      <th>1</th>\n",
              "      <td>WHITE HANGING HEART T-LIGHT HOLDER</td>\n",
              "      <td>85123A</td>\n",
              "      <td>91757</td>\n",
              "      <td>247048.01</td>\n",
              "    </tr>\n",
              "    <tr>\n",
              "      <th>2</th>\n",
              "      <td>PAPER CRAFT , LITTLE BIRDIE</td>\n",
              "      <td>23843</td>\n",
              "      <td>80995</td>\n",
              "      <td>168469.60</td>\n",
              "    </tr>\n",
              "  </tbody>\n",
              "</table>\n",
              "</div>"
            ],
            "text/plain": [
              "                          description stock_code  quantity      total\n",
              "0            REGENCY CAKESTAND 3 TIER      22423     24139  277656.25\n",
              "1  WHITE HANGING HEART T-LIGHT HOLDER     85123A     91757  247048.01\n",
              "2         PAPER CRAFT , LITTLE BIRDIE      23843     80995  168469.60"
            ]
          },
          "metadata": {},
          "execution_count": 16
        }
      ]
    },
    {
      "cell_type": "code",
      "metadata": {
        "id": "pEkoPL_NoVlH"
      },
      "source": [
        "# посчитай общее количество проданных единиц по каждому товару"
      ],
      "execution_count": 17,
      "outputs": []
    },
    {
      "cell_type": "code",
      "metadata": {
        "id": "XZz8YxEJoVlH"
      },
      "source": [
        "# объедини общие данные в одну таблицу"
      ],
      "execution_count": 18,
      "outputs": []
    },
    {
      "cell_type": "markdown",
      "metadata": {
        "id": "sNrdX2bXoVlH"
      },
      "source": [
        "## Задание 3\n",
        "\n",
        "__Найди нарастающий итог по процентам__\n",
        "\n",
        "1. Отсортируй датафрейм по доходу в нисходящем порядке \n",
        "2. Найди процент дохода каждого товара в общем доходе \n",
        "3. Сделай нарастающий итог (running total) по процентам каждого товара, для этого найди в интернете и примени метод для расчета кумулятивной суммы в `pandas`. \n",
        "\n",
        "\n",
        "Нарастающий итог — это представление данных, в котором мы видим динамику нарастания или убывания суммы от начала отсчета до конца. Получаем мы эту кумулятивную сумму, прибавлением поочередно каждого следующего элемента к сумме предыдущих.  \n",
        "\n"
      ]
    },
    {
      "cell_type": "code",
      "metadata": {
        "id": "WdZrwaMzoVlH"
      },
      "source": [
        "# отсортируй дата-фрейм (большие вверху, маленькие внизу)\n"
      ],
      "execution_count": 19,
      "outputs": []
    },
    {
      "cell_type": "code",
      "metadata": {
        "id": "1d9E9cC9oVlI",
        "colab": {
          "base_uri": "https://localhost:8080/",
          "height": 143
        },
        "outputId": "2c777f2c-a6fd-4ebe-c13d-90e7f563dc05"
      },
      "source": [
        "# найди процент дохода для каждого товара \n",
        "\n",
        "#(искомая часть / целое число) * 100\n",
        "total_revenue = rev_df.total.sum()\n",
        "rev_df['revenue_ratio'] = 100 * rev_df.total / total_revenue\n",
        "rev_df.head(3)"
      ],
      "execution_count": 20,
      "outputs": [
        {
          "output_type": "execute_result",
          "data": {
            "text/html": [
              "<div>\n",
              "<style scoped>\n",
              "    .dataframe tbody tr th:only-of-type {\n",
              "        vertical-align: middle;\n",
              "    }\n",
              "\n",
              "    .dataframe tbody tr th {\n",
              "        vertical-align: top;\n",
              "    }\n",
              "\n",
              "    .dataframe thead th {\n",
              "        text-align: right;\n",
              "    }\n",
              "</style>\n",
              "<table border=\"1\" class=\"dataframe\">\n",
              "  <thead>\n",
              "    <tr style=\"text-align: right;\">\n",
              "      <th></th>\n",
              "      <th>description</th>\n",
              "      <th>stock_code</th>\n",
              "      <th>quantity</th>\n",
              "      <th>total</th>\n",
              "      <th>revenue_ratio</th>\n",
              "    </tr>\n",
              "  </thead>\n",
              "  <tbody>\n",
              "    <tr>\n",
              "      <th>0</th>\n",
              "      <td>REGENCY CAKESTAND 3 TIER</td>\n",
              "      <td>22423</td>\n",
              "      <td>24139</td>\n",
              "      <td>277656.25</td>\n",
              "      <td>1.598040</td>\n",
              "    </tr>\n",
              "    <tr>\n",
              "      <th>1</th>\n",
              "      <td>WHITE HANGING HEART T-LIGHT HOLDER</td>\n",
              "      <td>85123A</td>\n",
              "      <td>91757</td>\n",
              "      <td>247048.01</td>\n",
              "      <td>1.421875</td>\n",
              "    </tr>\n",
              "    <tr>\n",
              "      <th>2</th>\n",
              "      <td>PAPER CRAFT , LITTLE BIRDIE</td>\n",
              "      <td>23843</td>\n",
              "      <td>80995</td>\n",
              "      <td>168469.60</td>\n",
              "      <td>0.969620</td>\n",
              "    </tr>\n",
              "  </tbody>\n",
              "</table>\n",
              "</div>"
            ],
            "text/plain": [
              "                          description stock_code  ...      total  revenue_ratio\n",
              "0            REGENCY CAKESTAND 3 TIER      22423  ...  277656.25       1.598040\n",
              "1  WHITE HANGING HEART T-LIGHT HOLDER     85123A  ...  247048.01       1.421875\n",
              "2         PAPER CRAFT , LITTLE BIRDIE      23843  ...  168469.60       0.969620\n",
              "\n",
              "[3 rows x 5 columns]"
            ]
          },
          "metadata": {},
          "execution_count": 20
        }
      ]
    },
    {
      "cell_type": "code",
      "metadata": {
        "id": "tKDduqtmoVlI",
        "colab": {
          "base_uri": "https://localhost:8080/",
          "height": 143
        },
        "outputId": "348e9d6f-dfff-4e2d-c7b6-bc365940f534"
      },
      "source": [
        "# используй метод pandas для кумулятивной суммы\n",
        "rev_df['running_total'] = rev_df.revenue_ratio.cumsum()\n",
        "rev_df.head(3)"
      ],
      "execution_count": 21,
      "outputs": [
        {
          "output_type": "execute_result",
          "data": {
            "text/html": [
              "<div>\n",
              "<style scoped>\n",
              "    .dataframe tbody tr th:only-of-type {\n",
              "        vertical-align: middle;\n",
              "    }\n",
              "\n",
              "    .dataframe tbody tr th {\n",
              "        vertical-align: top;\n",
              "    }\n",
              "\n",
              "    .dataframe thead th {\n",
              "        text-align: right;\n",
              "    }\n",
              "</style>\n",
              "<table border=\"1\" class=\"dataframe\">\n",
              "  <thead>\n",
              "    <tr style=\"text-align: right;\">\n",
              "      <th></th>\n",
              "      <th>description</th>\n",
              "      <th>stock_code</th>\n",
              "      <th>quantity</th>\n",
              "      <th>total</th>\n",
              "      <th>revenue_ratio</th>\n",
              "      <th>running_total</th>\n",
              "    </tr>\n",
              "  </thead>\n",
              "  <tbody>\n",
              "    <tr>\n",
              "      <th>0</th>\n",
              "      <td>REGENCY CAKESTAND 3 TIER</td>\n",
              "      <td>22423</td>\n",
              "      <td>24139</td>\n",
              "      <td>277656.25</td>\n",
              "      <td>1.598040</td>\n",
              "      <td>1.598040</td>\n",
              "    </tr>\n",
              "    <tr>\n",
              "      <th>1</th>\n",
              "      <td>WHITE HANGING HEART T-LIGHT HOLDER</td>\n",
              "      <td>85123A</td>\n",
              "      <td>91757</td>\n",
              "      <td>247048.01</td>\n",
              "      <td>1.421875</td>\n",
              "      <td>3.019915</td>\n",
              "    </tr>\n",
              "    <tr>\n",
              "      <th>2</th>\n",
              "      <td>PAPER CRAFT , LITTLE BIRDIE</td>\n",
              "      <td>23843</td>\n",
              "      <td>80995</td>\n",
              "      <td>168469.60</td>\n",
              "      <td>0.969620</td>\n",
              "      <td>3.989535</td>\n",
              "    </tr>\n",
              "  </tbody>\n",
              "</table>\n",
              "</div>"
            ],
            "text/plain": [
              "                          description stock_code  ...  revenue_ratio  running_total\n",
              "0            REGENCY CAKESTAND 3 TIER      22423  ...       1.598040       1.598040\n",
              "1  WHITE HANGING HEART T-LIGHT HOLDER     85123A  ...       1.421875       3.019915\n",
              "2         PAPER CRAFT , LITTLE BIRDIE      23843  ...       0.969620       3.989535\n",
              "\n",
              "[3 rows x 6 columns]"
            ]
          },
          "metadata": {},
          "execution_count": 21
        }
      ]
    },
    {
      "cell_type": "markdown",
      "metadata": {
        "id": "kM4OXMDXoVlI"
      },
      "source": [
        "## Задание 4\n",
        "\n",
        "__Пометь товары метками `'A'`, `'B'`, `'C'` в зависимости от нарастающего итога__\n",
        "\n",
        "1. Напиши функцию, которая будет помечать товары с нарастающим итогом ниже или равно 80% как группу `'A'`, от 80%-95% — как `'B'` и остальные как `'C'`"
      ]
    },
    {
      "cell_type": "code",
      "metadata": {
        "id": "3i9wyQQpoVlI"
      },
      "source": [
        "def revenue(x):\n",
        "    # допиши функцию\n",
        "    if x <= 80:\n",
        "        return 'A'\n",
        "    elif x <= 95:\n",
        "        return 'B'\n",
        "    else:\n",
        "        return 'C'\n",
        "\n",
        "# создай новый столбец revenue с помощью функции\n",
        "rev_df['prod_rank'] = rev_df['running_total'].apply(revenue)"
      ],
      "execution_count": 22,
      "outputs": []
    },
    {
      "cell_type": "code",
      "metadata": {
        "colab": {
          "base_uri": "https://localhost:8080/"
        },
        "id": "42JT2-na6PjK",
        "outputId": "34218074-327d-47ac-b60c-7ef7bb546f9c"
      },
      "source": [
        "rev_df.prod_rank.value_counts()"
      ],
      "execution_count": 23,
      "outputs": [
        {
          "output_type": "execute_result",
          "data": {
            "text/plain": [
              "C    2810\n",
              "B    1367\n",
              "A    1138\n",
              "Name: prod_rank, dtype: int64"
            ]
          },
          "metadata": {},
          "execution_count": 23
        }
      ]
    },
    {
      "cell_type": "code",
      "metadata": {
        "colab": {
          "base_uri": "https://localhost:8080/"
        },
        "id": "15Z-7tn451ND",
        "outputId": "ac7e7ba1-035c-45e7-d900-240d4613a910"
      },
      "source": [
        "rev_df.prod_rank.value_counts(normalize=True)"
      ],
      "execution_count": 24,
      "outputs": [
        {
          "output_type": "execute_result",
          "data": {
            "text/plain": [
              "C    0.528692\n",
              "B    0.257197\n",
              "A    0.214111\n",
              "Name: prod_rank, dtype: float64"
            ]
          },
          "metadata": {},
          "execution_count": 24
        }
      ]
    },
    {
      "cell_type": "markdown",
      "metadata": {
        "id": "numdHWgvoVlI"
      },
      "source": [
        "## Задание 5\n",
        "\n",
        "__Найди нарастающий итог по количеству товарных единиц и пометь товары метками `'A'`, `'B'`, `'C'`, отмечая тем самым популярность товара__\n",
        "\n",
        "1. Отсортируй предыдущий датафрейм с данными о доходе теперь по количеству товаров\n",
        "2. Найди процент каждого товара в общем количестве\n",
        "3. Найди нарастающий итог по количеству\n",
        "4. Напиши функцию с теми же параметрами, что и у дохода\n",
        "5. Отметь группу"
      ]
    },
    {
      "cell_type": "code",
      "metadata": {
        "colab": {
          "base_uri": "https://localhost:8080/",
          "height": 205
        },
        "id": "7004JiJw7XyF",
        "outputId": "45d46309-a5a6-47fc-dc59-bece8fcc8e17"
      },
      "source": [
        "rev_df.head()"
      ],
      "execution_count": 25,
      "outputs": [
        {
          "output_type": "execute_result",
          "data": {
            "text/html": [
              "<div>\n",
              "<style scoped>\n",
              "    .dataframe tbody tr th:only-of-type {\n",
              "        vertical-align: middle;\n",
              "    }\n",
              "\n",
              "    .dataframe tbody tr th {\n",
              "        vertical-align: top;\n",
              "    }\n",
              "\n",
              "    .dataframe thead th {\n",
              "        text-align: right;\n",
              "    }\n",
              "</style>\n",
              "<table border=\"1\" class=\"dataframe\">\n",
              "  <thead>\n",
              "    <tr style=\"text-align: right;\">\n",
              "      <th></th>\n",
              "      <th>description</th>\n",
              "      <th>stock_code</th>\n",
              "      <th>quantity</th>\n",
              "      <th>total</th>\n",
              "      <th>revenue_ratio</th>\n",
              "      <th>running_total</th>\n",
              "      <th>prod_rank</th>\n",
              "    </tr>\n",
              "  </thead>\n",
              "  <tbody>\n",
              "    <tr>\n",
              "      <th>0</th>\n",
              "      <td>REGENCY CAKESTAND 3 TIER</td>\n",
              "      <td>22423</td>\n",
              "      <td>24139</td>\n",
              "      <td>277656.25</td>\n",
              "      <td>1.598040</td>\n",
              "      <td>1.598040</td>\n",
              "      <td>A</td>\n",
              "    </tr>\n",
              "    <tr>\n",
              "      <th>1</th>\n",
              "      <td>WHITE HANGING HEART T-LIGHT HOLDER</td>\n",
              "      <td>85123A</td>\n",
              "      <td>91757</td>\n",
              "      <td>247048.01</td>\n",
              "      <td>1.421875</td>\n",
              "      <td>3.019915</td>\n",
              "      <td>A</td>\n",
              "    </tr>\n",
              "    <tr>\n",
              "      <th>2</th>\n",
              "      <td>PAPER CRAFT , LITTLE BIRDIE</td>\n",
              "      <td>23843</td>\n",
              "      <td>80995</td>\n",
              "      <td>168469.60</td>\n",
              "      <td>0.969620</td>\n",
              "      <td>3.989535</td>\n",
              "      <td>A</td>\n",
              "    </tr>\n",
              "    <tr>\n",
              "      <th>3</th>\n",
              "      <td>Manual</td>\n",
              "      <td>M</td>\n",
              "      <td>9391</td>\n",
              "      <td>151777.67</td>\n",
              "      <td>0.873550</td>\n",
              "      <td>4.863085</td>\n",
              "      <td>A</td>\n",
              "    </tr>\n",
              "    <tr>\n",
              "      <th>4</th>\n",
              "      <td>JUMBO BAG RED RETROSPOT</td>\n",
              "      <td>85099B</td>\n",
              "      <td>74224</td>\n",
              "      <td>134307.44</td>\n",
              "      <td>0.773001</td>\n",
              "      <td>5.636086</td>\n",
              "      <td>A</td>\n",
              "    </tr>\n",
              "  </tbody>\n",
              "</table>\n",
              "</div>"
            ],
            "text/plain": [
              "                          description stock_code  ...  running_total  prod_rank\n",
              "0            REGENCY CAKESTAND 3 TIER      22423  ...       1.598040          A\n",
              "1  WHITE HANGING HEART T-LIGHT HOLDER     85123A  ...       3.019915          A\n",
              "2         PAPER CRAFT , LITTLE BIRDIE      23843  ...       3.989535          A\n",
              "3                              Manual          M  ...       4.863085          A\n",
              "4             JUMBO BAG RED RETROSPOT     85099B  ...       5.636086          A\n",
              "\n",
              "[5 rows x 7 columns]"
            ]
          },
          "metadata": {},
          "execution_count": 25
        }
      ]
    },
    {
      "cell_type": "code",
      "metadata": {
        "id": "9XIzKrqUoVlJ",
        "colab": {
          "base_uri": "https://localhost:8080/",
          "height": 143
        },
        "outputId": "f9c9360f-2842-4b95-90ae-a0dfac55391d"
      },
      "source": [
        "# проведи те же операции, что в двух предыдущих заданиях, для оценки популярности товаров\n",
        "popular_products = (products.groupby(['description', 'stock_code'], as_index=False)\n",
        "                   .agg({'quantity': 'sum'})\n",
        "                   .sort_values('quantity', ascending=False)\n",
        "                   .reset_index(drop=True))\n",
        "popular_products.head(3)"
      ],
      "execution_count": 26,
      "outputs": [
        {
          "output_type": "execute_result",
          "data": {
            "text/html": [
              "<div>\n",
              "<style scoped>\n",
              "    .dataframe tbody tr th:only-of-type {\n",
              "        vertical-align: middle;\n",
              "    }\n",
              "\n",
              "    .dataframe tbody tr th {\n",
              "        vertical-align: top;\n",
              "    }\n",
              "\n",
              "    .dataframe thead th {\n",
              "        text-align: right;\n",
              "    }\n",
              "</style>\n",
              "<table border=\"1\" class=\"dataframe\">\n",
              "  <thead>\n",
              "    <tr style=\"text-align: right;\">\n",
              "      <th></th>\n",
              "      <th>description</th>\n",
              "      <th>stock_code</th>\n",
              "      <th>quantity</th>\n",
              "    </tr>\n",
              "  </thead>\n",
              "  <tbody>\n",
              "    <tr>\n",
              "      <th>0</th>\n",
              "      <td>WORLD WAR 2 GLIDERS ASSTD DESIGNS</td>\n",
              "      <td>84077</td>\n",
              "      <td>105185</td>\n",
              "    </tr>\n",
              "    <tr>\n",
              "      <th>1</th>\n",
              "      <td>WHITE HANGING HEART T-LIGHT HOLDER</td>\n",
              "      <td>85123A</td>\n",
              "      <td>91757</td>\n",
              "    </tr>\n",
              "    <tr>\n",
              "      <th>2</th>\n",
              "      <td>PAPER CRAFT , LITTLE BIRDIE</td>\n",
              "      <td>23843</td>\n",
              "      <td>80995</td>\n",
              "    </tr>\n",
              "  </tbody>\n",
              "</table>\n",
              "</div>"
            ],
            "text/plain": [
              "                          description stock_code  quantity\n",
              "0   WORLD WAR 2 GLIDERS ASSTD DESIGNS      84077    105185\n",
              "1  WHITE HANGING HEART T-LIGHT HOLDER     85123A     91757\n",
              "2         PAPER CRAFT , LITTLE BIRDIE      23843     80995"
            ]
          },
          "metadata": {},
          "execution_count": 26
        }
      ]
    },
    {
      "cell_type": "code",
      "metadata": {
        "colab": {
          "base_uri": "https://localhost:8080/",
          "height": 143
        },
        "id": "io9fGy338LYo",
        "outputId": "d457c9c9-bae7-401b-acd8-37fcb385a523"
      },
      "source": [
        "total_quantity = popular_products.quantity.sum()\n",
        "popular_products['quantity_ratio'] = 100 * popular_products.quantity / total_quantity\n",
        "popular_products['running_quantity'] = popular_products.quantity_ratio.cumsum()\n",
        "popular_products.head(3)"
      ],
      "execution_count": 27,
      "outputs": [
        {
          "output_type": "execute_result",
          "data": {
            "text/html": [
              "<div>\n",
              "<style scoped>\n",
              "    .dataframe tbody tr th:only-of-type {\n",
              "        vertical-align: middle;\n",
              "    }\n",
              "\n",
              "    .dataframe tbody tr th {\n",
              "        vertical-align: top;\n",
              "    }\n",
              "\n",
              "    .dataframe thead th {\n",
              "        text-align: right;\n",
              "    }\n",
              "</style>\n",
              "<table border=\"1\" class=\"dataframe\">\n",
              "  <thead>\n",
              "    <tr style=\"text-align: right;\">\n",
              "      <th></th>\n",
              "      <th>description</th>\n",
              "      <th>stock_code</th>\n",
              "      <th>quantity</th>\n",
              "      <th>quantity_ratio</th>\n",
              "      <th>running_quantity</th>\n",
              "    </tr>\n",
              "  </thead>\n",
              "  <tbody>\n",
              "    <tr>\n",
              "      <th>0</th>\n",
              "      <td>WORLD WAR 2 GLIDERS ASSTD DESIGNS</td>\n",
              "      <td>84077</td>\n",
              "      <td>105185</td>\n",
              "      <td>0.999031</td>\n",
              "      <td>0.999031</td>\n",
              "    </tr>\n",
              "    <tr>\n",
              "      <th>1</th>\n",
              "      <td>WHITE HANGING HEART T-LIGHT HOLDER</td>\n",
              "      <td>85123A</td>\n",
              "      <td>91757</td>\n",
              "      <td>0.871494</td>\n",
              "      <td>1.870524</td>\n",
              "    </tr>\n",
              "    <tr>\n",
              "      <th>2</th>\n",
              "      <td>PAPER CRAFT , LITTLE BIRDIE</td>\n",
              "      <td>23843</td>\n",
              "      <td>80995</td>\n",
              "      <td>0.769278</td>\n",
              "      <td>2.639802</td>\n",
              "    </tr>\n",
              "  </tbody>\n",
              "</table>\n",
              "</div>"
            ],
            "text/plain": [
              "                          description  ... running_quantity\n",
              "0   WORLD WAR 2 GLIDERS ASSTD DESIGNS  ...         0.999031\n",
              "1  WHITE HANGING HEART T-LIGHT HOLDER  ...         1.870524\n",
              "2         PAPER CRAFT , LITTLE BIRDIE  ...         2.639802\n",
              "\n",
              "[3 rows x 5 columns]"
            ]
          },
          "metadata": {},
          "execution_count": 27
        }
      ]
    },
    {
      "cell_type": "code",
      "metadata": {
        "id": "hqZWts1-oVlJ"
      },
      "source": [
        "def quantity(x):\n",
        "    # допиши функцию\n",
        "    if x <= 80:\n",
        "        return 'A'\n",
        "    elif x <= 95:\n",
        "        return 'B'\n",
        "    else:\n",
        "        return 'C'\n",
        "\n",
        "# создай новый столбец popularity с помощью функции\n",
        "popular_products['popularity'] = popular_products.running_quantity.apply(quantity)"
      ],
      "execution_count": 28,
      "outputs": []
    },
    {
      "cell_type": "code",
      "metadata": {
        "id": "BKV4oPrGoVlJ",
        "colab": {
          "base_uri": "https://localhost:8080/"
        },
        "outputId": "aee865b3-9a81-4572-ba14-e5f8b21f4b39"
      },
      "source": [
        "popular_products.popularity.value_counts()"
      ],
      "execution_count": 29,
      "outputs": [
        {
          "output_type": "execute_result",
          "data": {
            "text/plain": [
              "C    2905\n",
              "B    1251\n",
              "A    1159\n",
              "Name: popularity, dtype: int64"
            ]
          },
          "metadata": {},
          "execution_count": 29
        }
      ]
    },
    {
      "cell_type": "code",
      "metadata": {
        "colab": {
          "base_uri": "https://localhost:8080/"
        },
        "id": "t4vplHw387iL",
        "outputId": "9127042b-6f83-42ce-d72d-4cdf7c240273"
      },
      "source": [
        "popular_products.popularity.value_counts(normalize=True)"
      ],
      "execution_count": 30,
      "outputs": [
        {
          "output_type": "execute_result",
          "data": {
            "text/plain": [
              "C    0.546566\n",
              "B    0.235372\n",
              "A    0.218062\n",
              "Name: popularity, dtype: float64"
            ]
          },
          "metadata": {},
          "execution_count": 30
        }
      ]
    },
    {
      "cell_type": "markdown",
      "metadata": {
        "id": "GpdRHaB1oVlJ"
      },
      "source": [
        "## Задание 6\n",
        "\n",
        "__Объедини группы и проанализируй__\n",
        "\n",
        "1. Создай серию `group` с объединенным столбцом отметок популярности и доходности товаров\n",
        "2. Посчитай количество вхождений каждой сгруппированной пары\n",
        "3. Какие группы непопулярны и приносят мало дохода?\n",
        "4. На каких группах товаров нужно сфокусироваться при составлении плана закупок?"
      ]
    },
    {
      "cell_type": "code",
      "metadata": {
        "colab": {
          "base_uri": "https://localhost:8080/"
        },
        "id": "TKWS1CJR99_w",
        "outputId": "d2e2d625-3c07-4e8a-9c88-213977be0d21"
      },
      "source": [
        "rev_df.shape"
      ],
      "execution_count": 31,
      "outputs": [
        {
          "output_type": "execute_result",
          "data": {
            "text/plain": [
              "(5315, 7)"
            ]
          },
          "metadata": {},
          "execution_count": 31
        }
      ]
    },
    {
      "cell_type": "code",
      "metadata": {
        "id": "iN0Qnm0ZoVlJ",
        "colab": {
          "base_uri": "https://localhost:8080/",
          "height": 143
        },
        "outputId": "4995c4e4-4e0f-4cdf-b91f-1e5234125268"
      },
      "source": [
        "# напиши здесь код и комментарии\n",
        "prod = pd.DataFrame()\n",
        "prod = pd.merge(rev_df[['description', 'stock_code', 'prod_rank']],\n",
        "                popular_products[['description', 'stock_code', 'popularity']],\n",
        "                on=['description', 'stock_code'],\n",
        "                how='inner')\n",
        "prod.head(3)"
      ],
      "execution_count": 32,
      "outputs": [
        {
          "output_type": "execute_result",
          "data": {
            "text/html": [
              "<div>\n",
              "<style scoped>\n",
              "    .dataframe tbody tr th:only-of-type {\n",
              "        vertical-align: middle;\n",
              "    }\n",
              "\n",
              "    .dataframe tbody tr th {\n",
              "        vertical-align: top;\n",
              "    }\n",
              "\n",
              "    .dataframe thead th {\n",
              "        text-align: right;\n",
              "    }\n",
              "</style>\n",
              "<table border=\"1\" class=\"dataframe\">\n",
              "  <thead>\n",
              "    <tr style=\"text-align: right;\">\n",
              "      <th></th>\n",
              "      <th>description</th>\n",
              "      <th>stock_code</th>\n",
              "      <th>prod_rank</th>\n",
              "      <th>popularity</th>\n",
              "    </tr>\n",
              "  </thead>\n",
              "  <tbody>\n",
              "    <tr>\n",
              "      <th>0</th>\n",
              "      <td>REGENCY CAKESTAND 3 TIER</td>\n",
              "      <td>22423</td>\n",
              "      <td>A</td>\n",
              "      <td>A</td>\n",
              "    </tr>\n",
              "    <tr>\n",
              "      <th>1</th>\n",
              "      <td>WHITE HANGING HEART T-LIGHT HOLDER</td>\n",
              "      <td>85123A</td>\n",
              "      <td>A</td>\n",
              "      <td>A</td>\n",
              "    </tr>\n",
              "    <tr>\n",
              "      <th>2</th>\n",
              "      <td>PAPER CRAFT , LITTLE BIRDIE</td>\n",
              "      <td>23843</td>\n",
              "      <td>A</td>\n",
              "      <td>A</td>\n",
              "    </tr>\n",
              "  </tbody>\n",
              "</table>\n",
              "</div>"
            ],
            "text/plain": [
              "                          description stock_code prod_rank popularity\n",
              "0            REGENCY CAKESTAND 3 TIER      22423         A          A\n",
              "1  WHITE HANGING HEART T-LIGHT HOLDER     85123A         A          A\n",
              "2         PAPER CRAFT , LITTLE BIRDIE      23843         A          A"
            ]
          },
          "metadata": {},
          "execution_count": 32
        }
      ]
    },
    {
      "cell_type": "code",
      "metadata": {
        "id": "hdnkAub0-wv3"
      },
      "source": [
        "prod['rating'] = prod.prod_rank + prod.popularity"
      ],
      "execution_count": 33,
      "outputs": []
    },
    {
      "cell_type": "code",
      "metadata": {
        "colab": {
          "base_uri": "https://localhost:8080/"
        },
        "id": "mp5x9kLB-6P9",
        "outputId": "70ee8e88-474c-4a28-ec37-c12eefac02ae"
      },
      "source": [
        "prod.rating.value_counts()"
      ],
      "execution_count": 34,
      "outputs": [
        {
          "output_type": "execute_result",
          "data": {
            "text/plain": [
              "CC    2419\n",
              "AA     776\n",
              "BB     636\n",
              "BC     412\n",
              "CB     327\n",
              "BA     319\n",
              "AB     288\n",
              "AC      74\n",
              "CA      64\n",
              "Name: rating, dtype: int64"
            ]
          },
          "metadata": {},
          "execution_count": 34
        }
      ]
    },
    {
      "cell_type": "code",
      "metadata": {
        "colab": {
          "base_uri": "https://localhost:8080/",
          "height": 175
        },
        "id": "RVmCp2RG_WWl",
        "outputId": "40753026-f2d1-488c-af6a-788859167a34"
      },
      "source": [
        "prod_pivot = prod.pivot_table(index='prod_rank',\n",
        "                              columns='popularity',\n",
        "                              values='description',\n",
        "                              aggfunc='count')\n",
        "\n",
        "prod_pivot"
      ],
      "execution_count": 35,
      "outputs": [
        {
          "output_type": "execute_result",
          "data": {
            "text/html": [
              "<div>\n",
              "<style scoped>\n",
              "    .dataframe tbody tr th:only-of-type {\n",
              "        vertical-align: middle;\n",
              "    }\n",
              "\n",
              "    .dataframe tbody tr th {\n",
              "        vertical-align: top;\n",
              "    }\n",
              "\n",
              "    .dataframe thead th {\n",
              "        text-align: right;\n",
              "    }\n",
              "</style>\n",
              "<table border=\"1\" class=\"dataframe\">\n",
              "  <thead>\n",
              "    <tr style=\"text-align: right;\">\n",
              "      <th>popularity</th>\n",
              "      <th>A</th>\n",
              "      <th>B</th>\n",
              "      <th>C</th>\n",
              "    </tr>\n",
              "    <tr>\n",
              "      <th>prod_rank</th>\n",
              "      <th></th>\n",
              "      <th></th>\n",
              "      <th></th>\n",
              "    </tr>\n",
              "  </thead>\n",
              "  <tbody>\n",
              "    <tr>\n",
              "      <th>A</th>\n",
              "      <td>776</td>\n",
              "      <td>288</td>\n",
              "      <td>74</td>\n",
              "    </tr>\n",
              "    <tr>\n",
              "      <th>B</th>\n",
              "      <td>319</td>\n",
              "      <td>636</td>\n",
              "      <td>412</td>\n",
              "    </tr>\n",
              "    <tr>\n",
              "      <th>C</th>\n",
              "      <td>64</td>\n",
              "      <td>327</td>\n",
              "      <td>2419</td>\n",
              "    </tr>\n",
              "  </tbody>\n",
              "</table>\n",
              "</div>"
            ],
            "text/plain": [
              "popularity    A    B     C\n",
              "prod_rank                 \n",
              "A           776  288    74\n",
              "B           319  636   412\n",
              "C            64  327  2419"
            ]
          },
          "metadata": {},
          "execution_count": 35
        }
      ]
    },
    {
      "cell_type": "code",
      "metadata": {
        "colab": {
          "base_uri": "https://localhost:8080/",
          "height": 332
        },
        "id": "59SgQfW1_7n8",
        "outputId": "bf074819-7d6e-4bed-e65b-34144cea32ec"
      },
      "source": [
        "f, ax = plt.subplots(figsize=(10, 5)) # создадим фигуру и оси\n",
        "                     \n",
        "sns.heatmap(prod_pivot, \n",
        "            annot=True,\n",
        "            cmap=\"YlGnBu\",\n",
        "            fmt='g',\n",
        "            annot_kws={'size':12}) # вручную зададим размер шрифта в ячейках\n",
        "            \n",
        "# plt.title(\"RFM-анализ\")            \n",
        "plt.yticks(rotation=0) # вручную зададим угол подписей\n",
        "ax.xaxis.set_ticks_position('top') # укажем, что подписи колонок должны быть наверху\n",
        "ax.xaxis.set_label_position('top') # укажем, что подпись оси x должна быть наверху\n",
        "            \n",
        "\n",
        "plt.ylabel(\"Выручка\")\n",
        "plt.xlabel(\"Популярность\")\n",
        "plt.show()"
      ],
      "execution_count": 36,
      "outputs": [
        {
          "output_type": "display_data",
          "data": {
            "image/png": "[encoded data removed]",
            "text/plain": [
              "<Figure size 720x360 with 2 Axes>"
            ]
          },
          "metadata": {
            "needs_background": "light"
          }
        }
      ]
    },
    {
      "cell_type": "markdown",
      "metadata": {
        "id": "9Iiu8wnDoVlK"
      },
      "source": [
        "## Задание 7\n",
        "\n",
        "__Выгрузи данные по товарам с меткой по ABC-анализу__\n",
        "\n",
        "1. Объедини по `stock_code` в одной таблице `ABC-код`, описание товара и `ID `\n",
        "\n",
        "2. Выгрузи таблицу в `csv` для отправки в отдел закупок"
      ]
    },
    {
      "cell_type": "markdown",
      "metadata": {
        "id": "4eOCqjttoVlK"
      },
      "source": [
        "# 🎉🎉🎉 Поздравляем, ты великолепен! "
      ]
    }
  ]
}